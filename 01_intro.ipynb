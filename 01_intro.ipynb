{
 "cells": [
  {
   "cell_type": "markdown",
   "source": [
    "Installation. In Julia REPL this can be done easier using the packaging mode\n",
    "(typing `]add COBREXA`)"
   ],
   "metadata": {}
  },
  {
   "outputs": [
    {
     "name": "stdout",
     "output_type": "stream",
     "text": [
      "   Resolving package versions...\n",
      "  No Changes to `~/.julia/environments/v1.9/Project.toml`\n",
      "  No Changes to `~/.julia/environments/v1.9/Manifest.toml`\n"
     ]
    }
   ],
   "cell_type": "code",
   "source": [
    "import Pkg\n",
    "Pkg.add(\"COBREXA\")\n",
    "\n",
    "using COBREXA"
   ],
   "metadata": {},
   "execution_count": 1
  },
  {
   "cell_type": "markdown",
   "source": [
    "Let's first get a simple model to have a look at"
   ],
   "metadata": {}
  },
  {
   "outputs": [
    {
     "output_type": "execute_result",
     "data": {
      "text/plain": "\"e_coli_core.json\""
     },
     "metadata": {},
     "execution_count": 2
    }
   ],
   "cell_type": "code",
   "source": [
    "import Downloads\n",
    "Downloads.download(\n",
    "    \"http://bigg.ucsd.edu/static/models/e_coli_core.json\",\n",
    "    \"e_coli_core.json\",\n",
    ")"
   ],
   "metadata": {},
   "execution_count": 2
  },
  {
   "cell_type": "markdown",
   "source": [
    "Load the model"
   ],
   "metadata": {}
  },
  {
   "outputs": [],
   "cell_type": "code",
   "source": [
    "ecoli = load_model(\"e_coli_core.json\");"
   ],
   "metadata": {},
   "execution_count": 3
  },
  {
   "cell_type": "markdown",
   "source": [
    "have a look at what the model contains. First, metabolites"
   ],
   "metadata": {}
  },
  {
   "outputs": [
    {
     "output_type": "execute_result",
     "data": {
      "text/plain": "72-element Vector{String}:\n \"glc__D_e\"\n \"gln__L_c\"\n \"gln__L_e\"\n \"glu__L_c\"\n \"glu__L_e\"\n \"glx_c\"\n \"h2o_c\"\n \"h2o_e\"\n \"h_c\"\n \"h_e\"\n ⋮\n \"f6p_c\"\n \"fdp_c\"\n \"for_c\"\n \"for_e\"\n \"fru_e\"\n \"fum_c\"\n \"fum_e\"\n \"g3p_c\"\n \"g6p_c\""
     },
     "metadata": {},
     "execution_count": 4
    }
   ],
   "cell_type": "code",
   "source": [
    "metabolites(ecoli)"
   ],
   "metadata": {},
   "execution_count": 4
  },
  {
   "cell_type": "markdown",
   "source": [
    "reactions"
   ],
   "metadata": {}
  },
  {
   "outputs": [
    {
     "output_type": "execute_result",
     "data": {
      "text/plain": "95-element Vector{String}:\n \"PFK\"\n \"PFL\"\n \"PGI\"\n \"PGK\"\n \"PGL\"\n \"ACALD\"\n \"AKGt2r\"\n \"PGM\"\n \"PIt2r\"\n \"ALCD2x\"\n ⋮\n \"MALt2_2\"\n \"MDH\"\n \"ME1\"\n \"ME2\"\n \"NADH16\"\n \"NADTRHD\"\n \"NH4t\"\n \"O2t\"\n \"PDH\""
     },
     "metadata": {},
     "execution_count": 5
    }
   ],
   "cell_type": "code",
   "source": [
    "reactions(ecoli)"
   ],
   "metadata": {},
   "execution_count": 5
  },
  {
   "cell_type": "markdown",
   "source": [
    "we can have a look at what each reaction does"
   ],
   "metadata": {}
  },
  {
   "outputs": [
    {
     "output_type": "execute_result",
     "data": {
      "text/plain": "Dict{String, Float64} with 5 entries:\n  \"adp_c\" => 1.0\n  \"atp_c\" => -1.0\n  \"f6p_c\" => -1.0\n  \"fdp_c\" => 1.0\n  \"h_c\"   => 1.0"
     },
     "metadata": {},
     "execution_count": 6
    }
   ],
   "cell_type": "code",
   "source": [
    "reaction_stoichiometry(ecoli, \"PFK\")"
   ],
   "metadata": {},
   "execution_count": 6
  },
  {
   "cell_type": "markdown",
   "source": [
    "or look at which metabolites belong to which compartments (Julia looping!)"
   ],
   "metadata": {}
  },
  {
   "outputs": [
    {
     "output_type": "execute_result",
     "data": {
      "text/plain": "72-element Vector{Pair{String, String}}:\n \"glc__D_e\" => \"e\"\n \"gln__L_c\" => \"c\"\n \"gln__L_e\" => \"e\"\n \"glu__L_c\" => \"c\"\n \"glu__L_e\" => \"e\"\n    \"glx_c\" => \"c\"\n    \"h2o_c\" => \"c\"\n    \"h2o_e\" => \"e\"\n      \"h_c\" => \"c\"\n      \"h_e\" => \"e\"\n            ⋮\n    \"f6p_c\" => \"c\"\n    \"fdp_c\" => \"c\"\n    \"for_c\" => \"c\"\n    \"for_e\" => \"e\"\n    \"fru_e\" => \"e\"\n    \"fum_c\" => \"c\"\n    \"fum_e\" => \"e\"\n    \"g3p_c\" => \"c\"\n    \"g6p_c\" => \"c\""
     },
     "metadata": {},
     "execution_count": 7
    }
   ],
   "cell_type": "code",
   "source": [
    "[m => metabolite_compartment(ecoli, m) for m in metabolites(ecoli)]"
   ],
   "metadata": {},
   "execution_count": 7
  },
  {
   "cell_type": "markdown",
   "source": [
    "or try to get human-readable names from the reactions"
   ],
   "metadata": {}
  },
  {
   "outputs": [
    {
     "output_type": "execute_result",
     "data": {
      "text/plain": "95-element Vector{Pair{String, String}}:\n    \"ACALD\" => \"Acetaldehyde dehydrogenase (acetylating)\"\n   \"ACALDt\" => \"Acetaldehyde reversible transport\"\n     \"ACKr\" => \"Acetate kinase\"\n   \"ACONTa\" => \"Aconitase (half-reaction A, Citrate hydro-lyase)\"\n   \"ACONTb\" => \"Aconitase (half-reaction B, Isocitrate hydro-lyase)\"\n    \"ACt2r\" => \"Acetate reversible transport via proton symport\"\n     \"ADK1\" => \"Adenylate kinase\"\n    \"AKGDH\" => \"2-Oxogluterate dehydrogenase\"\n   \"AKGt2r\" => \"2 oxoglutarate reversible transport via symport\"\n   \"ALCD2x\" => \"Alcohol dehydrogenase (ethanol)\"\n            ⋮\n \"SUCCt2_2\" => \"Succinate transport via proton symport (2 H)\"\n   \"SUCCt3\" => \"Succinate transport out via proton antiport\"\n    \"SUCDi\" => \"Succinate dehydrogenase (irreversible)\"\n   \"SUCOAS\" => \"Succinyl-CoA synthetase (ADP-forming)\"\n     \"TALA\" => \"Transaldolase\"\n     \"THD2\" => \"NAD(P) transhydrogenase\"\n     \"TKT1\" => \"Transketolase\"\n     \"TKT2\" => \"Transketolase\"\n      \"TPI\" => \"Triose-phosphate isomerase\""
     },
     "metadata": {},
     "execution_count": 8
    }
   ],
   "cell_type": "code",
   "source": [
    "sort([r => reaction_name(ecoli, r) for r in reactions(ecoli)])"
   ],
   "metadata": {},
   "execution_count": 8
  },
  {
   "cell_type": "markdown",
   "source": [
    "this is useful to e.g. quickly look up dehumanized gene IDs"
   ],
   "metadata": {}
  },
  {
   "outputs": [
    {
     "output_type": "execute_result",
     "data": {
      "text/plain": "137-element Vector{Pair{String, String}}:\n     \"\" => \"s0001\"\n \"aceA\" => \"b4015\"\n \"aceB\" => \"b4014\"\n \"aceE\" => \"b0114\"\n \"aceF\" => \"b0115\"\n \"ackA\" => \"b2296\"\n \"acnA\" => \"b1276\"\n \"acnB\" => \"b0118\"\n \"adhE\" => \"b1241\"\n \"adhP\" => \"b1478\"\n        ⋮\n \"talB\" => \"b0008\"\n \"tdcD\" => \"b3115\"\n \"tdcE\" => \"b3114\"\n \"tktA\" => \"b2935\"\n \"tktB\" => \"b2465\"\n \"tpiA\" => \"b3919\"\n \"ydjI\" => \"b1773\"\n \"ytjC\" => \"b4395\"\n  \"zwf\" => \"b1852\""
     },
     "metadata": {},
     "execution_count": 9
    }
   ],
   "cell_type": "code",
   "source": [
    "gs = genes(ecoli)\n",
    "sort(gene_name.(Ref(ecoli), gs) .=> gs)"
   ],
   "metadata": {},
   "execution_count": 9
  },
  {
   "cell_type": "markdown",
   "source": [
    "the model's internals are described by a bipartite graph between reactions\n",
    "and metabolites, commonly stoichiometry"
   ],
   "metadata": {}
  },
  {
   "outputs": [
    {
     "output_type": "execute_result",
     "data": {
      "text/plain": "72×95 SparseArrays.SparseMatrixCSC{Float64, Int64} with 360 stored entries:\n⎡⠀⠀⠀⠀⠀⠀⠀⠀⠀⠀⠆⠀⠀⠀⠀⠀⠀⠀⠀⠀⠀⠈⢄⠀⠀⠀⠀⠀⠀⠀⠈⠶⠴⡆⠀⠀⠀⠀⠀⠀⎤\n⎢⡀⢐⣀⢀⡀⡒⢒⣐⠀⣂⣂⠀⣂⣂⢂⠀⢀⠀⠀⠀⠀⠀⢀⠄⠀⠀⠀⢂⠀⢂⣀⣐⡒⡀⠆⢙⣀⠀⡀⠀⎥\n⎢⠀⠀⠀⠀⠀⠀⠁⠀⠀⠀⠀⠀⠀⠰⠀⠀⠀⠀⠀⠀⠀⠀⠀⠠⠀⠀⠀⠀⠀⡀⠀⠀⠀⠀⠈⢑⣀⣀⠀⠀⎥\n⎢⠀⠀⠃⠀⠃⠀⠀⠀⠘⠀⡇⠀⠀⠀⠀⠀⢸⠀⠀⠀⠀⠀⠀⠀⠁⠀⠀⠀⠀⠀⡜⠀⡄⣤⢠⠘⠙⢣⡇⠘⎥\n⎢⠀⠐⠀⡀⠀⠀⠀⠀⠀⠀⠀⠀⠀⠄⡀⠀⠀⠀⠀⠀⠀⠀⠀⠀⠐⠀⠀⠀⠀⠀⠐⠁⠉⠀⠀⠀⠀⠀⠘⠄⎥\n⎢⠀⢐⠀⠂⠀⠄⠠⠠⠀⠠⠆⠀⠄⠀⠄⠀⠀⠀⠀⠀⠀⠀⠀⠀⠀⠁⠀⠀⠠⠀⠠⠀⠀⢀⠀⠀⠠⠀⠀⠁⎥\n⎢⢀⠐⠀⠨⢀⠁⠈⣈⠀⢁⣁⠀⠀⠀⠀⠈⠀⠀⠀⠀⠀⠀⠀⠀⠀⠄⠀⠁⢀⠀⢊⠉⠀⠀⠀⢀⠀⣀⠀⢀⎥\n⎢⠀⠀⠀⠀⠀⠀⠀⠀⠀⠀⡈⠀⡀⠆⠀⠆⠀⡀⠀⠀⠀⠀⠀⠀⠀⠈⠀⠀⠆⠀⠀⠀⠀⠀⠀⠀⠀⠀⠆⠀⎥\n⎢⠀⠀⠂⠀⡂⠀⠀⠁⠀⠀⠀⠈⠁⠀⠀⠀⠄⠄⢁⠀⠀⠀⠀⠀⠀⠀⠀⠀⠀⠀⠀⠀⠀⠈⠀⠀⠀⠀⠀⠀⎥\n⎢⠈⠀⠁⠀⠀⢀⡀⠀⠠⠁⠁⠀⠑⠀⠐⠲⠀⠀⠀⠀⠀⠀⠀⠀⠀⠀⠂⠀⠂⠀⠀⠀⠀⠀⠀⠊⠀⠀⠀⠈⎥\n⎢⠄⠠⢠⠀⠰⠀⠠⠀⠤⠦⠄⠈⠀⠀⠀⠠⠀⠁⠀⡀⠀⠀⠀⠀⠀⠀⠀⠀⠀⠀⠀⠤⠄⠄⠠⠀⠀⠀⠀⠀⎥\n⎢⠂⠐⠀⠀⠐⡠⢐⠘⢃⠒⠂⡀⠄⠀⠀⠐⠀⠀⠀⢀⠀⠀⠀⠀⠀⠀⠀⠀⠀⠀⠀⠒⠀⢀⢀⠀⠀⣀⠀⢀⎥\n⎢⠈⠀⠁⠀⡀⠀⠀⠀⠈⠁⠅⠀⠁⠀⢀⠈⠄⠔⠀⠀⠀⠀⠀⠀⠀⠀⠐⠀⠀⠀⠀⠀⠀⠀⠀⠈⠀⠀⠀⠈⎥\n⎢⠣⠁⠀⠀⠀⠀⠀⠀⠀⠀⠁⠀⠀⠀⠈⠀⠁⠁⠀⠈⡀⠀⠀⠀⠀⠀⠐⢣⠈⠀⠀⠀⠀⠀⠀⠀⠀⠀⠀⠀⎥\n⎣⠀⡀⠀⠀⠀⠀⠀⠀⠀⠀⡄⠀⠀⠀⠀⠂⠄⠤⠀⠀⠈⠂⠀⠀⠀⠀⠠⠀⠊⠒⣠⠀⠀⠀⠀⠀⠀⠀⠀⠀⎦"
     },
     "metadata": {},
     "execution_count": 10
    }
   ],
   "cell_type": "code",
   "source": [
    "stoichiometry(ecoli)"
   ],
   "metadata": {},
   "execution_count": 10
  },
  {
   "cell_type": "markdown",
   "source": [
    "(the matrix is likely zoomed out, but otherwise it's a normal matrix)"
   ],
   "metadata": {}
  },
  {
   "cell_type": "markdown",
   "source": [
    "Let's try to build a tiny custom model\n",
    "ref: https://lcsb-biocore.github.io/COBREXA.jl/stable/examples/04b_standardmodel_construction/\n",
    "The model we will try to recreate looks like this small metabolic network:\n",
    "\n",
    "![toy model](img/toy_model.png)"
   ],
   "metadata": {}
  },
  {
   "cell_type": "markdown",
   "source": [
    "The model type for \"manually constructed\" models we call a `StandardModel`\n",
    "because it is kinda standard way to handle stuff in cobra community.\n",
    "Technically we can convert the above model to StandardModel and play with it:"
   ],
   "metadata": {}
  },
  {
   "outputs": [
    {
     "output_type": "execute_result",
     "data": {
      "text/plain": "0.5"
     },
     "metadata": {},
     "execution_count": 11
    }
   ],
   "cell_type": "code",
   "source": [
    "ecoli = convert(StandardModel, ecoli)\n",
    "ecoli.reactions[\"PFK\"]\n",
    "ecoli.reactions[\"PFK\"].lb = 0.5"
   ],
   "metadata": {},
   "execution_count": 11
  },
  {
   "cell_type": "markdown",
   "source": [
    "But we want to make a completely custom model"
   ],
   "metadata": {}
  },
  {
   "outputs": [
    {
     "output_type": "execute_result",
     "data": {
      "text/plain": "Metabolic model of type COBREXA.StandardModel\nsparse(Int64[], Int64[], Float64[], 0, 0)\nNumber of reactions: 0\nNumber of metabolites: 0\n"
     },
     "metadata": {},
     "execution_count": 12
    }
   ],
   "cell_type": "code",
   "source": [
    "model = StandardModel(\"MyModel\")"
   ],
   "metadata": {},
   "execution_count": 12
  },
  {
   "cell_type": "markdown",
   "source": [
    "let's make some metabolites"
   ],
   "metadata": {}
  },
  {
   "outputs": [
    {
     "output_type": "execute_result",
     "data": {
      "text/plain": "Metabolite.id: c\nMetabolite.name: ---\nMetabolite.formula: ---\nMetabolite.charge: ---\nMetabolite.compartment: ---\nMetabolite.notes: ---\nMetabolite.annotations: ---\n"
     },
     "metadata": {},
     "execution_count": 13
    }
   ],
   "cell_type": "code",
   "source": [
    "a = Metabolite(\"a\", name = \"molecule A\", formula = \"H2O\", compartment = \"outside\")\n",
    "b = Metabolite(\"b\") #details omitted for demonstration\n",
    "c = Metabolite(\"c\")"
   ],
   "metadata": {},
   "execution_count": 13
  },
  {
   "cell_type": "markdown",
   "source": [
    "Push the prepared metabolites into the model (the ! stands for \"execute!\", it\n",
    "is a syntactic convention for warning that the function changes some of the\n",
    "parameters (the model) in place)"
   ],
   "metadata": {}
  },
  {
   "outputs": [],
   "cell_type": "code",
   "source": [
    "add_metabolites!(model, [a, b, c])"
   ],
   "metadata": {},
   "execution_count": 14
  },
  {
   "cell_type": "markdown",
   "source": [
    "let's make some reactions"
   ],
   "metadata": {}
  },
  {
   "outputs": [],
   "cell_type": "code",
   "source": [
    "b1 = Reaction(\"b1\", lb = 0.0, ub = 10.0);\n",
    "b1.metabolites = Dict(\"a\" => 1);\n",
    "\n",
    "b2 = Reaction(\"b2\", lb = 0.0, ub = 10.0);\n",
    "b2.metabolites = Dict(\"b\" => -1);\n",
    "\n",
    "b3 = Reaction(\"b3\", lb = 0.0, ub = 10.0);\n",
    "b3.metabolites = Dict(\"c\" => -1);"
   ],
   "metadata": {},
   "execution_count": 15
  },
  {
   "cell_type": "markdown",
   "source": [
    "add the reactions to the model"
   ],
   "metadata": {}
  },
  {
   "outputs": [],
   "cell_type": "code",
   "source": [
    "add_reactions!(model, [b1, b2, b3])"
   ],
   "metadata": {},
   "execution_count": 16
  },
  {
   "cell_type": "markdown",
   "source": [
    "shortcut for the above, makes an array of 3 reactions at once"
   ],
   "metadata": {}
  },
  {
   "outputs": [
    {
     "output_type": "execute_result",
     "data": {
      "text/plain": "4-element Vector{COBREXA.Reaction}:\n COBREXA.Reaction(\"v1\", nothing, Dict{String, Float64}(), 0.0, 10.0, nothing, nothing, Dict{String, Vector{String}}(), Dict{String, Vector{String}}(), 0.0)\n COBREXA.Reaction(\"v2\", nothing, Dict{String, Float64}(), 0.0, 10.0, nothing, nothing, Dict{String, Vector{String}}(), Dict{String, Vector{String}}(), 0.0)\n COBREXA.Reaction(\"v3\", nothing, Dict{String, Float64}(), 0.0, 10.0, nothing, nothing, Dict{String, Vector{String}}(), Dict{String, Vector{String}}(), 0.0)\n COBREXA.Reaction(\"v4\", nothing, Dict{String, Float64}(), 0.0, 10.0, nothing, nothing, Dict{String, Vector{String}}(), Dict{String, Vector{String}}(), 0.0)"
     },
     "metadata": {},
     "execution_count": 17
    }
   ],
   "cell_type": "code",
   "source": [
    "list_of_reactions = [Reaction(\"v$i\", lb = 0.0, ub = 10.0) for i = 1:4]"
   ],
   "metadata": {},
   "execution_count": 17
  },
  {
   "cell_type": "markdown",
   "source": [
    "...and we can fill them in"
   ],
   "metadata": {}
  },
  {
   "outputs": [
    {
     "output_type": "execute_result",
     "data": {
      "text/plain": "Dict{String, Int64} with 2 entries:\n  \"c\" => -1\n  \"b\" => 1"
     },
     "metadata": {},
     "execution_count": 18
    }
   ],
   "cell_type": "code",
   "source": [
    "list_of_reactions[1].metabolites = Dict(\"a\" => -1, \"b\" => 1)\n",
    "list_of_reactions[2].metabolites = Dict(\"a\" => -1, \"c\" => 1)\n",
    "list_of_reactions[3].metabolites = Dict(\"a\" => 1, \"c\" => -1)\n",
    "list_of_reactions[4].metabolites = Dict(\"b\" => 1, \"c\" => -1)"
   ],
   "metadata": {},
   "execution_count": 18
  },
  {
   "cell_type": "markdown",
   "source": [
    "We can have a look at individual reactions; this also formats them nicely as actual reactions."
   ],
   "metadata": {}
  },
  {
   "outputs": [
    {
     "output_type": "execute_result",
     "data": {
      "text/plain": "Reaction.id: v1\nReaction.name: ---\nReaction.metabolites: 1.0 a →  1.0 b\nReaction.lb: 0.0\nReaction.ub: 10.0\nReaction.grr: ---\nReaction.subsystem: ---\nReaction.notes: ---\nReaction.annotations: ---\nReaction.objective_coefficient: 0.0\n"
     },
     "metadata": {},
     "execution_count": 19
    }
   ],
   "cell_type": "code",
   "source": [
    "list_of_reactions[1]"
   ],
   "metadata": {},
   "execution_count": 19
  },
  {
   "cell_type": "markdown",
   "source": [
    "add the reactions to the model"
   ],
   "metadata": {}
  },
  {
   "outputs": [],
   "cell_type": "code",
   "source": [
    "add_reactions!(model, list_of_reactions)"
   ],
   "metadata": {},
   "execution_count": 20
  },
  {
   "cell_type": "markdown",
   "source": [
    "let's have a look at what it looks like as a matrix"
   ],
   "metadata": {}
  },
  {
   "outputs": [
    {
     "output_type": "execute_result",
     "data": {
      "text/plain": "3×7 SparseArrays.SparseMatrixCSC{Float64, Int64} with 11 stored entries:\n 1.0    ⋅     ⋅   -1.0  -1.0   1.0    ⋅ \n  ⋅   -1.0    ⋅    1.0    ⋅     ⋅    1.0\n  ⋅     ⋅   -1.0    ⋅    1.0  -1.0  -1.0"
     },
     "metadata": {},
     "execution_count": 21
    }
   ],
   "cell_type": "code",
   "source": [
    "stoichiometry(model)"
   ],
   "metadata": {},
   "execution_count": 21
  },
  {
   "cell_type": "markdown",
   "source": [
    "Now let's try to numerically solve the model. First, we need a linear solver;\n",
    "GLPK will do a good job for this purpose. Other alternatives include Tulip\n",
    "(native interior-point solver), OSQP and Clarabel (for quadratic problems),\n",
    "SCIP (free and fast), Clp, and very good commercial solvers include Gurobi\n",
    "and CPLEX (you will need to install the licenses for these manually)."
   ],
   "metadata": {}
  },
  {
   "outputs": [
    {
     "name": "stdout",
     "output_type": "stream",
     "text": [
      "   Resolving package versions...\n",
      "  No Changes to `~/.julia/environments/v1.9/Project.toml`\n",
      "  No Changes to `~/.julia/environments/v1.9/Manifest.toml`\n"
     ]
    }
   ],
   "cell_type": "code",
   "source": [
    "Pkg.add(\"GLPK\")\n",
    "using GLPK"
   ],
   "metadata": {},
   "execution_count": 22
  },
  {
   "cell_type": "markdown",
   "source": [
    "\"Solving\" the model is finding optimum with respect to some reaction, thus we\n",
    "first need to choose the objective that the solver should actually optimize.\n",
    "Here, let's maximize the flux through the reaction \"v1\"."
   ],
   "metadata": {}
  },
  {
   "outputs": [],
   "cell_type": "code",
   "source": [
    "change_objective!(model, \"v1\")"
   ],
   "metadata": {},
   "execution_count": 23
  },
  {
   "cell_type": "markdown",
   "source": [
    "You can observe the result in the model reactions' objective coefficients\n",
    "(and fine-tune that manually if needed):"
   ],
   "metadata": {}
  },
  {
   "outputs": [
    {
     "output_type": "execute_result",
     "data": {
      "text/plain": "1.0"
     },
     "metadata": {},
     "execution_count": 24
    }
   ],
   "cell_type": "code",
   "source": [
    "model.reactions[\"v1\"].objective_coefficient"
   ],
   "metadata": {},
   "execution_count": 24
  },
  {
   "cell_type": "markdown",
   "source": [
    "Flux balance analysis finds a steady state flux through the model which is\n",
    "within the reaction flux lower and upper bounds:"
   ],
   "metadata": {}
  },
  {
   "outputs": [
    {
     "output_type": "execute_result",
     "data": {
      "text/plain": "A JuMP Model\nMaximization problem with:\nVariables: 7\nObjective function type: JuMP.AffExpr\n`JuMP.AffExpr`-in-`MathOptInterface.EqualTo{Float64}`: 3 constraints\n`JuMP.AffExpr`-in-`MathOptInterface.LessThan{Float64}`: 14 constraints\nModel mode: AUTOMATIC\nCachingOptimizer state: ATTACHED_OPTIMIZER\nSolver name: GLPK\nNames registered in the model: lbs, mb, ubs, x"
     },
     "metadata": {},
     "execution_count": 25
    }
   ],
   "cell_type": "code",
   "source": [
    "model_solution = flux_balance_analysis(model, GLPK.Optimizer)"
   ],
   "metadata": {},
   "execution_count": 25
  },
  {
   "cell_type": "markdown",
   "source": [
    "The above returned a solved optimization model description. From that we can\n",
    "extract the actual value of the objective function:"
   ],
   "metadata": {}
  },
  {
   "outputs": [
    {
     "output_type": "execute_result",
     "data": {
      "text/plain": "10.0"
     },
     "metadata": {},
     "execution_count": 26
    }
   ],
   "cell_type": "code",
   "source": [
    "solved_objective_value(model_solution)"
   ],
   "metadata": {},
   "execution_count": 26
  },
  {
   "cell_type": "markdown",
   "source": [
    "...and the complete description of the flux through the reactions"
   ],
   "metadata": {}
  },
  {
   "outputs": [
    {
     "output_type": "execute_result",
     "data": {
      "text/plain": "7-element Vector{Float64}:\n 10.0\n 10.0\n  0.0\n 10.0\n  0.0\n  0.0\n  0.0"
     },
     "metadata": {},
     "execution_count": 27
    }
   ],
   "cell_type": "code",
   "source": [
    "flux_vector(model, model_solution)"
   ],
   "metadata": {},
   "execution_count": 27
  },
  {
   "cell_type": "markdown",
   "source": [
    "...or a little better as a dictionary"
   ],
   "metadata": {}
  },
  {
   "outputs": [
    {
     "output_type": "execute_result",
     "data": {
      "text/plain": "Dict{String, Float64} with 7 entries:\n  \"v4\" => 0.0\n  \"v2\" => 0.0\n  \"b3\" => 0.0\n  \"v1\" => 10.0\n  \"b2\" => 10.0\n  \"v3\" => 0.0\n  \"b1\" => 10.0"
     },
     "metadata": {},
     "execution_count": 28
    }
   ],
   "cell_type": "code",
   "source": [
    "solution_dict = flux_dict(model, model_solution)"
   ],
   "metadata": {},
   "execution_count": 28
  },
  {
   "cell_type": "markdown",
   "source": [
    "typically, one does all of this in one step with a shortcut function:"
   ],
   "metadata": {}
  },
  {
   "outputs": [
    {
     "output_type": "execute_result",
     "data": {
      "text/plain": "Dict{String, Float64} with 7 entries:\n  \"v4\" => 0.0\n  \"v2\" => 0.0\n  \"b3\" => 0.0\n  \"v1\" => 10.0\n  \"b2\" => 10.0\n  \"v3\" => 0.0\n  \"b1\" => 10.0"
     },
     "metadata": {},
     "execution_count": 29
    }
   ],
   "cell_type": "code",
   "source": [
    "flux_balance_analysis_dict(model, GLPK.Optimizer)"
   ],
   "metadata": {},
   "execution_count": 29
  },
  {
   "cell_type": "markdown",
   "source": [
    "As a check, we can verify that the amount of metabolites in the model indeed\n",
    "stays balanced; if the solver worked, this vector should be zero (or within\n",
    "the numerical tolerance of zero):"
   ],
   "metadata": {}
  },
  {
   "outputs": [
    {
     "output_type": "execute_result",
     "data": {
      "text/plain": "3-element Vector{Float64}:\n 0.0\n 0.0\n 0.0"
     },
     "metadata": {},
     "execution_count": 30
    }
   ],
   "cell_type": "code",
   "source": [
    "stoichiometry(model) * flux_vector(model, model_solution)"
   ],
   "metadata": {},
   "execution_count": 30
  },
  {
   "cell_type": "markdown",
   "source": [
    "Finally, it is very useful to be able to write the results to a file. In\n",
    "Julia, we simply make a DataFrame (which behaves just as dataframes in other\n",
    "languages) and use a CSV package to format it into a CSV file."
   ],
   "metadata": {}
  },
  {
   "outputs": [
    {
     "name": "stdout",
     "output_type": "stream",
     "text": [
      "   Resolving package versions...\n",
      "  No Changes to `~/.julia/environments/v1.9/Project.toml`\n",
      "  No Changes to `~/.julia/environments/v1.9/Manifest.toml`\n"
     ]
    },
    {
     "output_type": "execute_result",
     "data": {
      "text/plain": "\"toy_solution.csv\""
     },
     "metadata": {},
     "execution_count": 31
    }
   ],
   "cell_type": "code",
   "source": [
    "Pkg.add([\"DataFrames\", \"CSV\"])\n",
    "using DataFrames, CSV\n",
    "df = DataFrame(reaction = collect(keys(solution_dict)), flux = collect(values(solution_dict)))\n",
    "CSV.write(\"toy_solution.csv\", df)"
   ],
   "metadata": {},
   "execution_count": 31
  },
  {
   "cell_type": "markdown",
   "source": [
    "---\n",
    "\n",
    "*This notebook was generated using [Literate.jl](https://github.com/fredrikekre/Literate.jl).*"
   ],
   "metadata": {}
  }
 ],
 "nbformat_minor": 3,
 "metadata": {
  "language_info": {
   "file_extension": ".jl",
   "mimetype": "application/julia",
   "name": "julia",
   "version": "1.9.0"
  },
  "kernelspec": {
   "name": "julia-1.9",
   "display_name": "Julia 1.9.0",
   "language": "julia"
  }
 },
 "nbformat": 4
}
