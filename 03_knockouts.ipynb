{
 "cells": [
  {
   "outputs": [],
   "cell_type": "code",
   "source": [
    "using COBREXA"
   ],
   "metadata": {},
   "execution_count": 1
  },
  {
   "cell_type": "markdown",
   "source": [
    "Let's download and open the big model again"
   ],
   "metadata": {}
  },
  {
   "outputs": [],
   "cell_type": "code",
   "source": [
    "import Downloads\n",
    "Downloads.download(\"http://bigg.ucsd.edu/static/models/iJO1366.json\", \"ecoli.json\")\n",
    "m = load_model(StandardModel, \"ecoli.json\");"
   ],
   "metadata": {},
   "execution_count": 2
  },
  {
   "cell_type": "markdown",
   "source": [
    "Main reference is this:\n",
    "https://lcsb-biocore.github.io/COBREXA.jl/stable/examples/07_gene_deletion/\n",
    "\n",
    "Each reaction has a gene association, which dictates the gene products that\n",
    "need to be available so that the reaction can \"run\"."
   ],
   "metadata": {}
  },
  {
   "outputs": [
    {
     "output_type": "execute_result",
     "data": {
      "text/plain": "2-element Vector{Vector{String}}:\n [\"b1723\"]\n [\"b3916\"]"
     },
     "metadata": {},
     "execution_count": 3
    }
   ],
   "cell_type": "code",
   "source": [
    "genes(m)\n",
    "\n",
    "grr = reaction_gene_association(m, \"PFK\")"
   ],
   "metadata": {},
   "execution_count": 3
  },
  {
   "cell_type": "markdown",
   "source": [
    "The result is in DNF for (computational) simplicity; the rules can be\n",
    "converted e.g. to Strings for reading:"
   ],
   "metadata": {}
  },
  {
   "outputs": [
    {
     "output_type": "execute_result",
     "data": {
      "text/plain": "\"(b1723) || (b3916)\""
     },
     "metadata": {},
     "execution_count": 4
    }
   ],
   "cell_type": "code",
   "source": [
    "COBREXA._unparse_grr(String, grr)"
   ],
   "metadata": {},
   "execution_count": 4
  },
  {
   "cell_type": "markdown",
   "source": [
    "We might knock out genes by running through the reactions and evaluating DNF.\n",
    "The knockout is available as a modification for simplicity:"
   ],
   "metadata": {}
  },
  {
   "outputs": [
    {
     "output_type": "execute_result",
     "data": {
      "text/plain": "4.7967818666792276e-32"
     },
     "metadata": {},
     "execution_count": 5
    }
   ],
   "cell_type": "code",
   "source": [
    "gene_name(m, \"b0720\")\n",
    "\n",
    "using GLPK\n",
    "sol = flux_balance_analysis_dict(m, GLPK.Optimizer, modifications = [knockout(\"b0720\")])\n",
    "sol[\"BIOMASS_Ec_iJO1366_core_53p95M\"]"
   ],
   "metadata": {},
   "execution_count": 5
  },
  {
   "cell_type": "markdown",
   "source": [
    "...the model is still feasible but growth is basically zero."
   ],
   "metadata": {}
  },
  {
   "cell_type": "markdown",
   "source": [
    "We can screen through all genes. One could simply write:"
   ],
   "metadata": {}
  },
  {
   "outputs": [
    {
     "output_type": "execute_result",
     "data": {
      "text/plain": "10-element Vector{Dict{String, Float64}}:\n Dict(\"Zn2tex\" => 0.00033498878813989854, \"GUI1\" => 0.0, \"DXYLK\" => 0.0, \"CBL1tonex\" => 0.0, \"FE3DCITtonex\" => 0.0, \"FACOAL180t2pp\" => 0.0, \"METSOXR1\" => 0.0, \"LIPOtex\" => 0.0, \"NTD11\" => 0.0, \"GLUNpp\" => 0.0…)\n Dict(\"Zn2tex\" => 0.00033498878813989854, \"GUI1\" => 0.0, \"DXYLK\" => 0.0, \"CBL1tonex\" => 0.0, \"FE3DCITtonex\" => 0.0, \"FACOAL180t2pp\" => 0.0, \"METSOXR1\" => 0.0, \"LIPOtex\" => 0.0, \"NTD11\" => 0.0, \"GLUNpp\" => 0.0…)\n Dict(\"Zn2tex\" => 0.00033498878813989854, \"GUI1\" => 0.0, \"DXYLK\" => 0.0, \"CBL1tonex\" => 0.0, \"FE3DCITtonex\" => 0.0, \"FACOAL180t2pp\" => 0.0, \"METSOXR1\" => 0.0, \"LIPOtex\" => 0.0, \"NTD11\" => 0.0, \"GLUNpp\" => 0.0…)\n Dict(\"Zn2tex\" => 0.00033498878813989854, \"GUI1\" => 0.0, \"DXYLK\" => 0.0, \"CBL1tonex\" => 0.0, \"FE3DCITtonex\" => 0.0, \"FACOAL180t2pp\" => 0.0, \"METSOXR1\" => 0.0, \"LIPOtex\" => 0.0, \"NTD11\" => 0.0, \"GLUNpp\" => 0.0…)\n Dict(\"Zn2tex\" => 0.00033498878813989854, \"GUI1\" => 0.0, \"DXYLK\" => 0.0, \"CBL1tonex\" => 0.0, \"FE3DCITtonex\" => 0.0, \"FACOAL180t2pp\" => 0.0, \"METSOXR1\" => 0.0, \"LIPOtex\" => 0.0, \"NTD11\" => 0.0, \"GLUNpp\" => 0.0…)\n Dict(\"Zn2tex\" => 0.00033498878813989854, \"GUI1\" => 0.0, \"DXYLK\" => 0.0, \"CBL1tonex\" => 0.0, \"FE3DCITtonex\" => 0.0, \"FACOAL180t2pp\" => 0.0, \"METSOXR1\" => 0.0, \"LIPOtex\" => 0.0, \"NTD11\" => 0.0, \"GLUNpp\" => 0.0…)\n Dict(\"Zn2tex\" => 0.00033498878813989854, \"GUI1\" => 0.0, \"DXYLK\" => 0.0, \"CBL1tonex\" => 0.0, \"FE3DCITtonex\" => 0.0, \"FACOAL180t2pp\" => 0.0, \"METSOXR1\" => 0.0, \"LIPOtex\" => 0.0, \"NTD11\" => 0.0, \"GLUNpp\" => 0.0…)\n Dict(\"Zn2tex\" => 0.00033498878813989854, \"GUI1\" => 0.0, \"DXYLK\" => 0.0, \"CBL1tonex\" => 0.0, \"FE3DCITtonex\" => 0.0, \"FACOAL180t2pp\" => 0.0, \"METSOXR1\" => 0.0, \"LIPOtex\" => 0.0, \"NTD11\" => 0.0, \"GLUNpp\" => 0.0…)\n Dict(\"Zn2tex\" => 0.0003349887881398992, \"GUI1\" => 0.0, \"DXYLK\" => 0.0, \"CBL1tonex\" => 0.0, \"FE3DCITtonex\" => 0.0, \"FACOAL180t2pp\" => 0.0, \"METSOXR1\" => 0.0, \"LIPOtex\" => 0.0, \"NTD11\" => 0.0, \"GLUNpp\" => 0.0…)\n Dict(\"Zn2tex\" => 0.0, \"GUI1\" => 0.0, \"DXYLK\" => 0.0, \"CBL1tonex\" => 0.0, \"FE3DCITtonex\" => 1.2911050829896582e-17, \"FACOAL180t2pp\" => 0.0, \"METSOXR1\" => 0.0, \"LIPOtex\" => 0.0, \"NTD11\" => 0.0, \"GLUNpp\" => 0.0…)"
     },
     "metadata": {},
     "execution_count": 6
    }
   ],
   "cell_type": "code",
   "source": [
    "[\n",
    "    flux_balance_analysis_dict(m, GLPK.Optimizer, modifications = [knockout(g)]) for\n",
    "    g in genes(m)[1:10]\n",
    "]"
   ],
   "metadata": {},
   "execution_count": 6
  },
  {
   "cell_type": "markdown",
   "source": [
    "...but that would run for quite a bit of time, and does not always even\n",
    "return a solution! (for some knockouts, there's even no feasible solution)"
   ],
   "metadata": {}
  },
  {
   "cell_type": "markdown",
   "source": [
    "First, let's use COBREXA parallelization capabilities to make this bearably\n",
    "fast. We use Distributed package to run this over multiple processes:"
   ],
   "metadata": {}
  },
  {
   "outputs": [],
   "cell_type": "code",
   "source": [
    "using Distributed\n",
    "addprocs(8)  # you may add more depending on your machine or cluster size"
   ],
   "metadata": {},
   "execution_count": 7
  },
  {
   "cell_type": "markdown",
   "source": [
    "load our stuff on the small cluster"
   ],
   "metadata": {}
  },
  {
   "outputs": [],
   "cell_type": "code",
   "source": [
    "@everywhere using COBREXA, GLPK"
   ],
   "metadata": {},
   "execution_count": 8
  },
  {
   "cell_type": "markdown",
   "source": [
    "screen function allows us to run many analyses on a model with parallel, with\n",
    "many optimizations related for distributed processing (e.g., data are only\n",
    "moved once)."
   ],
   "metadata": {}
  },
  {
   "outputs": [
    {
     "output_type": "execute_result",
     "data": {
      "text/plain": "10-element Vector{Dict{String, Float64}}:\n Dict(\"Zn2tex\" => 0.00033498878813989854, \"GUI1\" => 0.0, \"DXYLK\" => 0.0, \"CBL1tonex\" => 0.0, \"FE3DCITtonex\" => 0.0, \"FACOAL180t2pp\" => 0.0, \"METSOXR1\" => 0.0, \"LIPOtex\" => 0.0, \"NTD11\" => 0.0, \"GLUNpp\" => 0.0…)\n Dict(\"Zn2tex\" => 0.00033498878813989854, \"GUI1\" => 0.0, \"DXYLK\" => 0.0, \"CBL1tonex\" => 0.0, \"FE3DCITtonex\" => 0.0, \"FACOAL180t2pp\" => 0.0, \"METSOXR1\" => 0.0, \"LIPOtex\" => 0.0, \"NTD11\" => 0.0, \"GLUNpp\" => 0.0…)\n Dict(\"Zn2tex\" => 0.00033498878813989854, \"GUI1\" => 0.0, \"DXYLK\" => 0.0, \"CBL1tonex\" => 0.0, \"FE3DCITtonex\" => 0.0, \"FACOAL180t2pp\" => 0.0, \"METSOXR1\" => 0.0, \"LIPOtex\" => 0.0, \"NTD11\" => 0.0, \"GLUNpp\" => 0.0…)\n Dict(\"Zn2tex\" => 0.00033498878813989854, \"GUI1\" => 0.0, \"DXYLK\" => 0.0, \"CBL1tonex\" => 0.0, \"FE3DCITtonex\" => 0.0, \"FACOAL180t2pp\" => 0.0, \"METSOXR1\" => 0.0, \"LIPOtex\" => 0.0, \"NTD11\" => 0.0, \"GLUNpp\" => 0.0…)\n Dict(\"Zn2tex\" => 0.00033498878813989854, \"GUI1\" => 0.0, \"DXYLK\" => 0.0, \"CBL1tonex\" => 0.0, \"FE3DCITtonex\" => 0.0, \"FACOAL180t2pp\" => 0.0, \"METSOXR1\" => 0.0, \"LIPOtex\" => 0.0, \"NTD11\" => 0.0, \"GLUNpp\" => 0.0…)\n Dict(\"Zn2tex\" => 0.00033498878813989854, \"GUI1\" => 0.0, \"DXYLK\" => 0.0, \"CBL1tonex\" => 0.0, \"FE3DCITtonex\" => 0.0, \"FACOAL180t2pp\" => 0.0, \"METSOXR1\" => 0.0, \"LIPOtex\" => 0.0, \"NTD11\" => 0.0, \"GLUNpp\" => 0.0…)\n Dict(\"Zn2tex\" => 0.00033498878813989854, \"GUI1\" => 0.0, \"DXYLK\" => 0.0, \"CBL1tonex\" => 0.0, \"FE3DCITtonex\" => 0.0, \"FACOAL180t2pp\" => 0.0, \"METSOXR1\" => 0.0, \"LIPOtex\" => 0.0, \"NTD11\" => 0.0, \"GLUNpp\" => 0.0…)\n Dict(\"Zn2tex\" => 0.00033498878813989854, \"GUI1\" => 0.0, \"DXYLK\" => 0.0, \"CBL1tonex\" => 0.0, \"FE3DCITtonex\" => 0.0, \"FACOAL180t2pp\" => 0.0, \"METSOXR1\" => 0.0, \"LIPOtex\" => 0.0, \"NTD11\" => 0.0, \"GLUNpp\" => 0.0…)\n Dict(\"Zn2tex\" => 0.0003349887881398992, \"GUI1\" => 0.0, \"DXYLK\" => 0.0, \"CBL1tonex\" => 0.0, \"FE3DCITtonex\" => 0.0, \"FACOAL180t2pp\" => 0.0, \"METSOXR1\" => 0.0, \"LIPOtex\" => 0.0, \"NTD11\" => 0.0, \"GLUNpp\" => 0.0…)\n Dict(\"Zn2tex\" => 0.0, \"GUI1\" => 0.0, \"DXYLK\" => 0.0, \"CBL1tonex\" => 0.0, \"FE3DCITtonex\" => 1.2911050829896582e-17, \"FACOAL180t2pp\" => 0.0, \"METSOXR1\" => 0.0, \"LIPOtex\" => 0.0, \"NTD11\" => 0.0, \"GLUNpp\" => 0.0…)"
     },
     "metadata": {},
     "execution_count": 9
    }
   ],
   "cell_type": "code",
   "source": [
    "knockout_fluxes = screen(\n",
    "    m, # the model which we process\n",
    "    args = tuple.(genes(m)[1:10]), # all argument lists for the analyses\n",
    "    analysis = (m, gene) -> # the analysis function (\"lambda\") that we want to run on the cluster for each item from the argument list\n",
    "        flux_balance_analysis_dict(m, GLPK.Optimizer, modifications = [knockout(gene)]),\n",
    "    workers = workers(), # this gives it the list of worker nodes to use\n",
    ")"
   ],
   "metadata": {},
   "execution_count": 9
  },
  {
   "cell_type": "markdown",
   "source": [
    "let's preprocess the results a little, and add more genes"
   ],
   "metadata": {}
  },
  {
   "outputs": [
    {
     "output_type": "execute_result",
     "data": {
      "text/plain": "50-element Vector{Pair{String, Float64}}:\n \"b1377\" => 0.9823718127269752\n \"b0241\" => 0.9823718127269752\n \"b0929\" => 0.9823718127269752\n \"b2215\" => 0.9823718127269752\n \"b0653\" => 0.9823718127269752\n \"b0655\" => 0.9823718127269752\n \"b0118\" => 0.9823718127269752\n \"b1276\" => 0.9823718127269752\n \"b4032\" => 0.9823718127269772\n \"b3359\" => -1.3672895417877006e-17\n         ⋮\n \"b3737\" => 0.4024773014907232\n \"b3733\" => 0.4024773014907232\n \"b3734\" => 0.4024773014907232\n \"b3738\" => 0.4024773014907232\n \"b1009\" => 0.9823718127269752\n \"b1812\" => -1.1020296920314708e-30\n \"b0180\" => 0.0\n \"b3360\" => -1.1020296920314708e-30\n \"b3731\" => 0.4024773014907232"
     },
     "metadata": {},
     "execution_count": 10
    }
   ],
   "cell_type": "code",
   "source": [
    "knockout_fluxes = screen(\n",
    "    m,\n",
    "    args = tuple.(genes(m)[1:50]),\n",
    "    analysis = (m, gene) -> begin\n",
    "        res = flux_balance_analysis_dict(m, GLPK.Optimizer, modifications = [knockout(gene)])\n",
    "        if !isnothing(res)\n",
    "            gene => res[\"BIOMASS_Ec_iJO1366_core_53p95M\"]\n",
    "        else\n",
    "            gene => 0.0\n",
    "        end\n",
    "    end,\n",
    "    workers = workers(),\n",
    ")"
   ],
   "metadata": {},
   "execution_count": 10
  },
  {
   "cell_type": "markdown",
   "source": [
    "after debugging, you can erase the limit to the first 50 genes"
   ],
   "metadata": {}
  },
  {
   "cell_type": "markdown",
   "source": [
    "create a CSV with a report"
   ],
   "metadata": {}
  },
  {
   "outputs": [
    {
     "output_type": "execute_result",
     "data": {
      "text/plain": "\"ko_report.csv\""
     },
     "metadata": {},
     "execution_count": 11
    }
   ],
   "cell_type": "code",
   "source": [
    "using DataFrames, CSV\n",
    "\n",
    "df = DataFrame(gene = first.(knockout_fluxes))\n",
    "df.name = gene_name.(Ref(m), df.gene)\n",
    "df.fluxes = last.(knockout_fluxes)\n",
    "\n",
    "best_result = maximum(last.(knockout_fluxes))\n",
    "essential_threshold = 0.01 * best_result\n",
    "df.essential = df.fluxes .<= essential_threshold\n",
    "df.interesting = (df.fluxes .< best_result * 0.999) .&& .!df.essential\n",
    "\n",
    "CSV.write(\"ko_report.csv\", df)"
   ],
   "metadata": {},
   "execution_count": 11
  },
  {
   "cell_type": "markdown",
   "source": [
    "---\n",
    "\n",
    "*This notebook was generated using [Literate.jl](https://github.com/fredrikekre/Literate.jl).*"
   ],
   "metadata": {}
  }
 ],
 "nbformat_minor": 3,
 "metadata": {
  "language_info": {
   "file_extension": ".jl",
   "mimetype": "application/julia",
   "name": "julia",
   "version": "1.9.0-beta3"
  },
  "kernelspec": {
   "name": "julia-1.9",
   "display_name": "Julia 1.9.0-beta3",
   "language": "julia"
  }
 },
 "nbformat": 4
}
