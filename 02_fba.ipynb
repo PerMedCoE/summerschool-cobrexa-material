{
 "cells": [
  {
   "outputs": [],
   "cell_type": "code",
   "source": [
    "using COBREXA"
   ],
   "metadata": {},
   "execution_count": 1
  },
  {
   "cell_type": "markdown",
   "source": [
    "Let's download and open a big model"
   ],
   "metadata": {}
  },
  {
   "outputs": [],
   "cell_type": "code",
   "source": [
    "import Downloads\n",
    "Downloads.download(\"http://bigg.ucsd.edu/static/models/iJO1366.json\", \"ecoli.json\")\n",
    "m = load_model(StandardModel, \"ecoli.json\");"
   ],
   "metadata": {},
   "execution_count": 2
  },
  {
   "cell_type": "markdown",
   "source": [
    "...we've opened it as StandardModel right away to allow easy manual\n",
    "modifications."
   ],
   "metadata": {}
  },
  {
   "cell_type": "markdown",
   "source": [
    "let's have a look at the genes"
   ],
   "metadata": {}
  },
  {
   "outputs": [
    {
     "output_type": "execute_result",
     "data": {
      "text/plain": "Gene.id: b0722\nGene.name: sdhD\nGene.notes: \n\toriginal_bigg_ids: [\"b0722\"]\nGene.annotations: \n\tsbo: [\"SBO:0000243\"]\n\tuniprot: [\"P0AC44\"]\n\tecogene: [\"EG10934\"]\n\tncbigene: [\"945322\"]\n\tncbigi: [\"16128697\"]\n\trefseq_locus_tag: [\"b0722\"]\n\trefseq_name: [\"sdhD\"]\n\tasap: [\"ABE-0002464\"]\n\trefseq_synonym: [\"JW0712\", \"ECK0711\"]\n"
     },
     "metadata": {},
     "execution_count": 3
    }
   ],
   "cell_type": "code",
   "source": [
    "m.genes[\"b0722\"]"
   ],
   "metadata": {},
   "execution_count": 3
  },
  {
   "cell_type": "markdown",
   "source": [
    "see the objective function"
   ],
   "metadata": {}
  },
  {
   "outputs": [
    {
     "output_type": "execute_result",
     "data": {
      "text/plain": "\"BIOMASS_Ec_iJO1366_core_53p95M\""
     },
     "metadata": {},
     "execution_count": 4
    }
   ],
   "cell_type": "code",
   "source": [
    "objective(m) # gives a sparse vector that maximizes a single reaction\n",
    "reactions(m)[19] # the number may differ"
   ],
   "metadata": {},
   "execution_count": 4
  },
  {
   "cell_type": "markdown",
   "source": [
    "see the exchanges.\n",
    "Unfortunately the standard depends on prefixing the reaction ID with EX_, so\n",
    "at least we can filter the reactions to them."
   ],
   "metadata": {}
  },
  {
   "outputs": [
    {
     "output_type": "execute_result",
     "data": {
      "text/plain": "324-element Vector{Pair{String, String}}:\n        \"EX_cm_e\" => \"Chloramphenicol exchange\"\n       \"EX_cmp_e\" => \"CMP exchange\"\n       \"EX_co2_e\" => \"CO2 exchange\"\n   \"EX_cobalt2_e\" => \"Co2+ exchange\"\n    \"EX_colipa_e\" => \"Core oligosaccharide lipid A exchange\"\n    \"EX_glc__D_e\" => \"D-Glucose exchange\"\n      \"EX_glcn_e\" => \"D-Gluconate exchange\"\n      \"EX_glcr_e\" => \"D-Glucarate exchange\"\n   \"EX_colipap_e\" => \"Core oligosaccharide lipid A diphosphate exchange\"\n     \"EX_glcur_e\" => \"D-Glucuronate exchange\"\n                  ⋮\n  \"EX_galct__D_e\" => \"D-Galactarate exchange\"\n \"EX_galctn__D_e\" => \"D-Galactonate exchange\"\n \"EX_galctn__L_e\" => \"L-Galactonate exchange\"\n      \"EX_galt_e\" => \"Galactitol exchange\"\n     \"EX_galur_e\" => \"D-Galacturonate exchange\"\n       \"EX_gam_e\" => \"D-Glucosamine exchange\"\n     \"EX_gam6p_e\" => \"D-Glucosamine 6-phosphate exchange\"\n     \"EX_gbbtn_e\" => \"Gamma-butyrobetaine exchange\"\n       \"EX_gdp_e\" => \"GDP exchange\""
     },
     "metadata": {},
     "execution_count": 5
    }
   ],
   "cell_type": "code",
   "source": [
    "exchanges = filter(startswith(\"EX_\"), reactions(m))\n",
    "\n",
    "exchanges .=> reaction_name.(Ref(m), exchanges)"
   ],
   "metadata": {},
   "execution_count": 5
  },
  {
   "cell_type": "markdown",
   "source": [
    "Let's run the FBA. First we need everyone's favorite linear solver\n",
    "Ref: https://lcsb-biocore.github.io/COBREXA.jl/stable/examples/05a_fba/"
   ],
   "metadata": {}
  },
  {
   "outputs": [],
   "cell_type": "code",
   "source": [
    "using GLPK"
   ],
   "metadata": {},
   "execution_count": 6
  },
  {
   "cell_type": "markdown",
   "source": [
    "For simplicity, let's ask for a dictionary right away."
   ],
   "metadata": {}
  },
  {
   "outputs": [
    {
     "output_type": "execute_result",
     "data": {
      "text/plain": "Dict{String, Float64} with 2583 entries:\n  \"Zn2tex\"        => 0.000334989\n  \"GUI1\"          => 0.0\n  \"DXYLK\"         => 0.0\n  \"CBL1tonex\"     => 0.0\n  \"FE3DCITtonex\"  => 0.0\n  \"FACOAL180t2pp\" => 0.0\n  \"METSOXR1\"      => 0.0\n  \"LIPOtex\"       => 0.0\n  \"NTD11\"         => 0.0\n  \"GLUNpp\"        => 0.0\n  \"ORNDC\"         => 0.0\n  \"ALAGLUE\"       => 0.0\n  \"UAGCVT\"        => 0.0272981\n  \"I2FE2ST\"       => 2.75064e-5\n  \"BMOCOS\"        => 0.000119849\n  \"GLCURt2rpp\"    => 0.0\n  \"EX_g3pg_e\"     => 0.0\n  \"EX_acolipa_e\"  => 0.0\n  \"PGSA141\"       => 0.0\n  ⋮               => ⋮"
     },
     "metadata": {},
     "execution_count": 7
    }
   ],
   "cell_type": "code",
   "source": [
    "sol = flux_balance_analysis_dict(m, GLPK.Optimizer)"
   ],
   "metadata": {},
   "execution_count": 7
  },
  {
   "cell_type": "markdown",
   "source": [
    "we can have a look at our objective reaction"
   ],
   "metadata": {}
  },
  {
   "outputs": [
    {
     "output_type": "execute_result",
     "data": {
      "text/plain": "0.9823718127269752"
     },
     "metadata": {},
     "execution_count": 8
    }
   ],
   "cell_type": "code",
   "source": [
    "sol[\"BIOMASS_Ec_iJO1366_core_53p95M\"]  # (it is possible to tab through the dictionary keys)"
   ],
   "metadata": {},
   "execution_count": 8
  },
  {
   "cell_type": "markdown",
   "source": [
    "we can have a look at the main things that happen"
   ],
   "metadata": {}
  },
  {
   "outputs": [
    {
     "output_type": "execute_result",
     "data": {
      "text/plain": "Biomass\n  BIOMASS_Ec_iJO1366_core_53p95M: 0.9824\n  BIOMASS_Ec_iJO1366_WT_53p95M:   0.0\nImport\n  EX_o2_e:                        -17.5789\n  EX_nh4_e:                       -10.6104\n  EX_glc__D_e:                    -10.0\n  EX_pi_e:                        -0.9476\n  EX_so4_e:                       -0.2478\n  EX_k_e:                         -0.1918\n  EX_fe2_e:                       -0.0158\n  EX_mg2_e:                       -0.0085\n  EX_ca2_e:                       -0.0051\n  EX_cl_e:                        -0.0051\n  EX_cu2_e:                       -0.0007\n  EX_mn2_e:                       -0.0007\n  EX_zn2_e:                       -0.0003\n  EX_ni2_e:                       -0.0003\n  EX_mobd_e:                      -0.0001\n  EX_cobalt2_e:                   -0.0\nExport\n  EX_meoh_e:                      0.0\n  EX_h_e:                         9.0263\n  EX_co2_e:                       19.6752\n  EX_h2o_e:                       45.6194\n"
     },
     "metadata": {},
     "execution_count": 9
    }
   ],
   "cell_type": "code",
   "source": [
    "flux_summary(sol)"
   ],
   "metadata": {},
   "execution_count": 9
  },
  {
   "cell_type": "markdown",
   "source": [
    "(this guesses the exchange/biomass status based on reaction IDs)"
   ],
   "metadata": {}
  },
  {
   "cell_type": "markdown",
   "source": [
    "or write the result to a file for future use"
   ],
   "metadata": {}
  },
  {
   "outputs": [
    {
     "output_type": "execute_result",
     "data": {
      "text/plain": "\"mysolution.csv\""
     },
     "metadata": {},
     "execution_count": 10
    }
   ],
   "cell_type": "code",
   "source": [
    "using DataFrames, CSV\n",
    "df = DataFrame(reaction = collect(keys(sol)), flux = collect(values(sol)))\n",
    "CSV.write(\"mysolution.csv\", df)"
   ],
   "metadata": {},
   "execution_count": 10
  },
  {
   "cell_type": "markdown",
   "source": [
    "Let's choke the model a bit, reducing the availbale oxygen and sugar"
   ],
   "metadata": {}
  },
  {
   "outputs": [
    {
     "output_type": "execute_result",
     "data": {
      "text/plain": "0.18602227486090275"
     },
     "metadata": {},
     "execution_count": 11
    }
   ],
   "cell_type": "code",
   "source": [
    "m.reactions[\"EX_o2_e\"].lb = -20\n",
    "m.reactions[\"EX_glc__D_e\"].lb = -2\n",
    "sol = flux_balance_analysis_dict(m, GLPK.Optimizer)\n",
    "sol[\"BIOMASS_Ec_iJO1366_core_53p95M\"] # less growth"
   ],
   "metadata": {},
   "execution_count": 11
  },
  {
   "cell_type": "markdown",
   "source": [
    "allow eating acetate instead"
   ],
   "metadata": {}
  },
  {
   "outputs": [
    {
     "output_type": "execute_result",
     "data": {
      "text/plain": "0.6895707851538995"
     },
     "metadata": {},
     "execution_count": 12
    }
   ],
   "cell_type": "code",
   "source": [
    "m.reactions[\"EX_ac_e\"].lb = -100;\n",
    "sol = flux_balance_analysis_dict(m, GLPK.Optimizer);\n",
    "sol[\"BIOMASS_Ec_iJO1366_core_53p95M\"] # a lot of growth again"
   ],
   "metadata": {},
   "execution_count": 12
  },
  {
   "cell_type": "markdown",
   "source": [
    "at this point, it is clear that the original model data has been overwritten\n",
    "so it might be much better to do this stuff reproducibly. COBREXA has\n",
    "modifications for that purpose."
   ],
   "metadata": {}
  },
  {
   "outputs": [
    {
     "output_type": "execute_result",
     "data": {
      "text/plain": "0.18602227486090275"
     },
     "metadata": {},
     "execution_count": 13
    }
   ],
   "cell_type": "code",
   "source": [
    "m = load_model(StandardModel, \"ecoli.json\");\n",
    "sol = flux_balance_analysis_dict(\n",
    "    m,\n",
    "    GLPK.Optimizer,\n",
    "    modifications = [\n",
    "        change_constraint(\"EX_o2_e\", lb = -20.0),\n",
    "        change_constraint(\"EX_glc__D_e\", lb = -2.0),\n",
    "    ],\n",
    ");\n",
    "sol[\"BIOMASS_Ec_iJO1366_core_53p95M\"]\n",
    "#...this scales much better if you need to do more stuff."
   ],
   "metadata": {},
   "execution_count": 13
  },
  {
   "cell_type": "markdown",
   "source": [
    "Escher plotting is available via https://github.com/stelmo/Escher.jl"
   ],
   "metadata": {}
  },
  {
   "cell_type": "markdown",
   "source": [
    "---\n",
    "\n",
    "*This notebook was generated using [Literate.jl](https://github.com/fredrikekre/Literate.jl).*"
   ],
   "metadata": {}
  }
 ],
 "nbformat_minor": 3,
 "metadata": {
  "language_info": {
   "file_extension": ".jl",
   "mimetype": "application/julia",
   "name": "julia",
   "version": "1.9.0-beta3"
  },
  "kernelspec": {
   "name": "julia-1.9",
   "display_name": "Julia 1.9.0-beta3",
   "language": "julia"
  }
 },
 "nbformat": 4
}
