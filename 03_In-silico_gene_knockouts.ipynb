{
 "cells": [
  {
   "cell_type": "markdown",
   "metadata": {},
   "source": [
    "#  Introductions to constrainat-based modeling using cobrapy\n",
    "\n",
    "## Part 3: In-silico gene knockouts\n",
    "\n",
    "### Instructor:\n",
    "* Miguel Ponce de León from (Barcelona Supercomputing Center)\n",
    "* Contact: miguel.ponce@bsc.es\n"
   ]
  },
  {
   "cell_type": "markdown",
   "metadata": {},
   "source": [
    "Install COBREXA if not installed yet, and load it"
   ]
  },
  {
   "cell_type": "code",
   "execution_count": null,
   "metadata": {},
   "outputs": [],
   "source": [
    "import Pkg\n",
    "Pkg.add(\"COBREXA\")\n",
    "using COBREXA\n",
    "\n",
    "Pkg.add(\"GLPK\")\n",
    "using GLPK"
   ]
  },
  {
   "cell_type": "markdown",
   "metadata": {},
   "source": [
    "Let's download and open the big model again"
   ]
  },
  {
   "cell_type": "code",
   "execution_count": null,
   "metadata": {},
   "outputs": [],
   "source": [
    "path_to_model = \"data/E_coli_iJO1366.json\"\n",
    "model = load_model(StandardModel, path_to_model);"
   ]
  },
  {
   "cell_type": "markdown",
   "metadata": {},
   "source": [
    "## Inspecting gene reactions associations\n",
    "\n",
    "Main reference is this:\n",
    "https://lcsb-biocore.github.io/COBREXA.jl/stable/examples/07_gene_deletion/\n",
    "\n",
    "Each reaction has a gene association or gene reaction rule, which dictates the gene products that\n",
    "need to be available so that the reaction can carry flux.\n",
    "\n",
    "\n",
    "Pick a gene of interest\n",
    "\n",
    "`gene = model.genes[\"b0720\"]`\n",
    "\n",
    "Inspect the reactions associated to b0720\n",
    "\n"
   ]
  },
  {
   "cell_type": "code",
   "execution_count": null,
   "metadata": {},
   "outputs": [],
   "source": [
    "genes(model)\n",
    "\n",
    "gene = model.genes[\"b0720\"]\n",
    "\n",
    "# gene_rules_dnf = reaction_gene_association(model, \"PFK\")\n",
    "\n",
    "reaction_gene_association(model, \"PFK\")\n",
    "\n",
    "rxn = [r for r in model.reactions.vals][400]\n",
    "\n",
    "rxn.grr"
   ]
  },
  {
   "cell_type": "markdown",
   "metadata": {},
   "source": [
    "The result is in DNF for (computational) simplicity; the rules can be\n",
    "converted e.g. to Strings which are more suitable for reading:"
   ]
  },
  {
   "cell_type": "code",
   "execution_count": null,
   "metadata": {},
   "outputs": [],
   "source": [
    "COBREXA._unparse_grr(String, gene_rules_dnf)"
   ]
  },
  {
   "cell_type": "markdown",
   "metadata": {},
   "source": [
    "We might knock out genes by running through the reactions and evaluating DNF.\n",
    "The knockout is available as a modification for simplicity:"
   ]
  },
  {
   "cell_type": "code",
   "execution_count": null,
   "metadata": {},
   "outputs": [],
   "source": [
    "gene_name(model, \"b0720\")"
   ]
  },
  {
   "cell_type": "markdown",
   "metadata": {},
   "source": [
    "### Exercise 3.1: Single knock out study.\n",
    "\n",
    "Documentation: [https://cobrapy.readthedocs.io/en/latest/deletions.html#Knocking-out-single-genes-and-reactions](https://cobrapy.readthedocs.io/en/latest/deletions.html#Knocking-out-single-genes-and-reactions)\n",
    "\n",
    "We will use gene b0720 as an example\n",
    "\n",
    "1. COBRA can find the proper reaction to be disabled when a gene is knocked out as follows:\n",
    "\n",
    "```\n",
    "flux_dict = flux_balance_analysis_dict(\n",
    "    model,\n",
    "    GLPK.Optimizer,\n",
    "    modifications = [knockout(\"b0720\")],\n",
    ")\n",
    "```\n",
    "\n",
    "(This codes knocks out the gene b0720, recalculates the FBA and stores the new solution in ko_solution and If we perform the knockout using the \"with\" block we don't need to care about restoring the knocked out gene afterwards; it is automatically restored out of the \"with\" block..)\n",
    "\n",
    "2. Check the growth value (Hint: ko_solution.objective_values)\n",
    "3. Is the gene predicted as essential or non-essential\n",
    "4. Go to the Ecocyc database and check the in vivo experimental result for the knockout of b0720 by accessing the following link:\n",
    "* [https://ecocyc.org/gene?orgid=ECOLI&id=EG10402](https://ecocyc.org/gene?orgid=ECOLI&id=EG10402)\n",
    "\n",
    "Is b0720 essential or not?"
   ]
  },
  {
   "cell_type": "code",
   "execution_count": null,
   "metadata": {},
   "outputs": [],
   "source": [
    "## TODO\n",
    "## Write your code below\n",
    "\n",
    "\n"
   ]
  },
  {
   "cell_type": "markdown",
   "metadata": {},
   "source": [
    "...the model is still feasible (so it can \"sustain itself\"), but growth is\n",
    "basically zero."
   ]
  },
  {
   "cell_type": "markdown",
   "metadata": {},
   "source": [
    "## Systems-wide knock out study of *E. coli*.\n",
    "    \n",
    "COBREXA has a special function to run the single gene knock outs of a list of genes. \n",
    "\n",
    "The function's name is `screen` and it allows us to run many analyses on a model with parallel,\n",
    "with many optimizations related for distributed processing (e.g., data are\n",
    "only moved once).\n",
    "\n",
    "We can screen through all genes. One could simply write something like:"
   ]
  },
  {
   "cell_type": "code",
   "execution_count": null,
   "metadata": {},
   "outputs": [],
   "source": [
    "knockout_fluxes = screen(\n",
    "    model, # the model which we process\n",
    "    args = tuple.(genes(model)[1:10]), # all argument lists for the analyses\n",
    "    analysis = (model, gene) -> # the analysis function (\"lambda\") that we want to run on the cluster for each item from the argument list\n",
    "        flux_balance_analysis_dict(model, GLPK.Optimizer, modifications = [knockout(gene)]),\n",
    ")"
   ]
  },
  {
   "cell_type": "markdown",
   "metadata": {},
   "source": [
    "...but that might be slow for larger amounts of genes, and we would like to\n",
    "add some special handling for knockouts where there is no feasible solution\n",
    "(and the function returns `nothing`)."
   ]
  },
  {
   "cell_type": "markdown",
   "metadata": {},
   "source": [
    "## Systems-wide knock out study of *E. coli*.\n",
    "\n",
    "First, let's use COBREXA parallelization capabilities to make this faster. \n",
    "We will use Distributed package to run this over multiple processes.\n",
    "But for technical reasons, instead of doing in the notebook, we will use the following script:\n",
    "\n",
    "`julia  --project=./  run_single_gene_deletion.jl`\n",
    "\n",
    "The script will:\n",
    "1. Load the model\n",
    "2. screen ech gene and performed the KO experiments\n",
    "3. gather all the results in a DataFrame\n",
    "4. Save the results in CSV format in the `out/ko_report.csv` folder\n",
    "\n",
    "We can inspect the script code below to see what it does"
   ]
  },
  {
   "cell_type": "markdown",
   "metadata": {},
   "source": [
    "## Loading need modules and running the experiment\n",
    "```import Pkg\n",
    "Pkg.add([\"COBREXA\", \"GLPK\", \"Distributed\", \"DataFrames\",\"CSV])\n",
    "\n",
    "using COBREXA, GLPK\n",
    "using Distributed\n",
    "using DataFrames, CSV\n",
    "\n",
    "# Loading the model\n",
    "path_to_model = \"data/E_coli_iJO1366.json\"\n",
    "model = load_model(StandardModel, path_to_model);\n",
    "\n",
    "# only add processes if you are sure that you have sufficient resources available!\n",
    "nprocs = 4\n",
    "addprocs(nprocs)  \n",
    "\n",
    "# only necessary if you added the extra processes\n",
    "@everywhere using COBREXA, GLPK \n",
    "\n",
    "# Now that we see that it works, let's post-process the results a little, and\n",
    "# also add more genes:\n",
    "knockout_fluxes = screen(\n",
    "    model,\n",
    "    args = tuple.(genes(model)),\n",
    "    analysis = (model, gene) -> begin\n",
    "        res = flux_balance_analysis_dict(model, GLPK.Optimizer, modifications = [knockout(gene)])\n",
    "        if !isnothing(res)\n",
    "            gene => res[\"BIOMASS_Ec_iJO1366_core_53p95M\"]\n",
    "        else\n",
    "            gene => 0.0\n",
    "        end\n",
    "    end,\n",
    "    workers = workers(),\n",
    ")```\n",
    "\n",
    "After everything works, you can erase the limit to the first 50 genes and see a complete result.\n",
    "```\n",
    "## Let's create a CSV with a report, as always\n",
    "```\n",
    "df = DataFrame(gene = first.(knockout_fluxes))\n",
    "df.name = gene_name.(Ref(model), df.gene)\n",
    "df.fluxes = last.(knockout_fluxes)\n",
    "```\n",
    "\n",
    "Typically we want to mark the genes that changed something. Let's mark the\n",
    "genes that are required for growth as essential, and the ones that reduce the\n",
    "growth somehow (but not fatally) as interesting.\n",
    "\n",
    "\n",
    "```\n",
    "best_result = maximum(last.(knockout_fluxes))\n",
    "essential_threshold = 0.01 * best_result\n",
    "df.essential = df.fluxes .<= essential_threshold\n",
    "df.interesting = (df.fluxes .< best_result * 0.999) .&& .!df.essential\n",
    "df\n",
    "\n",
    "CSV.write(\"out/ko_report.csv\", df);\n",
    "``` \n",
    "\n",
    "The idea is that a gene ko reduces growth below 10% of the maximal growth rate predicted for the wild type, then we can consider that gene as essential"
   ]
  },
  {
   "cell_type": "markdown",
   "metadata": {},
   "source": [
    "## How well do the in-silico knockouts compare to real measurements?\n",
    "\n",
    "Since there are existing measurements of what happens with real E. Coli after\n",
    "knockouts, we can look at our results as predictions, and compare them to the\n",
    "ground truth with the usual statistical means.\n",
    "\n",
    "First, let's read the experimentally verified \"lethal\" knockout genes from\n",
    "the supplied JSON data file"
   ]
  },
  {
   "cell_type": "code",
   "execution_count": null,
   "metadata": {},
   "outputs": [],
   "source": [
    "using CSV\n",
    "using DataFrames\n",
    "using JSON"
   ]
  },
  {
   "cell_type": "code",
   "execution_count": null,
   "metadata": {},
   "outputs": [],
   "source": [
    "This is the list of lethal gene knockouts:\n",
    "\n",
    "Now we can count:\n",
    "* True/False positives\n",
    "* True/False negatives"
   ]
  },
  {
   "cell_type": "code",
   "execution_count": null,
   "metadata": {},
   "outputs": [],
   "source": [
    "# Reading list of in-vivo essential genes in M9 media\n",
    "ex_lethal = JSON.parsefile(\"data/m9_invivo_lethals.json\")\n",
    "\n",
    "# Reading in-silico gene deletion results\n",
    "df_ko = DataFrame( CSV.File( \"out/ko_report_presolved.csv\" ) );\n",
    "\n",
    "# Comparting predicitons and experiments\n",
    "df_ko.invivo_essential = in.(df_ko.gene, Ref(ex_lethal))\n",
    "df_ko.insilico_essential = df_ko.essential;"
   ]
  },
  {
   "cell_type": "code",
   "execution_count": null,
   "metadata": {},
   "outputs": [],
   "source": [
    "TP = count(df_ko.insilico_essential .& df_ko.invivo_essential);\n",
    "TN = count(.!df_ko.insilico_essential .& .!df_ko.invivo_essential);\n",
    "FP = count(.!df_ko.insilico_essential .& df_ko.invivo_essential);\n",
    "FN = count(df_ko.insilico_essential .& .!df_ko.invivo_essential);"
   ]
  },
  {
   "cell_type": "markdown",
   "metadata": {},
   "source": [
    "### Excercise 3.3:\n",
    "Complete the following table using the values from Exercise 3.2 (*E. coli*)\n",
    "\n",
    "| In vivo \\ In silico        | in silico lethal | in silico non-lethal |\n",
    "| -------------------------- |:----------------:| --------------------:|\n",
    "| <b>in vivo lethal</b>      |               ?  |                   ?  |\n",
    "| <b>in vivo non-lehtal</b>  |               ?  |                   ?  |\n",
    "\n",
    "Tip for creating a matrix in Julia:\n",
    "\n",
    "```\n",
    "matrix = [ \n",
    "    A B\n",
    "    C D\n",
    "]\n",
    "```\n",
    "\n",
    "\n",
    "### Excercise 3.4:\n",
    "Acces the following link:\n",
    "\n",
    "https://en.wikipedia.org/wiki/Sensitivity_and_specificity\n",
    "\n",
    "Get the formulas and calculate the following metrics:\n",
    "* sensitivity\n",
    "* specificity\n",
    "* precision\n",
    "* accuracy"
   ]
  },
  {
   "cell_type": "code",
   "execution_count": null,
   "metadata": {},
   "outputs": [],
   "source": [
    "## TODO\n",
    "## Write your code below\n",
    "\n",
    "\n",
    "sensitivity = TP / (TP + FN)\n",
    "\n",
    "# do the other\n"
   ]
  },
  {
   "cell_type": "markdown",
   "metadata": {},
   "source": [
    "# Mo\n",
    "\n",
    "## Doing the knockouts manually, the hard way\n",
    "\n",
    "Now, let's have a look at how the knockouts are computed.\n",
    "\n",
    "Each reaction has a Gene-Reaction Rule (GRR) that marks the genes required\n",
    "for it to actually work in the organism. These are generally any Boolean\n",
    "expressions, but in COBREXA we tend to store them in disjunctive normal form\n",
    "(DNF, see https://en.wikipedia.org/wiki/Disjunctive_normal_form) which\n",
    "closely corresponds to the biological meaning of gene units that form\n",
    "interchangeable complexes. You can access them using the `grr` field in\n",
    "Reaction structures:"
   ]
  },
  {
   "cell_type": "code",
   "execution_count": null,
   "metadata": {},
   "outputs": [],
   "source": [
    "model.reactions[\"RNDR2\"].grr"
   ]
  },
  {
   "cell_type": "markdown",
   "metadata": {},
   "source": [
    "Here, the reaction can be supported by either of the 2 possibilities (enzyme\n",
    "complexes) where the first possibility is built from gene products of genes\n",
    "`b2234`, `b2235`, and `b2582`; and as the second possibility it can also use\n",
    "`b3781` instead of the `b2582`."
   ]
  },
  {
   "cell_type": "markdown",
   "metadata": {},
   "source": [
    "We may list all GRRs simply by iterating through the model reactions:"
   ]
  },
  {
   "cell_type": "code",
   "execution_count": null,
   "metadata": {},
   "outputs": [],
   "source": [
    "[rid => r.grr for (rid,r) in model.reactions]"
   ]
  },
  {
   "cell_type": "markdown",
   "metadata": {},
   "source": [
    "It is often interesting to ask which reactions may depend on which gene, we\n",
    "can make a convenience function for that:"
   ]
  },
  {
   "cell_type": "code",
   "execution_count": null,
   "metadata": {},
   "outputs": [],
   "source": [
    "reactions_of_gene(model, gene) =\n",
    "  [rid for (rid,r) in model.reactions if !isnothing(r.grr) && any(complex -> any(contains(gene), complex), r.grr)]\n",
    "\n",
    "reactions_of_gene(model, \"b1064\")"
   ]
  },
  {
   "cell_type": "markdown",
   "metadata": {},
   "source": [
    "Using the vector notation is quite convenient for creating lists that allow\n",
    "us to get an overview of the situation:"
   ]
  },
  {
   "cell_type": "code",
   "execution_count": null,
   "metadata": {},
   "outputs": [],
   "source": [
    "gene_name.(Ref(model), genes(model)) .=> reactions_of_gene.(Ref(model), genes(model))"
   ]
  },
  {
   "cell_type": "markdown",
   "metadata": {},
   "source": [
    "Now, given a set of genes that we want to knock out, we can manually find if\n",
    "a given reaction will still work or not. Let's try on RNDR1:"
   ]
  },
  {
   "cell_type": "code",
   "execution_count": null,
   "metadata": {},
   "outputs": [],
   "source": [
    "grr = model.reactions[\"RNDR1\"].grr\n",
    "\n",
    "ko_genes = [\"b2234\"]"
   ]
  },
  {
   "cell_type": "markdown",
   "metadata": {},
   "source": [
    "We can transform the `grr` to a form where it says which genes are present\n",
    "and which genes are not:"
   ]
  },
  {
   "cell_type": "code",
   "execution_count": null,
   "metadata": {},
   "outputs": [],
   "source": [
    "grr_available = map(c -> map(!in(ko_genes), c), grr)"
   ]
  },
  {
   "cell_type": "markdown",
   "metadata": {},
   "source": [
    "To determine if the reaction _can_ work, at least one (\"any\") of the\n",
    "complexes must have all gene products available:"
   ]
  },
  {
   "cell_type": "code",
   "execution_count": null,
   "metadata": {},
   "outputs": [],
   "source": [
    "any(all, grr_available)"
   ]
  },
  {
   "cell_type": "markdown",
   "metadata": {},
   "source": [
    "Since `b2234` is essential for RNDR1 (it needs to be present in all complexes\n",
    "that may run the reaction), the reaction is effectively disabled by knocking\n",
    "out `b2234`."
   ]
  },
  {
   "cell_type": "markdown",
   "metadata": {},
   "source": [
    "What if we knock out `b2582`?"
   ]
  },
  {
   "cell_type": "code",
   "execution_count": null,
   "metadata": {},
   "outputs": [],
   "source": [
    "ko_genes = [\"b2582\"]\n",
    "grr_available = map(c -> map(!in(ko_genes), c), grr)\n",
    "\n",
    "any(all, grr_available)"
   ]
  },
  {
   "cell_type": "markdown",
   "metadata": {},
   "source": [
    "...the reaction may still work with just `b2582` knocked out."
   ]
  },
  {
   "cell_type": "markdown",
   "metadata": {},
   "source": [
    "Anyway, if we knock out multiple genes, the reaction will cease to work again:"
   ]
  },
  {
   "cell_type": "code",
   "execution_count": null,
   "metadata": {},
   "outputs": [],
   "source": [
    "ko_genes = [\"b2582\", \"b3781\"]\n",
    "grr_available = map(c -> map(!in(ko_genes), c), grr)\n",
    "any(all, grr_available)"
   ]
  },
  {
   "cell_type": "markdown",
   "metadata": {},
   "source": [
    "We can formalize the knockout evaluation in a function"
   ]
  },
  {
   "cell_type": "code",
   "execution_count": null,
   "metadata": {},
   "outputs": [],
   "source": [
    "function is_reaction_knocked_out(model, reaction, ko_genes)\n",
    "    grr = model.reactions[reaction].grr\n",
    "    if isnothing(grr)\n",
    "        return false # reactions without a gene-reaction rule happen spontaneously and cannot be knocked out\n",
    "    end\n",
    "    grr_available = map(c -> map(!in(ko_genes), c), grr)\n",
    "    !any(all, grr_available)\n",
    "end"
   ]
  },
  {
   "cell_type": "markdown",
   "metadata": {},
   "source": [
    "Now, we can manually modify the model to disable the reactions that would be\n",
    "knocked out by a certain gene combination:"
   ]
  },
  {
   "cell_type": "code",
   "execution_count": null,
   "metadata": {},
   "outputs": [],
   "source": [
    "ko_genes = [\"b2582\", \"b3781\"]\n",
    "for (rid, r) = model.reactions\n",
    "    if is_reaction_knocked_out(model, rid, ko_genes)\n",
    "        r.lb = r.ub = 0.0\n",
    "    end\n",
    "end"
   ]
  },
  {
   "cell_type": "markdown",
   "metadata": {},
   "source": [
    "Does the model still grow?"
   ]
  },
  {
   "cell_type": "code",
   "execution_count": null,
   "metadata": {},
   "outputs": [],
   "source": [
    "sol = flux_balance_analysis_dict(model, GLPK.Optimizer)\n",
    "sol[\"BIOMASS_Ec_iJO1366_core_53p95M\"]"
   ]
  },
  {
   "cell_type": "markdown",
   "metadata": {},
   "source": [
    "...which seems like the combination of the 2 genes was not essential at all."
   ]
  },
  {
   "cell_type": "markdown",
   "metadata": {},
   "source": [
    "Let's arrange these in a standard confusion matrix:"
   ]
  },
  {
   "cell_type": "markdown",
   "metadata": {},
   "source": [
    "This allows us to compute some useful metrics about the predictions:"
   ]
  },
  {
   "cell_type": "markdown",
   "metadata": {},
   "source": [
    "---\n",
    "\n",
    "*This notebook was generated using [Literate.jl](https://github.com/fredrikekre/Literate.jl).*"
   ]
  }
 ],
 "metadata": {
  "kernelspec": {
   "display_name": "Julia 1.6.7",
   "language": "julia",
   "name": "julia-1.6"
  },
  "language_info": {
   "file_extension": ".jl",
   "mimetype": "application/julia",
   "name": "julia",
   "version": "1.6.7"
  }
 },
 "nbformat": 4,
 "nbformat_minor": 3
}
