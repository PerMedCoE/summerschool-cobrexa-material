{
 "cells": [
  {
   "outputs": [],
   "cell_type": "code",
   "source": [
    "using COBREXA"
   ],
   "metadata": {},
   "execution_count": 1
  },
  {
   "cell_type": "markdown",
   "source": [
    "Let's first get a simple model to have a look at"
   ],
   "metadata": {}
  },
  {
   "outputs": [
    {
     "output_type": "execute_result",
     "data": {
      "text/plain": "\"e_coli_core.json\""
     },
     "metadata": {},
     "execution_count": 2
    }
   ],
   "cell_type": "code",
   "source": [
    "import Downloads\n",
    "Downloads.download(\n",
    "    \"http://bigg.ucsd.edu/static/models/e_coli_core.json\",\n",
    "    \"e_coli_core.json\",\n",
    ")"
   ],
   "metadata": {},
   "execution_count": 2
  },
  {
   "cell_type": "markdown",
   "source": [
    "Load the model"
   ],
   "metadata": {}
  },
  {
   "outputs": [],
   "cell_type": "code",
   "source": [
    "ecoli = load_model(\"e_coli_core.json\");"
   ],
   "metadata": {},
   "execution_count": 3
  },
  {
   "cell_type": "markdown",
   "source": [
    "have a look at what the model contains. First, metabolites"
   ],
   "metadata": {}
  },
  {
   "outputs": [
    {
     "output_type": "execute_result",
     "data": {
      "text/plain": "72-element Vector{String}:\n \"glc__D_e\"\n \"gln__L_c\"\n \"gln__L_e\"\n \"glu__L_c\"\n \"glu__L_e\"\n \"glx_c\"\n \"h2o_c\"\n \"h2o_e\"\n \"h_c\"\n \"h_e\"\n ⋮\n \"f6p_c\"\n \"fdp_c\"\n \"for_c\"\n \"for_e\"\n \"fru_e\"\n \"fum_c\"\n \"fum_e\"\n \"g3p_c\"\n \"g6p_c\""
     },
     "metadata": {},
     "execution_count": 4
    }
   ],
   "cell_type": "code",
   "source": [
    "metabolites(ecoli)"
   ],
   "metadata": {},
   "execution_count": 4
  },
  {
   "cell_type": "markdown",
   "source": [
    "reactions"
   ],
   "metadata": {}
  },
  {
   "outputs": [
    {
     "output_type": "execute_result",
     "data": {
      "text/plain": "95-element Vector{String}:\n \"PFK\"\n \"PFL\"\n \"PGI\"\n \"PGK\"\n \"PGL\"\n \"ACALD\"\n \"AKGt2r\"\n \"PGM\"\n \"PIt2r\"\n \"ALCD2x\"\n ⋮\n \"MALt2_2\"\n \"MDH\"\n \"ME1\"\n \"ME2\"\n \"NADH16\"\n \"NADTRHD\"\n \"NH4t\"\n \"O2t\"\n \"PDH\""
     },
     "metadata": {},
     "execution_count": 5
    }
   ],
   "cell_type": "code",
   "source": [
    "reactions(ecoli)"
   ],
   "metadata": {},
   "execution_count": 5
  },
  {
   "cell_type": "markdown",
   "source": [
    "we can have a look at what each reaction does"
   ],
   "metadata": {}
  },
  {
   "outputs": [
    {
     "output_type": "execute_result",
     "data": {
      "text/plain": "Dict{String, Float64} with 5 entries:\n  \"adp_c\" => 1.0\n  \"atp_c\" => -1.0\n  \"f6p_c\" => -1.0\n  \"fdp_c\" => 1.0\n  \"h_c\"   => 1.0"
     },
     "metadata": {},
     "execution_count": 6
    }
   ],
   "cell_type": "code",
   "source": [
    "reaction_stoichiometry(ecoli, \"PFK\")"
   ],
   "metadata": {},
   "execution_count": 6
  },
  {
   "cell_type": "markdown",
   "source": [
    "or look at which metabolites belong to which compartments (Julia looping!)"
   ],
   "metadata": {}
  },
  {
   "outputs": [
    {
     "output_type": "execute_result",
     "data": {
      "text/plain": "72-element Vector{Pair{String, String}}:\n \"glc__D_e\" => \"e\"\n \"gln__L_c\" => \"c\"\n \"gln__L_e\" => \"e\"\n \"glu__L_c\" => \"c\"\n \"glu__L_e\" => \"e\"\n    \"glx_c\" => \"c\"\n    \"h2o_c\" => \"c\"\n    \"h2o_e\" => \"e\"\n      \"h_c\" => \"c\"\n      \"h_e\" => \"e\"\n            ⋮\n    \"f6p_c\" => \"c\"\n    \"fdp_c\" => \"c\"\n    \"for_c\" => \"c\"\n    \"for_e\" => \"e\"\n    \"fru_e\" => \"e\"\n    \"fum_c\" => \"c\"\n    \"fum_e\" => \"e\"\n    \"g3p_c\" => \"c\"\n    \"g6p_c\" => \"c\""
     },
     "metadata": {},
     "execution_count": 7
    }
   ],
   "cell_type": "code",
   "source": [
    "[m => metabolite_compartment(ecoli, m) for m in metabolites(ecoli)]"
   ],
   "metadata": {},
   "execution_count": 7
  },
  {
   "cell_type": "markdown",
   "source": [
    "or try to get human-readable names from the reactions"
   ],
   "metadata": {}
  },
  {
   "outputs": [
    {
     "output_type": "execute_result",
     "data": {
      "text/plain": "95-element Vector{Pair{String, String}}:\n    \"ACALD\" => \"Acetaldehyde dehydrogenase (acetylating)\"\n   \"ACALDt\" => \"Acetaldehyde reversible transport\"\n     \"ACKr\" => \"Acetate kinase\"\n   \"ACONTa\" => \"Aconitase (half-reaction A, Citrate hydro-lyase)\"\n   \"ACONTb\" => \"Aconitase (half-reaction B, Isocitrate hydro-lyase)\"\n    \"ACt2r\" => \"Acetate reversible transport via proton symport\"\n     \"ADK1\" => \"Adenylate kinase\"\n    \"AKGDH\" => \"2-Oxogluterate dehydrogenase\"\n   \"AKGt2r\" => \"2 oxoglutarate reversible transport via symport\"\n   \"ALCD2x\" => \"Alcohol dehydrogenase (ethanol)\"\n            ⋮\n \"SUCCt2_2\" => \"Succinate transport via proton symport (2 H)\"\n   \"SUCCt3\" => \"Succinate transport out via proton antiport\"\n    \"SUCDi\" => \"Succinate dehydrogenase (irreversible)\"\n   \"SUCOAS\" => \"Succinyl-CoA synthetase (ADP-forming)\"\n     \"TALA\" => \"Transaldolase\"\n     \"THD2\" => \"NAD(P) transhydrogenase\"\n     \"TKT1\" => \"Transketolase\"\n     \"TKT2\" => \"Transketolase\"\n      \"TPI\" => \"Triose-phosphate isomerase\""
     },
     "metadata": {},
     "execution_count": 8
    }
   ],
   "cell_type": "code",
   "source": [
    "sort([r => reaction_name(ecoli, r) for r in reactions(ecoli)])"
   ],
   "metadata": {},
   "execution_count": 8
  },
  {
   "cell_type": "markdown",
   "source": [
    "this is useful to e.g. quickly look up dehumanized gene IDs"
   ],
   "metadata": {}
  },
  {
   "outputs": [
    {
     "output_type": "execute_result",
     "data": {
      "text/plain": "137-element Vector{Pair{String, String}}:\n     \"\" => \"s0001\"\n \"aceA\" => \"b4015\"\n \"aceB\" => \"b4014\"\n \"aceE\" => \"b0114\"\n \"aceF\" => \"b0115\"\n \"ackA\" => \"b2296\"\n \"acnA\" => \"b1276\"\n \"acnB\" => \"b0118\"\n \"adhE\" => \"b1241\"\n \"adhP\" => \"b1478\"\n        ⋮\n \"talB\" => \"b0008\"\n \"tdcD\" => \"b3115\"\n \"tdcE\" => \"b3114\"\n \"tktA\" => \"b2935\"\n \"tktB\" => \"b2465\"\n \"tpiA\" => \"b3919\"\n \"ydjI\" => \"b1773\"\n \"ytjC\" => \"b4395\"\n  \"zwf\" => \"b1852\""
     },
     "metadata": {},
     "execution_count": 9
    }
   ],
   "cell_type": "code",
   "source": [
    "gs = genes(ecoli)\n",
    "sort(gene_name.(Ref(ecoli), gs) .=> gs)"
   ],
   "metadata": {},
   "execution_count": 9
  },
  {
   "cell_type": "markdown",
   "source": [
    "the model's internals are described by a bipartite graph between reactions\n",
    "and metabolites, commonly stoichiometry"
   ],
   "metadata": {}
  },
  {
   "outputs": [
    {
     "output_type": "execute_result",
     "data": {
      "text/plain": "72×95 SparseArrays.SparseMatrixCSC{Float64, Int64} with 360 stored entries:\n⎡⠀⠀⠀⠀⠀⠀⠀⠀⠀⠀⠆⠀⠀⠀⠀⠀⠀⠀⠀⠀⠀⠈⢄⠀⠀⠀⠀⠀⠀⠀⠈⠶⠴⡆⠀⠀⠀⠀⠀⠀⎤\n⎢⡀⢐⣀⢀⡀⡒⢒⣐⠀⣂⣂⠀⣂⣂⢂⠀⢀⠀⠀⠀⠀⠀⢀⠄⠀⠀⠀⢂⠀⢂⣀⣐⡒⡀⠆⢙⣀⠀⡀⠀⎥\n⎢⠀⠀⠀⠀⠀⠀⠁⠀⠀⠀⠀⠀⠀⠰⠀⠀⠀⠀⠀⠀⠀⠀⠀⠠⠀⠀⠀⠀⠀⡀⠀⠀⠀⠀⠈⢑⣀⣀⠀⠀⎥\n⎢⠀⠀⠃⠀⠃⠀⠀⠀⠘⠀⡇⠀⠀⠀⠀⠀⢸⠀⠀⠀⠀⠀⠀⠀⠁⠀⠀⠀⠀⠀⡜⠀⡄⣤⢠⠘⠙⢣⡇⠘⎥\n⎢⠀⠐⠀⡀⠀⠀⠀⠀⠀⠀⠀⠀⠀⠄⡀⠀⠀⠀⠀⠀⠀⠀⠀⠀⠐⠀⠀⠀⠀⠀⠐⠁⠉⠀⠀⠀⠀⠀⠘⠄⎥\n⎢⠀⢐⠀⠂⠀⠄⠠⠠⠀⠠⠆⠀⠄⠀⠄⠀⠀⠀⠀⠀⠀⠀⠀⠀⠀⠁⠀⠀⠠⠀⠠⠀⠀⢀⠀⠀⠠⠀⠀⠁⎥\n⎢⢀⠐⠀⠨⢀⠁⠈⣈⠀⢁⣁⠀⠀⠀⠀⠈⠀⠀⠀⠀⠀⠀⠀⠀⠀⠄⠀⠁⢀⠀⢊⠉⠀⠀⠀⢀⠀⣀⠀⢀⎥\n⎢⠀⠀⠀⠀⠀⠀⠀⠀⠀⠀⡈⠀⡀⠆⠀⠆⠀⡀⠀⠀⠀⠀⠀⠀⠀⠈⠀⠀⠆⠀⠀⠀⠀⠀⠀⠀⠀⠀⠆⠀⎥\n⎢⠀⠀⠂⠀⡂⠀⠀⠁⠀⠀⠀⠈⠁⠀⠀⠀⠄⠄⢁⠀⠀⠀⠀⠀⠀⠀⠀⠀⠀⠀⠀⠀⠀⠈⠀⠀⠀⠀⠀⠀⎥\n⎢⠈⠀⠁⠀⠀⢀⡀⠀⠠⠁⠁⠀⠑⠀⠐⠲⠀⠀⠀⠀⠀⠀⠀⠀⠀⠀⠂⠀⠂⠀⠀⠀⠀⠀⠀⠊⠀⠀⠀⠈⎥\n⎢⠄⠠⢠⠀⠰⠀⠠⠀⠤⠦⠄⠈⠀⠀⠀⠠⠀⠁⠀⡀⠀⠀⠀⠀⠀⠀⠀⠀⠀⠀⠀⠤⠄⠄⠠⠀⠀⠀⠀⠀⎥\n⎢⠂⠐⠀⠀⠐⡠⢐⠘⢃⠒⠂⡀⠄⠀⠀⠐⠀⠀⠀⢀⠀⠀⠀⠀⠀⠀⠀⠀⠀⠀⠀⠒⠀⢀⢀⠀⠀⣀⠀⢀⎥\n⎢⠈⠀⠁⠀⡀⠀⠀⠀⠈⠁⠅⠀⠁⠀⢀⠈⠄⠔⠀⠀⠀⠀⠀⠀⠀⠀⠐⠀⠀⠀⠀⠀⠀⠀⠀⠈⠀⠀⠀⠈⎥\n⎢⠣⠁⠀⠀⠀⠀⠀⠀⠀⠀⠁⠀⠀⠀⠈⠀⠁⠁⠀⠈⡀⠀⠀⠀⠀⠀⠐⢣⠈⠀⠀⠀⠀⠀⠀⠀⠀⠀⠀⠀⎥\n⎣⠀⡀⠀⠀⠀⠀⠀⠀⠀⠀⡄⠀⠀⠀⠀⠂⠄⠤⠀⠀⠈⠂⠀⠀⠀⠀⠠⠀⠊⠒⣠⠀⠀⠀⠀⠀⠀⠀⠀⠀⎦"
     },
     "metadata": {},
     "execution_count": 10
    }
   ],
   "cell_type": "code",
   "source": [
    "stoichiometry(ecoli)"
   ],
   "metadata": {},
   "execution_count": 10
  },
  {
   "cell_type": "markdown",
   "source": [
    "(the matrix is likely zoomed out, but otherwise it's a normal matrix)"
   ],
   "metadata": {}
  },
  {
   "cell_type": "markdown",
   "source": [
    "Let's try to build a tiny custom model\n",
    "ref: https://lcsb-biocore.github.io/COBREXA.jl/stable/examples/04b_standardmodel_construction/"
   ],
   "metadata": {}
  },
  {
   "cell_type": "markdown",
   "source": [
    "The model type for \"manually constructed\" models we call a StandardModel\n",
    "because it is kinda standard way to handle stuff in cobra community.\n",
    "Technically we can convert the above model to StandardModel and play with it:"
   ],
   "metadata": {}
  },
  {
   "outputs": [
    {
     "output_type": "execute_result",
     "data": {
      "text/plain": "0.5"
     },
     "metadata": {},
     "execution_count": 11
    }
   ],
   "cell_type": "code",
   "source": [
    "ecoli = convert(StandardModel, ecoli)\n",
    "ecoli.reactions[\"PFK\"]\n",
    "ecoli.reactions[\"PFK\"].lb = 0.5"
   ],
   "metadata": {},
   "execution_count": 11
  },
  {
   "cell_type": "markdown",
   "source": [
    "But we want to make a completely custom model"
   ],
   "metadata": {}
  },
  {
   "outputs": [
    {
     "output_type": "execute_result",
     "data": {
      "text/plain": "Metabolic model of type COBREXA.StandardModel\nsparse(Int64[], Int64[], Float64[], 0, 0)\nNumber of reactions: 0\nNumber of metabolites: 0\n"
     },
     "metadata": {},
     "execution_count": 12
    }
   ],
   "cell_type": "code",
   "source": [
    "m = StandardModel(\"MyModel\")"
   ],
   "metadata": {},
   "execution_count": 12
  },
  {
   "cell_type": "markdown",
   "source": [
    "let's make some metabolites"
   ],
   "metadata": {}
  },
  {
   "outputs": [
    {
     "output_type": "execute_result",
     "data": {
      "text/plain": "Metabolite.id: c\nMetabolite.name: ---\nMetabolite.formula: ---\nMetabolite.charge: ---\nMetabolite.compartment: ---\nMetabolite.notes: ---\nMetabolite.annotations: ---\n"
     },
     "metadata": {},
     "execution_count": 13
    }
   ],
   "cell_type": "code",
   "source": [
    "a = Metabolite(\"a\", name = \"molecule A\", formula = \"H2O\", compartment = \"outside\")\n",
    "b = Metabolite(\"b\") #details omitted for demonstration\n",
    "c = Metabolite(\"c\")"
   ],
   "metadata": {},
   "execution_count": 13
  },
  {
   "cell_type": "markdown",
   "source": [
    "Push the prepared metabolites into the model (the ! stands for \"execute!\", it\n",
    "is a syntactic convention for warning that the function changes the model in\n",
    "place)"
   ],
   "metadata": {}
  },
  {
   "outputs": [],
   "cell_type": "code",
   "source": [
    "add_metabolites!(m, [a, b, c])"
   ],
   "metadata": {},
   "execution_count": 14
  },
  {
   "cell_type": "markdown",
   "source": [
    "let's make some reactions"
   ],
   "metadata": {}
  },
  {
   "outputs": [
    {
     "output_type": "execute_result",
     "data": {
      "text/plain": "Dict{String, Int64} with 2 entries:\n  \"c\" => -1\n  \"a\" => 1"
     },
     "metadata": {},
     "execution_count": 15
    }
   ],
   "cell_type": "code",
   "source": [
    "bs = [Reaction(\"b$i\", lb = 0.0, ub = 10.0) for i = 1:3]\n",
    "bs[1].metabolites = Dict(\"a\" => 1)\n",
    "bs[2].metabolites = Dict(\"b\" => -1)\n",
    "bs[3].metabolites = Dict(\"c\" => -1)\n",
    "vs = [Reaction(\"v$i\", lb = 0.0, ub = 10.0) for i = 1:3]\n",
    "vs[1].metabolites = Dict(\"a\" => -1, \"b\" => 1)\n",
    "vs[2].metabolites = Dict(\"a\" => -1, \"c\" => 1)\n",
    "vs[3].metabolites = Dict(\"a\" => 1, \"c\" => -1)"
   ],
   "metadata": {},
   "execution_count": 15
  },
  {
   "cell_type": "markdown",
   "source": [
    "add the reactions to the model"
   ],
   "metadata": {}
  },
  {
   "outputs": [],
   "cell_type": "code",
   "source": [
    "add_reactions!(m, [bs; vs])"
   ],
   "metadata": {},
   "execution_count": 16
  },
  {
   "cell_type": "markdown",
   "source": [
    "let's have a look at what it looks like as a matrix"
   ],
   "metadata": {}
  },
  {
   "outputs": [
    {
     "output_type": "execute_result",
     "data": {
      "text/plain": "3×6 SparseArrays.SparseMatrixCSC{Float64, Int64} with 9 stored entries:\n 1.0    ⋅     ⋅   -1.0  -1.0   1.0\n  ⋅   -1.0    ⋅    1.0    ⋅     ⋅ \n  ⋅     ⋅   -1.0    ⋅    1.0  -1.0"
     },
     "metadata": {},
     "execution_count": 17
    }
   ],
   "cell_type": "code",
   "source": [
    "stoichiometry(m)"
   ],
   "metadata": {},
   "execution_count": 17
  },
  {
   "cell_type": "markdown",
   "source": [
    "---\n",
    "\n",
    "*This notebook was generated using [Literate.jl](https://github.com/fredrikekre/Literate.jl).*"
   ],
   "metadata": {}
  }
 ],
 "nbformat_minor": 3,
 "metadata": {
  "language_info": {
   "file_extension": ".jl",
   "mimetype": "application/julia",
   "name": "julia",
   "version": "1.9.0-beta3"
  },
  "kernelspec": {
   "name": "julia-1.9",
   "display_name": "Julia 1.9.0-beta3",
   "language": "julia"
  }
 },
 "nbformat": 4
}
