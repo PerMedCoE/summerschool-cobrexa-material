{
 "cells": [
  {
   "cell_type": "markdown",
   "source": [
    "Install the packages if they are not installed yet"
   ],
   "metadata": {}
  },
  {
   "outputs": [
    {
     "name": "stdout",
     "output_type": "stream",
     "text": [
      "   Resolving package versions...\n",
      "  No Changes to `~/.julia/environments/v1.9/Project.toml`\n",
      "  No Changes to `~/.julia/environments/v1.9/Manifest.toml`\n"
     ]
    }
   ],
   "cell_type": "code",
   "source": [
    "import Pkg\n",
    "Pkg.add([\"COBREXA\", \"GLPK\"])\n",
    "\n",
    "using COBREXA"
   ],
   "metadata": {},
   "execution_count": 1
  },
  {
   "cell_type": "markdown",
   "source": [
    "Let's download and open a big model"
   ],
   "metadata": {}
  },
  {
   "outputs": [],
   "cell_type": "code",
   "source": [
    "import Downloads\n",
    "Downloads.download(\"http://bigg.ucsd.edu/static/models/iJO1366.json\", \"ecoli.json\")\n",
    "m = load_model(StandardModel, \"ecoli.json\");"
   ],
   "metadata": {},
   "execution_count": 2
  },
  {
   "cell_type": "markdown",
   "source": [
    "...we've opened it as StandardModel right away to allow easy manual\n",
    "modifications."
   ],
   "metadata": {}
  },
  {
   "cell_type": "markdown",
   "source": [
    "see the objective function"
   ],
   "metadata": {}
  },
  {
   "outputs": [
    {
     "output_type": "execute_result",
     "data": {
      "text/plain": "\"BIOMASS_Ec_iJO1366_core_53p95M\""
     },
     "metadata": {},
     "execution_count": 3
    }
   ],
   "cell_type": "code",
   "source": [
    "objective(m) # gives a sparse vector that maximizes a single reaction\n",
    "reactions(m)[19] # the number may differ"
   ],
   "metadata": {},
   "execution_count": 3
  },
  {
   "cell_type": "markdown",
   "source": [
    "See the exchanges.\n",
    "Unfortunately, instead of proper annotation the \"standard\" for identifying\n",
    "exchange reactions now depends on prefixing the reaction ID with EX_, so at\n",
    "least we can filter them out by checking the prefixes."
   ],
   "metadata": {}
  },
  {
   "outputs": [
    {
     "output_type": "execute_result",
     "data": {
      "text/plain": "324-element Vector{Pair{String, String}}:\n        \"EX_cm_e\" => \"Chloramphenicol exchange\"\n       \"EX_cmp_e\" => \"CMP exchange\"\n       \"EX_co2_e\" => \"CO2 exchange\"\n   \"EX_cobalt2_e\" => \"Co2+ exchange\"\n    \"EX_colipa_e\" => \"Core oligosaccharide lipid A exchange\"\n    \"EX_glc__D_e\" => \"D-Glucose exchange\"\n      \"EX_glcn_e\" => \"D-Gluconate exchange\"\n      \"EX_glcr_e\" => \"D-Glucarate exchange\"\n   \"EX_colipap_e\" => \"Core oligosaccharide lipid A diphosphate exchange\"\n     \"EX_glcur_e\" => \"D-Glucuronate exchange\"\n                  ⋮\n  \"EX_galct__D_e\" => \"D-Galactarate exchange\"\n \"EX_galctn__D_e\" => \"D-Galactonate exchange\"\n \"EX_galctn__L_e\" => \"L-Galactonate exchange\"\n      \"EX_galt_e\" => \"Galactitol exchange\"\n     \"EX_galur_e\" => \"D-Galacturonate exchange\"\n       \"EX_gam_e\" => \"D-Glucosamine exchange\"\n     \"EX_gam6p_e\" => \"D-Glucosamine 6-phosphate exchange\"\n     \"EX_gbbtn_e\" => \"Gamma-butyrobetaine exchange\"\n       \"EX_gdp_e\" => \"GDP exchange\""
     },
     "metadata": {},
     "execution_count": 4
    }
   ],
   "cell_type": "code",
   "source": [
    "exchanges = filter(startswith(\"EX_\"), reactions(m))\n",
    "\n",
    "exchanges .=> reaction_name.(Ref(m), exchanges)"
   ],
   "metadata": {},
   "execution_count": 4
  },
  {
   "cell_type": "markdown",
   "source": [
    "Let's run the FBA. First we need everyone's favorite linear solver\n",
    "Ref: https://lcsb-biocore.github.io/COBREXA.jl/stable/examples/05a_fba/"
   ],
   "metadata": {}
  },
  {
   "outputs": [],
   "cell_type": "code",
   "source": [
    "using GLPK"
   ],
   "metadata": {},
   "execution_count": 5
  },
  {
   "cell_type": "markdown",
   "source": [
    "For simplicity, let's ask for a dictionary right away."
   ],
   "metadata": {}
  },
  {
   "outputs": [
    {
     "output_type": "execute_result",
     "data": {
      "text/plain": "Dict{String, Float64} with 2583 entries:\n  \"Zn2tex\"        => 0.000334989\n  \"GUI1\"          => 0.0\n  \"DXYLK\"         => 0.0\n  \"CBL1tonex\"     => 0.0\n  \"FE3DCITtonex\"  => 0.0\n  \"FACOAL180t2pp\" => 0.0\n  \"METSOXR1\"      => 0.0\n  \"LIPOtex\"       => 0.0\n  \"NTD11\"         => 0.0\n  \"GLUNpp\"        => 0.0\n  \"ORNDC\"         => 0.0\n  \"ALAGLUE\"       => 0.0\n  \"UAGCVT\"        => 0.0272981\n  \"I2FE2ST\"       => 2.75064e-5\n  \"BMOCOS\"        => 0.000119849\n  \"GLCURt2rpp\"    => 0.0\n  \"EX_g3pg_e\"     => 0.0\n  \"EX_acolipa_e\"  => 0.0\n  \"PGSA141\"       => 0.0\n  ⋮               => ⋮"
     },
     "metadata": {},
     "execution_count": 6
    }
   ],
   "cell_type": "code",
   "source": [
    "sol = flux_balance_analysis_dict(m, GLPK.Optimizer)"
   ],
   "metadata": {},
   "execution_count": 6
  },
  {
   "cell_type": "markdown",
   "source": [
    "we can have a look at our objective reaction"
   ],
   "metadata": {}
  },
  {
   "outputs": [
    {
     "output_type": "execute_result",
     "data": {
      "text/plain": "0.9823718127269752"
     },
     "metadata": {},
     "execution_count": 7
    }
   ],
   "cell_type": "code",
   "source": [
    "sol[\"BIOMASS_Ec_iJO1366_core_53p95M\"]  # (it is possible to tab through the dictionary keys)"
   ],
   "metadata": {},
   "execution_count": 7
  },
  {
   "cell_type": "markdown",
   "source": [
    "we can have a look at the main things that happen"
   ],
   "metadata": {}
  },
  {
   "outputs": [
    {
     "output_type": "execute_result",
     "data": {
      "text/plain": "Biomass\n  BIOMASS_Ec_iJO1366_core_53p95M: 0.9824\n  BIOMASS_Ec_iJO1366_WT_53p95M:   0.0\nImport\n  EX_o2_e:                        -17.5789\n  EX_nh4_e:                       -10.6104\n  EX_glc__D_e:                    -10.0\n  EX_pi_e:                        -0.9476\n  EX_so4_e:                       -0.2478\n  EX_k_e:                         -0.1918\n  EX_fe2_e:                       -0.0158\n  EX_mg2_e:                       -0.0085\n  EX_ca2_e:                       -0.0051\n  EX_cl_e:                        -0.0051\n  EX_cu2_e:                       -0.0007\n  EX_mn2_e:                       -0.0007\n  EX_zn2_e:                       -0.0003\n  EX_ni2_e:                       -0.0003\n  EX_mobd_e:                      -0.0001\n  EX_cobalt2_e:                   -0.0\nExport\n  EX_meoh_e:                      0.0\n  EX_h_e:                         9.0263\n  EX_co2_e:                       19.6752\n  EX_h2o_e:                       45.6194\n"
     },
     "metadata": {},
     "execution_count": 8
    }
   ],
   "cell_type": "code",
   "source": [
    "flux_summary(sol)"
   ],
   "metadata": {},
   "execution_count": 8
  },
  {
   "cell_type": "markdown",
   "source": [
    "(this guesses the exchange/biomass status based on reaction IDs)"
   ],
   "metadata": {}
  },
  {
   "cell_type": "markdown",
   "source": [
    "...or write the result to a file for future use. First, let's create a data frame:"
   ],
   "metadata": {}
  },
  {
   "outputs": [
    {
     "name": "stdout",
     "output_type": "stream",
     "text": [
      "   Resolving package versions...\n",
      "  No Changes to `~/.julia/environments/v1.9/Project.toml`\n",
      "  No Changes to `~/.julia/environments/v1.9/Manifest.toml`\n"
     ]
    },
    {
     "output_type": "execute_result",
     "data": {
      "text/plain": "\u001b[1m2583×2 DataFrame\u001b[0m\n\u001b[1m  Row \u001b[0m│\u001b[1m reaction      \u001b[0m\u001b[1m flux         \u001b[0m\n      │\u001b[90m String        \u001b[0m\u001b[90m Float64      \u001b[0m\n──────┼─────────────────────────────\n    1 │ Zn2tex          0.000334989\n    2 │ GUI1            0.0\n    3 │ DXYLK           0.0\n    4 │ CBL1tonex       0.0\n    5 │ FE3DCITtonex    0.0\n    6 │ FACOAL180t2pp   0.0\n    7 │ METSOXR1        0.0\n    8 │ LIPOtex         0.0\n  ⋮   │       ⋮             ⋮\n 2577 │ ADOCBIK         0.0\n 2578 │ AM4PA           0.0\n 2579 │ MALS            0.000657207\n 2580 │ TDSR2           0.0\n 2581 │ AGMHE           0.0\n 2582 │ LPLIPAL2A141    0.0\n 2583 │ PGPP141         0.0\n\u001b[36m                   2568 rows omitted\u001b[0m",
      "text/html": [
       "<div><div style = \"float: left;\"><span>2583×2 DataFrame</span></div><div style = \"float: right;\"><span style = \"font-style: italic;\">2558 rows omitted</span></div><div style = \"clear: both;\"></div></div><div class = \"data-frame\" style = \"overflow-x: scroll;\"><table class = \"data-frame\" style = \"margin-bottom: 6px;\"><thead><tr class = \"header\"><th class = \"rowNumber\" style = \"font-weight: bold; text-align: right;\">Row</th><th style = \"text-align: left;\">reaction</th><th style = \"text-align: left;\">flux</th></tr><tr class = \"subheader headerLastRow\"><th class = \"rowNumber\" style = \"font-weight: bold; text-align: right;\"></th><th title = \"String\" style = \"text-align: left;\">String</th><th title = \"Float64\" style = \"text-align: left;\">Float64</th></tr></thead><tbody><tr><td class = \"rowNumber\" style = \"font-weight: bold; text-align: right;\">1</td><td style = \"text-align: left;\">Zn2tex</td><td style = \"text-align: right;\">0.000334989</td></tr><tr><td class = \"rowNumber\" style = \"font-weight: bold; text-align: right;\">2</td><td style = \"text-align: left;\">GUI1</td><td style = \"text-align: right;\">0.0</td></tr><tr><td class = \"rowNumber\" style = \"font-weight: bold; text-align: right;\">3</td><td style = \"text-align: left;\">DXYLK</td><td style = \"text-align: right;\">0.0</td></tr><tr><td class = \"rowNumber\" style = \"font-weight: bold; text-align: right;\">4</td><td style = \"text-align: left;\">CBL1tonex</td><td style = \"text-align: right;\">0.0</td></tr><tr><td class = \"rowNumber\" style = \"font-weight: bold; text-align: right;\">5</td><td style = \"text-align: left;\">FE3DCITtonex</td><td style = \"text-align: right;\">0.0</td></tr><tr><td class = \"rowNumber\" style = \"font-weight: bold; text-align: right;\">6</td><td style = \"text-align: left;\">FACOAL180t2pp</td><td style = \"text-align: right;\">0.0</td></tr><tr><td class = \"rowNumber\" style = \"font-weight: bold; text-align: right;\">7</td><td style = \"text-align: left;\">METSOXR1</td><td style = \"text-align: right;\">0.0</td></tr><tr><td class = \"rowNumber\" style = \"font-weight: bold; text-align: right;\">8</td><td style = \"text-align: left;\">LIPOtex</td><td style = \"text-align: right;\">0.0</td></tr><tr><td class = \"rowNumber\" style = \"font-weight: bold; text-align: right;\">9</td><td style = \"text-align: left;\">NTD11</td><td style = \"text-align: right;\">0.0</td></tr><tr><td class = \"rowNumber\" style = \"font-weight: bold; text-align: right;\">10</td><td style = \"text-align: left;\">GLUNpp</td><td style = \"text-align: right;\">0.0</td></tr><tr><td class = \"rowNumber\" style = \"font-weight: bold; text-align: right;\">11</td><td style = \"text-align: left;\">ORNDC</td><td style = \"text-align: right;\">0.0</td></tr><tr><td class = \"rowNumber\" style = \"font-weight: bold; text-align: right;\">12</td><td style = \"text-align: left;\">ALAGLUE</td><td style = \"text-align: right;\">0.0</td></tr><tr><td class = \"rowNumber\" style = \"font-weight: bold; text-align: right;\">13</td><td style = \"text-align: left;\">UAGCVT</td><td style = \"text-align: right;\">0.0272981</td></tr><tr><td style = \"text-align: right;\">&vellip;</td><td style = \"text-align: right;\">&vellip;</td><td style = \"text-align: right;\">&vellip;</td></tr><tr><td class = \"rowNumber\" style = \"font-weight: bold; text-align: right;\">2572</td><td style = \"text-align: left;\">OPHBDC</td><td style = \"text-align: right;\">0.000219069</td></tr><tr><td class = \"rowNumber\" style = \"font-weight: bold; text-align: right;\">2573</td><td style = \"text-align: left;\">ENO</td><td style = \"text-align: right;\">14.5869</td></tr><tr><td class = \"rowNumber\" style = \"font-weight: bold; text-align: right;\">2574</td><td style = \"text-align: left;\">PPM2</td><td style = \"text-align: right;\">0.0</td></tr><tr><td class = \"rowNumber\" style = \"font-weight: bold; text-align: right;\">2575</td><td style = \"text-align: left;\">EX_h2o2_e</td><td style = \"text-align: right;\">0.0</td></tr><tr><td class = \"rowNumber\" style = \"font-weight: bold; text-align: right;\">2576</td><td style = \"text-align: left;\">PLIPA2G140pp</td><td style = \"text-align: right;\">0.0</td></tr><tr><td class = \"rowNumber\" style = \"font-weight: bold; text-align: right;\">2577</td><td style = \"text-align: left;\">ADOCBIK</td><td style = \"text-align: right;\">0.0</td></tr><tr><td class = \"rowNumber\" style = \"font-weight: bold; text-align: right;\">2578</td><td style = \"text-align: left;\">AM4PA</td><td style = \"text-align: right;\">0.0</td></tr><tr><td class = \"rowNumber\" style = \"font-weight: bold; text-align: right;\">2579</td><td style = \"text-align: left;\">MALS</td><td style = \"text-align: right;\">0.000657207</td></tr><tr><td class = \"rowNumber\" style = \"font-weight: bold; text-align: right;\">2580</td><td style = \"text-align: left;\">TDSR2</td><td style = \"text-align: right;\">0.0</td></tr><tr><td class = \"rowNumber\" style = \"font-weight: bold; text-align: right;\">2581</td><td style = \"text-align: left;\">AGMHE</td><td style = \"text-align: right;\">0.0</td></tr><tr><td class = \"rowNumber\" style = \"font-weight: bold; text-align: right;\">2582</td><td style = \"text-align: left;\">LPLIPAL2A141</td><td style = \"text-align: right;\">0.0</td></tr><tr><td class = \"rowNumber\" style = \"font-weight: bold; text-align: right;\">2583</td><td style = \"text-align: left;\">PGPP141</td><td style = \"text-align: right;\">0.0</td></tr></tbody></table></div>"
      ]
     },
     "metadata": {},
     "execution_count": 9
    }
   ],
   "cell_type": "code",
   "source": [
    "Pkg.add([\"DataFrames\", \"CSV\"])\n",
    "using DataFrames, CSV\n",
    "df = DataFrame(reaction = collect(keys(sol)), flux = collect(values(sol)))"
   ],
   "metadata": {},
   "execution_count": 9
  },
  {
   "cell_type": "markdown",
   "source": [
    "...and write the CSV:"
   ],
   "metadata": {}
  },
  {
   "outputs": [
    {
     "output_type": "execute_result",
     "data": {
      "text/plain": "\"mysolution.csv\""
     },
     "metadata": {},
     "execution_count": 10
    }
   ],
   "cell_type": "code",
   "source": [
    "CSV.write(\"mysolution.csv\", df)"
   ],
   "metadata": {},
   "execution_count": 10
  },
  {
   "cell_type": "markdown",
   "source": [
    "Let's choke the model a bit, reducing the availbale oxygen and sugar"
   ],
   "metadata": {}
  },
  {
   "outputs": [
    {
     "output_type": "execute_result",
     "data": {
      "text/plain": "0.18602227486090275"
     },
     "metadata": {},
     "execution_count": 11
    }
   ],
   "cell_type": "code",
   "source": [
    "m.reactions[\"EX_o2_e\"].lb = -20\n",
    "m.reactions[\"EX_glc__D_e\"].lb = -2\n",
    "sol = flux_balance_analysis_dict(m, GLPK.Optimizer)\n",
    "sol[\"BIOMASS_Ec_iJO1366_core_53p95M\"] # less growth"
   ],
   "metadata": {},
   "execution_count": 11
  },
  {
   "cell_type": "markdown",
   "source": [
    "allow eating acetate instead"
   ],
   "metadata": {}
  },
  {
   "outputs": [
    {
     "output_type": "execute_result",
     "data": {
      "text/plain": "0.6895707851538995"
     },
     "metadata": {},
     "execution_count": 12
    }
   ],
   "cell_type": "code",
   "source": [
    "m.reactions[\"EX_ac_e\"].lb = -100\n",
    "sol = flux_balance_analysis_dict(m, GLPK.Optimizer)\n",
    "sol[\"BIOMASS_Ec_iJO1366_core_53p95M\"] # a lot of growth again"
   ],
   "metadata": {},
   "execution_count": 12
  },
  {
   "cell_type": "markdown",
   "source": [
    "At this point, the original model data has been overwritten and there's no\n",
    "telling which bounds are still from the original model or which have been\n",
    "modified. For many reasons it is better to do this stuff without breaking the\n",
    "model internals manually, and COBREXA has a system of \"analysis\n",
    "modifications\" for that purpose:"
   ],
   "metadata": {}
  },
  {
   "outputs": [
    {
     "output_type": "execute_result",
     "data": {
      "text/plain": "0.18602227486090275"
     },
     "metadata": {},
     "execution_count": 13
    }
   ],
   "cell_type": "code",
   "source": [
    "m = load_model(StandardModel, \"ecoli.json\");\n",
    "sol = flux_balance_analysis_dict(\n",
    "    m,\n",
    "    GLPK.Optimizer,\n",
    "    modifications = [\n",
    "        change_constraint(\"EX_o2_e\", lb = -20.0),\n",
    "        change_constraint(\"EX_glc__D_e\", lb = -2.0),\n",
    "    ],\n",
    ");\n",
    "sol[\"BIOMASS_Ec_iJO1366_core_53p95M\"]\n",
    "#...this scales much better if you need to try more stuff. Other modifications"
   ],
   "metadata": {},
   "execution_count": 13
  },
  {
   "cell_type": "markdown",
   "source": [
    "include e.g. `change_objective`, `silence` for shutting down the output from\n",
    "overly verbose solvers (such as OSQP), and `change_optimizer_attribute` for\n",
    "tuning the optimizer behavior."
   ],
   "metadata": {}
  },
  {
   "cell_type": "markdown",
   "source": [
    "There is a nice app at https://escher.github.io/ that allows us to visualize\n",
    "and browse the solutions to metabolic models. You can load the visualization\n",
    "of this model as Map: \"Core metabolism (e_coli_core)\" and Tool: \"Viewer\".\n",
    "\n",
    "Let's produce a JSON file with our solution that we can upload:"
   ],
   "metadata": {}
  },
  {
   "outputs": [
    {
     "name": "stdout",
     "output_type": "stream",
     "text": [
      "   Resolving package versions...\n",
      "  No Changes to `~/.julia/environments/v1.9/Project.toml`\n",
      "  No Changes to `~/.julia/environments/v1.9/Manifest.toml`\n"
     ]
    },
    {
     "output_type": "execute_result",
     "data": {
      "text/plain": "55523"
     },
     "metadata": {},
     "execution_count": 14
    }
   ],
   "cell_type": "code",
   "source": [
    "Pkg.add(\"JSON\")\n",
    "using JSON\n",
    "\n",
    "write(\n",
    "    \"mysolution.json\",\n",
    "    JSON.json(\n",
    "        sol, # the solution\n",
    "        2, # make the JSON human-readable by using 2-space indentation, instead of optimizing for size\n",
    "    )\n",
    ")"
   ],
   "metadata": {},
   "execution_count": 14
  },
  {
   "cell_type": "markdown",
   "source": [
    "You can now upload the file `mysolution.json` to the Escher viewer via\n",
    "`Data → Load reaction data`\n",
    "to see the fluxes visualized."
   ],
   "metadata": {}
  },
  {
   "cell_type": "markdown",
   "source": [
    "More configurable Escher plotting directly from Julia to files (PDF, PNG) is\n",
    "available via https://github.com/stelmo/Escher.jl"
   ],
   "metadata": {}
  },
  {
   "cell_type": "markdown",
   "source": [
    "---\n",
    "\n",
    "*This notebook was generated using [Literate.jl](https://github.com/fredrikekre/Literate.jl).*"
   ],
   "metadata": {}
  }
 ],
 "nbformat_minor": 3,
 "metadata": {
  "language_info": {
   "file_extension": ".jl",
   "mimetype": "application/julia",
   "name": "julia",
   "version": "1.9.0-beta3"
  },
  "kernelspec": {
   "name": "julia-1.9",
   "display_name": "Julia 1.9.0-beta3",
   "language": "julia"
  }
 },
 "nbformat": 4
}
