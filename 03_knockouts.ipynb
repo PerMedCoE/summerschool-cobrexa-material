{
 "cells": [
  {
   "cell_type": "markdown",
   "source": [
    "Install COBREXA if not installed yet, and load it"
   ],
   "metadata": {}
  },
  {
   "outputs": [
    {
     "name": "stdout",
     "output_type": "stream",
     "text": [
      "   Resolving package versions...\n",
      "  No Changes to `~/.julia/environments/v1.9/Project.toml`\n",
      "  No Changes to `~/.julia/environments/v1.9/Manifest.toml`\n"
     ]
    }
   ],
   "cell_type": "code",
   "source": [
    "import Pkg\n",
    "Pkg.add(\"COBREXA\")\n",
    "using COBREXA"
   ],
   "metadata": {},
   "execution_count": 1
  },
  {
   "cell_type": "markdown",
   "source": [
    "Let's download and open the big model again"
   ],
   "metadata": {}
  },
  {
   "outputs": [],
   "cell_type": "code",
   "source": [
    "import Downloads\n",
    "Downloads.download(\"http://bigg.ucsd.edu/static/models/iJO1366.json\", \"ecoli.json\")\n",
    "model = load_model(StandardModel, \"ecoli.json\");"
   ],
   "metadata": {},
   "execution_count": 2
  },
  {
   "cell_type": "markdown",
   "source": [
    "Main reference is this:\n",
    "https://lcsb-biocore.github.io/COBREXA.jl/stable/examples/07_gene_deletion/\n",
    "\n",
    "Each reaction has a gene association, which dictates the gene products that\n",
    "need to be available so that the reaction can \"run\"."
   ],
   "metadata": {}
  },
  {
   "outputs": [
    {
     "output_type": "execute_result",
     "data": {
      "text/plain": "2-element Vector{Vector{String}}:\n [\"b1723\"]\n [\"b3916\"]"
     },
     "metadata": {},
     "execution_count": 3
    }
   ],
   "cell_type": "code",
   "source": [
    "genes(model)\n",
    "\n",
    "gene_rules_dnf = reaction_gene_association(model, \"PFK\")"
   ],
   "metadata": {},
   "execution_count": 3
  },
  {
   "cell_type": "markdown",
   "source": [
    "The result is in DNF for (computational) simplicity; the rules can be\n",
    "converted e.g. to Strings which are more suitable for reading:"
   ],
   "metadata": {}
  },
  {
   "outputs": [
    {
     "output_type": "execute_result",
     "data": {
      "text/plain": "\"(b1723) || (b3916)\""
     },
     "metadata": {},
     "execution_count": 4
    }
   ],
   "cell_type": "code",
   "source": [
    "COBREXA._unparse_grr(String, gene_rules_dnf)"
   ],
   "metadata": {},
   "execution_count": 4
  },
  {
   "cell_type": "markdown",
   "source": [
    "We might knock out genes by running through the reactions and evaluating DNF.\n",
    "The knockout is available as a modification for simplicity:"
   ],
   "metadata": {}
  },
  {
   "outputs": [
    {
     "output_type": "execute_result",
     "data": {
      "text/plain": "\"gltA\""
     },
     "metadata": {},
     "execution_count": 5
    }
   ],
   "cell_type": "code",
   "source": [
    "gene_name(model, \"b0720\")"
   ],
   "metadata": {},
   "execution_count": 5
  },
  {
   "cell_type": "markdown",
   "source": [
    "We need a solver"
   ],
   "metadata": {}
  },
  {
   "outputs": [
    {
     "name": "stdout",
     "output_type": "stream",
     "text": [
      "   Resolving package versions...\n",
      "  No Changes to `~/.julia/environments/v1.9/Project.toml`\n",
      "  No Changes to `~/.julia/environments/v1.9/Manifest.toml`\n"
     ]
    }
   ],
   "cell_type": "code",
   "source": [
    "Pkg.add(\"GLPK\")"
   ],
   "metadata": {},
   "execution_count": 6
  },
  {
   "cell_type": "markdown",
   "source": [
    "Run the knockout (implemented as an analysis modification for convenience)"
   ],
   "metadata": {}
  },
  {
   "outputs": [
    {
     "output_type": "execute_result",
     "data": {
      "text/plain": "4.7967818666792276e-32"
     },
     "metadata": {},
     "execution_count": 7
    }
   ],
   "cell_type": "code",
   "source": [
    "using GLPK\n",
    "sol = flux_balance_analysis_dict(\n",
    "    model,\n",
    "    GLPK.Optimizer,\n",
    "    modifications = [knockout(\"b0720\")],\n",
    ")\n",
    "sol[\"BIOMASS_Ec_iJO1366_core_53p95M\"]"
   ],
   "metadata": {},
   "execution_count": 7
  },
  {
   "cell_type": "markdown",
   "source": [
    "...the model is still feasible (so it can \"sustain itself\"), but growth is\n",
    "basically zero."
   ],
   "metadata": {}
  },
  {
   "cell_type": "markdown",
   "source": [
    "We can screen through all genes. One could simply write something like:"
   ],
   "metadata": {}
  },
  {
   "outputs": [
    {
     "output_type": "execute_result",
     "data": {
      "text/plain": "10-element Vector{Dict{String, Float64}}:\n Dict(\"Zn2tex\" => 0.00033498878813989854, \"GUI1\" => 0.0, \"DXYLK\" => 0.0, \"CBL1tonex\" => 0.0, \"FE3DCITtonex\" => 0.0, \"FACOAL180t2pp\" => 0.0, \"METSOXR1\" => 0.0, \"LIPOtex\" => 0.0, \"NTD11\" => 0.0, \"GLUNpp\" => 0.0…)\n Dict(\"Zn2tex\" => 0.00033498878813989854, \"GUI1\" => 0.0, \"DXYLK\" => 0.0, \"CBL1tonex\" => 0.0, \"FE3DCITtonex\" => 0.0, \"FACOAL180t2pp\" => 0.0, \"METSOXR1\" => 0.0, \"LIPOtex\" => 0.0, \"NTD11\" => 0.0, \"GLUNpp\" => 0.0…)\n Dict(\"Zn2tex\" => 0.00033498878813989854, \"GUI1\" => 0.0, \"DXYLK\" => 0.0, \"CBL1tonex\" => 0.0, \"FE3DCITtonex\" => 0.0, \"FACOAL180t2pp\" => 0.0, \"METSOXR1\" => 0.0, \"LIPOtex\" => 0.0, \"NTD11\" => 0.0, \"GLUNpp\" => 0.0…)\n Dict(\"Zn2tex\" => 0.00033498878813989854, \"GUI1\" => 0.0, \"DXYLK\" => 0.0, \"CBL1tonex\" => 0.0, \"FE3DCITtonex\" => 0.0, \"FACOAL180t2pp\" => 0.0, \"METSOXR1\" => 0.0, \"LIPOtex\" => 0.0, \"NTD11\" => 0.0, \"GLUNpp\" => 0.0…)\n Dict(\"Zn2tex\" => 0.00033498878813989854, \"GUI1\" => 0.0, \"DXYLK\" => 0.0, \"CBL1tonex\" => 0.0, \"FE3DCITtonex\" => 0.0, \"FACOAL180t2pp\" => 0.0, \"METSOXR1\" => 0.0, \"LIPOtex\" => 0.0, \"NTD11\" => 0.0, \"GLUNpp\" => 0.0…)\n Dict(\"Zn2tex\" => 0.00033498878813989854, \"GUI1\" => 0.0, \"DXYLK\" => 0.0, \"CBL1tonex\" => 0.0, \"FE3DCITtonex\" => 0.0, \"FACOAL180t2pp\" => 0.0, \"METSOXR1\" => 0.0, \"LIPOtex\" => 0.0, \"NTD11\" => 0.0, \"GLUNpp\" => 0.0…)\n Dict(\"Zn2tex\" => 0.00033498878813989854, \"GUI1\" => 0.0, \"DXYLK\" => 0.0, \"CBL1tonex\" => 0.0, \"FE3DCITtonex\" => 0.0, \"FACOAL180t2pp\" => 0.0, \"METSOXR1\" => 0.0, \"LIPOtex\" => 0.0, \"NTD11\" => 0.0, \"GLUNpp\" => 0.0…)\n Dict(\"Zn2tex\" => 0.00033498878813989854, \"GUI1\" => 0.0, \"DXYLK\" => 0.0, \"CBL1tonex\" => 0.0, \"FE3DCITtonex\" => 0.0, \"FACOAL180t2pp\" => 0.0, \"METSOXR1\" => 0.0, \"LIPOtex\" => 0.0, \"NTD11\" => 0.0, \"GLUNpp\" => 0.0…)\n Dict(\"Zn2tex\" => 0.0003349887881398992, \"GUI1\" => 0.0, \"DXYLK\" => 0.0, \"CBL1tonex\" => 0.0, \"FE3DCITtonex\" => 0.0, \"FACOAL180t2pp\" => 0.0, \"METSOXR1\" => 0.0, \"LIPOtex\" => 0.0, \"NTD11\" => 0.0, \"GLUNpp\" => 0.0…)\n Dict(\"Zn2tex\" => 0.0, \"GUI1\" => 0.0, \"DXYLK\" => 0.0, \"CBL1tonex\" => 0.0, \"FE3DCITtonex\" => 1.2911050829896582e-17, \"FACOAL180t2pp\" => 0.0, \"METSOXR1\" => 0.0, \"LIPOtex\" => 0.0, \"NTD11\" => 0.0, \"GLUNpp\" => 0.0…)"
     },
     "metadata": {},
     "execution_count": 8
    }
   ],
   "cell_type": "code",
   "source": [
    "[\n",
    "    flux_balance_analysis_dict(model, GLPK.Optimizer, modifications = [knockout(g)]) for\n",
    "    g in genes(model)[1:10]\n",
    "]"
   ],
   "metadata": {},
   "execution_count": 8
  },
  {
   "cell_type": "markdown",
   "source": [
    "...but that might be slow for larger amounts of genes, and we would like to\n",
    "add some special handling for knockouts where there is no feasible solution\n",
    "(and the function returns `nothing`)."
   ],
   "metadata": {}
  },
  {
   "cell_type": "markdown",
   "source": [
    "First, let's use COBREXA parallelization capabilities to make this faster. We\n",
    "use Distributed package to run this over multiple processes:"
   ],
   "metadata": {}
  },
  {
   "outputs": [],
   "cell_type": "code",
   "source": [
    "using Distributed\n",
    "#addprocs(8)  # only add processes if you are sure that you have sufficient resources available!"
   ],
   "metadata": {},
   "execution_count": 9
  },
  {
   "cell_type": "markdown",
   "source": [
    "load our stuff on the small cluster"
   ],
   "metadata": {}
  },
  {
   "outputs": [],
   "cell_type": "code",
   "source": [
    "#@everywhere using COBREXA, GLPK # only necessary if you added the extra processes"
   ],
   "metadata": {},
   "execution_count": 10
  },
  {
   "cell_type": "markdown",
   "source": [
    "`screen` function allows us to run many analyses on a model with parallel,\n",
    "with many optimizations related for distributed processing (e.g., data are\n",
    "only moved once)."
   ],
   "metadata": {}
  },
  {
   "outputs": [
    {
     "output_type": "execute_result",
     "data": {
      "text/plain": "10-element Vector{Dict{String, Float64}}:\n Dict(\"Zn2tex\" => 0.00033498878813989854, \"GUI1\" => 0.0, \"DXYLK\" => 0.0, \"CBL1tonex\" => 0.0, \"FE3DCITtonex\" => 0.0, \"FACOAL180t2pp\" => 0.0, \"METSOXR1\" => 0.0, \"LIPOtex\" => 0.0, \"NTD11\" => 0.0, \"GLUNpp\" => 0.0…)\n Dict(\"Zn2tex\" => 0.00033498878813989854, \"GUI1\" => 0.0, \"DXYLK\" => 0.0, \"CBL1tonex\" => 0.0, \"FE3DCITtonex\" => 0.0, \"FACOAL180t2pp\" => 0.0, \"METSOXR1\" => 0.0, \"LIPOtex\" => 0.0, \"NTD11\" => 0.0, \"GLUNpp\" => 0.0…)\n Dict(\"Zn2tex\" => 0.00033498878813989854, \"GUI1\" => 0.0, \"DXYLK\" => 0.0, \"CBL1tonex\" => 0.0, \"FE3DCITtonex\" => 0.0, \"FACOAL180t2pp\" => 0.0, \"METSOXR1\" => 0.0, \"LIPOtex\" => 0.0, \"NTD11\" => 0.0, \"GLUNpp\" => 0.0…)\n Dict(\"Zn2tex\" => 0.00033498878813989854, \"GUI1\" => 0.0, \"DXYLK\" => 0.0, \"CBL1tonex\" => 0.0, \"FE3DCITtonex\" => 0.0, \"FACOAL180t2pp\" => 0.0, \"METSOXR1\" => 0.0, \"LIPOtex\" => 0.0, \"NTD11\" => 0.0, \"GLUNpp\" => 0.0…)\n Dict(\"Zn2tex\" => 0.00033498878813989854, \"GUI1\" => 0.0, \"DXYLK\" => 0.0, \"CBL1tonex\" => 0.0, \"FE3DCITtonex\" => 0.0, \"FACOAL180t2pp\" => 0.0, \"METSOXR1\" => 0.0, \"LIPOtex\" => 0.0, \"NTD11\" => 0.0, \"GLUNpp\" => 0.0…)\n Dict(\"Zn2tex\" => 0.00033498878813989854, \"GUI1\" => 0.0, \"DXYLK\" => 0.0, \"CBL1tonex\" => 0.0, \"FE3DCITtonex\" => 0.0, \"FACOAL180t2pp\" => 0.0, \"METSOXR1\" => 0.0, \"LIPOtex\" => 0.0, \"NTD11\" => 0.0, \"GLUNpp\" => 0.0…)\n Dict(\"Zn2tex\" => 0.00033498878813989854, \"GUI1\" => 0.0, \"DXYLK\" => 0.0, \"CBL1tonex\" => 0.0, \"FE3DCITtonex\" => 0.0, \"FACOAL180t2pp\" => 0.0, \"METSOXR1\" => 0.0, \"LIPOtex\" => 0.0, \"NTD11\" => 0.0, \"GLUNpp\" => 0.0…)\n Dict(\"Zn2tex\" => 0.00033498878813989854, \"GUI1\" => 0.0, \"DXYLK\" => 0.0, \"CBL1tonex\" => 0.0, \"FE3DCITtonex\" => 0.0, \"FACOAL180t2pp\" => 0.0, \"METSOXR1\" => 0.0, \"LIPOtex\" => 0.0, \"NTD11\" => 0.0, \"GLUNpp\" => 0.0…)\n Dict(\"Zn2tex\" => 0.0003349887881398992, \"GUI1\" => 0.0, \"DXYLK\" => 0.0, \"CBL1tonex\" => 0.0, \"FE3DCITtonex\" => 0.0, \"FACOAL180t2pp\" => 0.0, \"METSOXR1\" => 0.0, \"LIPOtex\" => 0.0, \"NTD11\" => 0.0, \"GLUNpp\" => 0.0…)\n Dict(\"Zn2tex\" => 0.0, \"GUI1\" => 0.0, \"DXYLK\" => 0.0, \"CBL1tonex\" => 0.0, \"FE3DCITtonex\" => 1.2911050829896582e-17, \"FACOAL180t2pp\" => 0.0, \"METSOXR1\" => 0.0, \"LIPOtex\" => 0.0, \"NTD11\" => 0.0, \"GLUNpp\" => 0.0…)"
     },
     "metadata": {},
     "execution_count": 11
    }
   ],
   "cell_type": "code",
   "source": [
    "knockout_fluxes = screen(\n",
    "    model, # the model which we process\n",
    "    args = tuple.(genes(model)[1:10]), # all argument lists for the analyses\n",
    "    analysis = (model, gene) -> # the analysis function (\"lambda\") that we want to run on the cluster for each item from the argument list\n",
    "        flux_balance_analysis_dict(model, GLPK.Optimizer, modifications = [knockout(gene)]),\n",
    "    workers = workers(), # this gives it the list of worker nodes to use\n",
    ")"
   ],
   "metadata": {},
   "execution_count": 11
  },
  {
   "cell_type": "markdown",
   "source": [
    "Exercise: Try processing more genes with and without the workers parameter to\n",
    "see the speed-up."
   ],
   "metadata": {}
  },
  {
   "cell_type": "markdown",
   "source": [
    "Now that we see that it works, let's post-process the results a little, and\n",
    "also add more genes:"
   ],
   "metadata": {}
  },
  {
   "outputs": [
    {
     "output_type": "execute_result",
     "data": {
      "text/plain": "50-element Vector{Pair{String, Float64}}:\n \"b1377\" => 0.9823718127269752\n \"b0241\" => 0.9823718127269752\n \"b0929\" => 0.9823718127269752\n \"b2215\" => 0.9823718127269752\n \"b0653\" => 0.9823718127269752\n \"b0655\" => 0.9823718127269752\n \"b0118\" => 0.9823718127269752\n \"b1276\" => 0.9823718127269752\n \"b4032\" => 0.9823718127269772\n \"b3359\" => -1.3672895417877006e-17\n         ⋮\n \"b3737\" => 0.4024773014907232\n \"b3733\" => 0.4024773014907232\n \"b3734\" => 0.4024773014907232\n \"b3738\" => 0.4024773014907232\n \"b1009\" => 0.9823718127269752\n \"b1812\" => -1.1020296920314708e-30\n \"b0180\" => 0.0\n \"b3360\" => -1.1020296920314708e-30\n \"b3731\" => 0.4024773014907232"
     },
     "metadata": {},
     "execution_count": 12
    }
   ],
   "cell_type": "code",
   "source": [
    "knockout_fluxes = screen(\n",
    "    model,\n",
    "    args = tuple.(genes(model)[1:50]),\n",
    "    analysis = (model, gene) -> begin\n",
    "        res = flux_balance_analysis_dict(model, GLPK.Optimizer, modifications = [knockout(gene)])\n",
    "        if !isnothing(res)\n",
    "            gene => res[\"BIOMASS_Ec_iJO1366_core_53p95M\"]\n",
    "        else\n",
    "            gene => 0.0\n",
    "        end\n",
    "    end,\n",
    "    workers = workers(),\n",
    ")"
   ],
   "metadata": {},
   "execution_count": 12
  },
  {
   "cell_type": "markdown",
   "source": [
    "After everything works, you can erase the limit to the first 50 genes and see\n",
    "a complete result."
   ],
   "metadata": {}
  },
  {
   "cell_type": "markdown",
   "source": [
    "Let's create a CSV with a report, as always"
   ],
   "metadata": {}
  },
  {
   "outputs": [
    {
     "name": "stdout",
     "output_type": "stream",
     "text": [
      "   Resolving package versions...\n",
      "  No Changes to `~/.julia/environments/v1.9/Project.toml`\n",
      "  No Changes to `~/.julia/environments/v1.9/Manifest.toml`\n"
     ]
    },
    {
     "output_type": "execute_result",
     "data": {
      "text/plain": "\u001b[1m50×3 DataFrame\u001b[0m\n\u001b[1m Row \u001b[0m│\u001b[1m gene   \u001b[0m\u001b[1m name   \u001b[0m\u001b[1m fluxes       \u001b[0m\n     │\u001b[90m String \u001b[0m\u001b[90m String \u001b[0m\u001b[90m Float64      \u001b[0m\n─────┼──────────────────────────────\n   1 │ b1377   ompN     0.982372\n   2 │ b0241   phoE     0.982372\n   3 │ b0929   ompF     0.982372\n   4 │ b2215   ompC     0.982372\n   5 │ b0653   gltK     0.982372\n   6 │ b0655   gltI     0.982372\n   7 │ b0118   acnB     0.982372\n   8 │ b1276   acnA     0.982372\n  ⋮  │   ⋮       ⋮          ⋮\n  44 │ b3734   atpA     0.402477\n  45 │ b3738   atpB     0.402477\n  46 │ b1009   rutD     0.982372\n  47 │ b1812   pabB    -1.10203e-30\n  48 │ b0180   fabZ     0.0\n  49 │ b3360   pabA    -1.10203e-30\n  50 │ b3731   atpC     0.402477\n\u001b[36m                     35 rows omitted\u001b[0m",
      "text/html": [
       "<div><div style = \"float: left;\"><span>50×3 DataFrame</span></div><div style = \"float: right;\"><span style = \"font-style: italic;\">25 rows omitted</span></div><div style = \"clear: both;\"></div></div><div class = \"data-frame\" style = \"overflow-x: scroll;\"><table class = \"data-frame\" style = \"margin-bottom: 6px;\"><thead><tr class = \"header\"><th class = \"rowNumber\" style = \"font-weight: bold; text-align: right;\">Row</th><th style = \"text-align: left;\">gene</th><th style = \"text-align: left;\">name</th><th style = \"text-align: left;\">fluxes</th></tr><tr class = \"subheader headerLastRow\"><th class = \"rowNumber\" style = \"font-weight: bold; text-align: right;\"></th><th title = \"String\" style = \"text-align: left;\">String</th><th title = \"String\" style = \"text-align: left;\">String</th><th title = \"Float64\" style = \"text-align: left;\">Float64</th></tr></thead><tbody><tr><td class = \"rowNumber\" style = \"font-weight: bold; text-align: right;\">1</td><td style = \"text-align: left;\">b1377</td><td style = \"text-align: left;\">ompN</td><td style = \"text-align: right;\">0.982372</td></tr><tr><td class = \"rowNumber\" style = \"font-weight: bold; text-align: right;\">2</td><td style = \"text-align: left;\">b0241</td><td style = \"text-align: left;\">phoE</td><td style = \"text-align: right;\">0.982372</td></tr><tr><td class = \"rowNumber\" style = \"font-weight: bold; text-align: right;\">3</td><td style = \"text-align: left;\">b0929</td><td style = \"text-align: left;\">ompF</td><td style = \"text-align: right;\">0.982372</td></tr><tr><td class = \"rowNumber\" style = \"font-weight: bold; text-align: right;\">4</td><td style = \"text-align: left;\">b2215</td><td style = \"text-align: left;\">ompC</td><td style = \"text-align: right;\">0.982372</td></tr><tr><td class = \"rowNumber\" style = \"font-weight: bold; text-align: right;\">5</td><td style = \"text-align: left;\">b0653</td><td style = \"text-align: left;\">gltK</td><td style = \"text-align: right;\">0.982372</td></tr><tr><td class = \"rowNumber\" style = \"font-weight: bold; text-align: right;\">6</td><td style = \"text-align: left;\">b0655</td><td style = \"text-align: left;\">gltI</td><td style = \"text-align: right;\">0.982372</td></tr><tr><td class = \"rowNumber\" style = \"font-weight: bold; text-align: right;\">7</td><td style = \"text-align: left;\">b0118</td><td style = \"text-align: left;\">acnB</td><td style = \"text-align: right;\">0.982372</td></tr><tr><td class = \"rowNumber\" style = \"font-weight: bold; text-align: right;\">8</td><td style = \"text-align: left;\">b1276</td><td style = \"text-align: left;\">acnA</td><td style = \"text-align: right;\">0.982372</td></tr><tr><td class = \"rowNumber\" style = \"font-weight: bold; text-align: right;\">9</td><td style = \"text-align: left;\">b4032</td><td style = \"text-align: left;\">malG</td><td style = \"text-align: right;\">0.982372</td></tr><tr><td class = \"rowNumber\" style = \"font-weight: bold; text-align: right;\">10</td><td style = \"text-align: left;\">b3359</td><td style = \"text-align: left;\">argD</td><td style = \"text-align: right;\">-1.36729e-17</td></tr><tr><td class = \"rowNumber\" style = \"font-weight: bold; text-align: right;\">11</td><td style = \"text-align: left;\">b3528</td><td style = \"text-align: left;\">dctA</td><td style = \"text-align: right;\">0.982372</td></tr><tr><td class = \"rowNumber\" style = \"font-weight: bold; text-align: right;\">12</td><td style = \"text-align: left;\">b4033</td><td style = \"text-align: left;\">malF</td><td style = \"text-align: right;\">0.982372</td></tr><tr><td class = \"rowNumber\" style = \"font-weight: bold; text-align: right;\">13</td><td style = \"text-align: left;\">b4035</td><td style = \"text-align: left;\">malK</td><td style = \"text-align: right;\">0.982372</td></tr><tr><td style = \"text-align: right;\">&vellip;</td><td style = \"text-align: right;\">&vellip;</td><td style = \"text-align: right;\">&vellip;</td><td style = \"text-align: right;\">&vellip;</td></tr><tr><td class = \"rowNumber\" style = \"font-weight: bold; text-align: right;\">39</td><td style = \"text-align: left;\">b1096</td><td style = \"text-align: left;\">pabC</td><td style = \"text-align: right;\">-1.10203e-30</td></tr><tr><td class = \"rowNumber\" style = \"font-weight: bold; text-align: right;\">40</td><td style = \"text-align: left;\">b3739</td><td style = \"text-align: left;\">atpI</td><td style = \"text-align: right;\">0.982372</td></tr><tr><td class = \"rowNumber\" style = \"font-weight: bold; text-align: right;\">41</td><td style = \"text-align: left;\">b3732</td><td style = \"text-align: left;\">atpD</td><td style = \"text-align: right;\">0.402477</td></tr><tr><td class = \"rowNumber\" style = \"font-weight: bold; text-align: right;\">42</td><td style = \"text-align: left;\">b3737</td><td style = \"text-align: left;\">atpE</td><td style = \"text-align: right;\">0.402477</td></tr><tr><td class = \"rowNumber\" style = \"font-weight: bold; text-align: right;\">43</td><td style = \"text-align: left;\">b3733</td><td style = \"text-align: left;\">atpG</td><td style = \"text-align: right;\">0.402477</td></tr><tr><td class = \"rowNumber\" style = \"font-weight: bold; text-align: right;\">44</td><td style = \"text-align: left;\">b3734</td><td style = \"text-align: left;\">atpA</td><td style = \"text-align: right;\">0.402477</td></tr><tr><td class = \"rowNumber\" style = \"font-weight: bold; text-align: right;\">45</td><td style = \"text-align: left;\">b3738</td><td style = \"text-align: left;\">atpB</td><td style = \"text-align: right;\">0.402477</td></tr><tr><td class = \"rowNumber\" style = \"font-weight: bold; text-align: right;\">46</td><td style = \"text-align: left;\">b1009</td><td style = \"text-align: left;\">rutD</td><td style = \"text-align: right;\">0.982372</td></tr><tr><td class = \"rowNumber\" style = \"font-weight: bold; text-align: right;\">47</td><td style = \"text-align: left;\">b1812</td><td style = \"text-align: left;\">pabB</td><td style = \"text-align: right;\">-1.10203e-30</td></tr><tr><td class = \"rowNumber\" style = \"font-weight: bold; text-align: right;\">48</td><td style = \"text-align: left;\">b0180</td><td style = \"text-align: left;\">fabZ</td><td style = \"text-align: right;\">0.0</td></tr><tr><td class = \"rowNumber\" style = \"font-weight: bold; text-align: right;\">49</td><td style = \"text-align: left;\">b3360</td><td style = \"text-align: left;\">pabA</td><td style = \"text-align: right;\">-1.10203e-30</td></tr><tr><td class = \"rowNumber\" style = \"font-weight: bold; text-align: right;\">50</td><td style = \"text-align: left;\">b3731</td><td style = \"text-align: left;\">atpC</td><td style = \"text-align: right;\">0.402477</td></tr></tbody></table></div>"
      ]
     },
     "metadata": {},
     "execution_count": 13
    }
   ],
   "cell_type": "code",
   "source": [
    "Pkg.add([\"DataFrames\",\"CSV\"])\n",
    "using DataFrames, CSV\n",
    "\n",
    "df = DataFrame(gene = first.(knockout_fluxes))\n",
    "df.name = gene_name.(Ref(model), df.gene)\n",
    "df.fluxes = last.(knockout_fluxes)\n",
    "df"
   ],
   "metadata": {},
   "execution_count": 13
  },
  {
   "cell_type": "markdown",
   "source": [
    "Typically we want to mark the genes that changed something. Let's mark the\n",
    "genes that are required for growth as essential, and the ones that reduce the\n",
    "growth somehow (but not fatally) as interesting."
   ],
   "metadata": {}
  },
  {
   "outputs": [
    {
     "output_type": "execute_result",
     "data": {
      "text/plain": "\"ko_report.csv\""
     },
     "metadata": {},
     "execution_count": 14
    }
   ],
   "cell_type": "code",
   "source": [
    "best_result = maximum(last.(knockout_fluxes))\n",
    "essential_threshold = 0.01 * best_result\n",
    "df.essential = df.fluxes .<= essential_threshold\n",
    "df.interesting = (df.fluxes .< best_result * 0.999) .&& .!df.essential\n",
    "df\n",
    "\n",
    "CSV.write(\"ko_report.csv\", df)"
   ],
   "metadata": {},
   "execution_count": 14
  },
  {
   "cell_type": "markdown",
   "source": [
    "## Doing the knockouts manually, the hard way\n",
    "\n",
    "Now, let's have a look at how the knockouts are computed.\n",
    "\n",
    "Each reaction has a Gene-Reaction Rule (GRR) that marks the genes required\n",
    "for it to actually work in the organism. These are generally any Boolean\n",
    "expressions, but in COBREXA we tend to store them in disjunctive normal form\n",
    "(DNF, see https://en.wikipedia.org/wiki/Disjunctive_normal_form) which\n",
    "closely corresponds to the biological meaning of gene units that form\n",
    "interchangeable complexes. You can access them using the `grr` field in\n",
    "Reaction structures:"
   ],
   "metadata": {}
  },
  {
   "outputs": [
    {
     "output_type": "execute_result",
     "data": {
      "text/plain": "2-element Vector{Vector{String}}:\n [\"b2234\", \"b2235\", \"b2582\"]\n [\"b2234\", \"b2235\", \"b3781\"]"
     },
     "metadata": {},
     "execution_count": 15
    }
   ],
   "cell_type": "code",
   "source": [
    "model.reactions[\"RNDR2\"].grr"
   ],
   "metadata": {},
   "execution_count": 15
  },
  {
   "cell_type": "markdown",
   "source": [
    "Here, the reaction can be supported by either of the 2 possibilities (enzyme\n",
    "complexes) where the first possibility is built from gene products of genes\n",
    "`b2234`, `b2235`, and `b2582`; and as the second possibility it can also use\n",
    "`b3781` instead of the `b2582`."
   ],
   "metadata": {}
  },
  {
   "cell_type": "markdown",
   "source": [
    "We may list all GRRs simply by iterating through the model reactions:"
   ],
   "metadata": {}
  },
  {
   "outputs": [
    {
     "output_type": "execute_result",
     "data": {
      "text/plain": "2583-element Vector{Pair{String}}:\n      \"EX_cm_e\" => nothing\n     \"EX_cmp_e\" => nothing\n     \"EX_co2_e\" => nothing\n \"EX_cobalt2_e\" => nothing\n  \"DM_4crsol_c\" => nothing\n   \"DM_5drib_c\" => nothing\n  \"DM_aacald_c\" => nothing\n    \"DM_amob_c\" => nothing\n  \"DM_mththf_c\" => nothing\n  \"EX_colipa_e\" => nothing\n                ⋮\n       \"RNDR2b\" => [[\"b0849\", \"b2675\", \"b2676\"], [\"b1064\", \"b2675\", \"b2676\"], [\"b1654\", \"b2675\", \"b2676\"], [\"b2675\", \"b2676\", \"b3610\"]]\n      \"UREAtpp\" => [[\"b3927\"]]\n        \"RNDR3\" => [[\"b2234\", \"b2235\", \"b2582\"], [\"b2234\", \"b2235\", \"b3781\"]]\n       \"RNDR3b\" => [[\"b0849\", \"b2675\", \"b2676\"], [\"b1064\", \"b2675\", \"b2676\"], [\"b1654\", \"b2675\", \"b2676\"], [\"b2675\", \"b2676\", \"b3610\"]]\n        \"RNDR4\" => [[\"b2234\", \"b2235\", \"b2582\"], [\"b2234\", \"b2235\", \"b3781\"]]\n       \"RNDR4b\" => [[\"b0849\", \"b2675\", \"b2676\"], [\"b1064\", \"b2675\", \"b2676\"], [\"b1654\", \"b2675\", \"b2676\"], [\"b2675\", \"b2676\", \"b3610\"]]\n      \"RNTR1c2\" => [[\"b0684\", \"b3924\", \"b4237\", \"b4238\"], [\"b0684\", \"b4238\"], [\"b2895\", \"b3924\", \"b4237\", \"b4238\"], [\"b2895\", \"b4238\"]]\n      \"RNTR2c2\" => [[\"b0684\", \"b3924\", \"b4237\", \"b4238\"], [\"b0684\", \"b4238\"], [\"b2895\", \"b3924\", \"b4237\", \"b4238\"], [\"b2895\", \"b4238\"]]\n      \"RNTR3c2\" => [[\"b0684\", \"b3924\", \"b4237\", \"b4238\"], [\"b0684\", \"b4238\"], [\"b2895\", \"b3924\", \"b4237\", \"b4238\"], [\"b2895\", \"b4238\"]]"
     },
     "metadata": {},
     "execution_count": 16
    }
   ],
   "cell_type": "code",
   "source": [
    "[rid => r.grr for (rid,r) in model.reactions]"
   ],
   "metadata": {},
   "execution_count": 16
  },
  {
   "cell_type": "markdown",
   "source": [
    "It is often interesting to ask which reactions may depend on which gene, we\n",
    "can make a convenience function for that:"
   ],
   "metadata": {}
  },
  {
   "outputs": [
    {
     "output_type": "execute_result",
     "data": {
      "text/plain": "7-element Vector{String}:\n \"ASR\"\n \"GRXR\"\n \"PAPSR2\"\n \"RNDR1b\"\n \"RNDR2b\"\n \"RNDR3b\"\n \"RNDR4b\""
     },
     "metadata": {},
     "execution_count": 17
    }
   ],
   "cell_type": "code",
   "source": [
    "reactions_of_gene(model, gene) =\n",
    "  [rid for (rid,r) in model.reactions if !isnothing(r.grr) && any(complex -> any(contains(gene), complex), r.grr)]\n",
    "\n",
    "reactions_of_gene(model, \"b1064\")"
   ],
   "metadata": {},
   "execution_count": 17
  },
  {
   "cell_type": "markdown",
   "source": [
    "Using the vector notation is quite convenient for creating lists that allow\n",
    "us to get an overview of the situation:"
   ],
   "metadata": {}
  },
  {
   "outputs": [
    {
     "output_type": "execute_result",
     "data": {
      "text/plain": "1367-element Vector{Pair{String, Vector{String}}}:\n \"ompN\" => [\"12PPDRtex\", \"12PPDStex\", \"23CAMPtex\", \"23CCMPtex\", \"23CGMPtex\", \"23CUMPtex\", \"23DAPPAtex\", \"26DAHtex\", \"34dhpactex\", \"3AMPtex\"  …  \"RIBtex\", \"UDPGLCURtex\", \"XYLUtex\", \"UDPGtex\", \"XYLtex\", \"Zn2tex\", \"RMNtex\", \"UMPtex\", \"URAtex\", \"UREAtex\"]\n \"phoE\" => [\"12PPDRtex\", \"12PPDStex\", \"23CAMPtex\", \"23CCMPtex\", \"23CGMPtex\", \"23CUMPtex\", \"23DAPPAtex\", \"26DAHtex\", \"34dhpactex\", \"3AMPtex\"  …  \"RIBtex\", \"UDPGLCURtex\", \"XYLUtex\", \"UDPGtex\", \"XYLtex\", \"Zn2tex\", \"RMNtex\", \"UMPtex\", \"URAtex\", \"UREAtex\"]\n \"ompF\" => [\"12PPDRtex\", \"12PPDStex\", \"23CAMPtex\", \"23CCMPtex\", \"23CGMPtex\", \"23CUMPtex\", \"23DAPPAtex\", \"26DAHtex\", \"34dhpactex\", \"3AMPtex\"  …  \"RIBtex\", \"UDPGLCURtex\", \"XYLUtex\", \"UDPGtex\", \"XYLtex\", \"Zn2tex\", \"RMNtex\", \"UMPtex\", \"URAtex\", \"UREAtex\"]\n \"ompC\" => [\"12PPDRtex\", \"12PPDStex\", \"23CAMPtex\", \"23CCMPtex\", \"23CGMPtex\", \"23CUMPtex\", \"23DAPPAtex\", \"26DAHtex\", \"34dhpactex\", \"3AMPtex\"  …  \"RIBtex\", \"UDPGLCURtex\", \"XYLUtex\", \"UDPGtex\", \"XYLtex\", \"Zn2tex\", \"RMNtex\", \"UMPtex\", \"URAtex\", \"UREAtex\"]\n \"gltK\" => [\"ASPabcpp\", \"GLUabcpp\"]\n \"gltI\" => [\"ASPabcpp\", \"GLUabcpp\"]\n \"acnB\" => [\"ACONTa\", \"ACONTb\", \"MICITDr\"]\n \"acnA\" => [\"ACONTa\", \"ACONTb\"]\n \"malG\" => [\"14GLUCANabcpp\", \"MALTHXabcpp\", \"MALTPTabcpp\", \"MALTTRabcpp\", \"MALTTTRabcpp\", \"MALTabcpp\"]\n \"argD\" => [\"ACOTA\", \"SDPTA\"]\n        ⋮\n \"cobC\" => [\"RZ5PP\"]\n \"sufE\" => [\"S2FE2SR\", \"S2FE2SS\", \"S2FE2SS2\", \"SCYSDS\"]\n \"sufC\" => [\"S2FE2SR\", \"S2FE2SS\", \"S2FE2SS2\", \"S2FE2ST\", \"S4FE4SR\", \"S4FE4ST\"]\n \"sufD\" => [\"S2FE2SR\", \"S2FE2SS\", \"S2FE2SS2\", \"S2FE2ST\", \"S4FE4SR\", \"S4FE4ST\"]\n \"sufS\" => [\"S2FE2SR\", \"S2FE2SS\", \"S2FE2SS2\", \"SCYSDS\"]\n \"sufB\" => [\"S2FE2SR\", \"S2FE2SS\", \"S2FE2SS2\", \"S2FE2ST\", \"S4FE4SR\", \"S4FE4ST\"]\n \"sufA\" => [\"S2FE2ST\", \"S4FE4ST\"]\n \"gmhA\" => [\"S7PI\"]\n \"astB\" => [\"SADH\"]"
     },
     "metadata": {},
     "execution_count": 18
    }
   ],
   "cell_type": "code",
   "source": [
    "gene_name.(Ref(model), genes(model)) .=> reactions_of_gene.(Ref(model), genes(model))"
   ],
   "metadata": {},
   "execution_count": 18
  },
  {
   "cell_type": "markdown",
   "source": [
    "Now, given a set of genes that we want to knock out, we can manually find if\n",
    "a given reaction will still work or not. Let's try on RNDR1:"
   ],
   "metadata": {}
  },
  {
   "outputs": [
    {
     "output_type": "execute_result",
     "data": {
      "text/plain": "1-element Vector{String}:\n \"b2234\""
     },
     "metadata": {},
     "execution_count": 19
    }
   ],
   "cell_type": "code",
   "source": [
    "grr = model.reactions[\"RNDR1\"].grr\n",
    "\n",
    "ko_genes = [\"b2234\"]"
   ],
   "metadata": {},
   "execution_count": 19
  },
  {
   "cell_type": "markdown",
   "source": [
    "We can transform the `grr` to a form where it says which genes are present\n",
    "and which genes are not:"
   ],
   "metadata": {}
  },
  {
   "outputs": [
    {
     "output_type": "execute_result",
     "data": {
      "text/plain": "2-element Vector{Vector{Bool}}:\n [0, 1, 1]\n [0, 1, 1]"
     },
     "metadata": {},
     "execution_count": 20
    }
   ],
   "cell_type": "code",
   "source": [
    "grr_available = map(c -> map(!in(ko_genes), c), grr)"
   ],
   "metadata": {},
   "execution_count": 20
  },
  {
   "cell_type": "markdown",
   "source": [
    "To determine if the reaction _can_ work, at least one (\"any\") of the\n",
    "complexes must have all gene products available:"
   ],
   "metadata": {}
  },
  {
   "outputs": [
    {
     "output_type": "execute_result",
     "data": {
      "text/plain": "false"
     },
     "metadata": {},
     "execution_count": 21
    }
   ],
   "cell_type": "code",
   "source": [
    "any(all, grr_available)"
   ],
   "metadata": {},
   "execution_count": 21
  },
  {
   "cell_type": "markdown",
   "source": [
    "Since `b2234` is essential for RNDR1 (it needs to be present in all complexes\n",
    "that may run the reaction), the reaction is effectively disabled by knocking\n",
    "out `b2234`."
   ],
   "metadata": {}
  },
  {
   "cell_type": "markdown",
   "source": [
    "What if we knock out `b2582`?"
   ],
   "metadata": {}
  },
  {
   "outputs": [
    {
     "output_type": "execute_result",
     "data": {
      "text/plain": "true"
     },
     "metadata": {},
     "execution_count": 22
    }
   ],
   "cell_type": "code",
   "source": [
    "ko_genes = [\"b2582\"]\n",
    "grr_available = map(c -> map(!in(ko_genes), c), grr)\n",
    "\n",
    "any(all, grr_available)"
   ],
   "metadata": {},
   "execution_count": 22
  },
  {
   "cell_type": "markdown",
   "source": [
    "...the reaction may still work with just `b2582` knocked out."
   ],
   "metadata": {}
  },
  {
   "cell_type": "markdown",
   "source": [
    "Anyway, if we knock out multiple genes, the reaction will cease to work again:"
   ],
   "metadata": {}
  },
  {
   "outputs": [
    {
     "output_type": "execute_result",
     "data": {
      "text/plain": "false"
     },
     "metadata": {},
     "execution_count": 23
    }
   ],
   "cell_type": "code",
   "source": [
    "ko_genes = [\"b2582\", \"b3781\"]\n",
    "grr_available = map(c -> map(!in(ko_genes), c), grr)\n",
    "any(all, grr_available)"
   ],
   "metadata": {},
   "execution_count": 23
  },
  {
   "cell_type": "markdown",
   "source": [
    "We can formalize the knockout evaluation in a function"
   ],
   "metadata": {}
  },
  {
   "outputs": [
    {
     "output_type": "execute_result",
     "data": {
      "text/plain": "is_reaction_knocked_out (generic function with 1 method)"
     },
     "metadata": {},
     "execution_count": 24
    }
   ],
   "cell_type": "code",
   "source": [
    "function is_reaction_knocked_out(model, reaction, ko_genes)\n",
    "    grr = model.reactions[reaction].grr\n",
    "    if isnothing(grr)\n",
    "        return false # reactions without a gene-reaction rule happen spontaneously and cannot be knocked out\n",
    "    end\n",
    "    grr_available = map(c -> map(!in(ko_genes), c), grr)\n",
    "    !any(all, grr_available)\n",
    "end"
   ],
   "metadata": {},
   "execution_count": 24
  },
  {
   "cell_type": "markdown",
   "source": [
    "Now, we can manually modify the model to disable the reactions that would be\n",
    "knocked out by a certain gene combination:"
   ],
   "metadata": {}
  },
  {
   "outputs": [],
   "cell_type": "code",
   "source": [
    "ko_genes = [\"b2582\", \"b3781\"]\n",
    "for (rid, r) = model.reactions\n",
    "    if is_reaction_knocked_out(model, rid, ko_genes)\n",
    "        r.lb = r.ub = 0.0\n",
    "    end\n",
    "end"
   ],
   "metadata": {},
   "execution_count": 25
  },
  {
   "cell_type": "markdown",
   "source": [
    "Does the model still grow?"
   ],
   "metadata": {}
  },
  {
   "outputs": [
    {
     "output_type": "execute_result",
     "data": {
      "text/plain": "0.9823718127269752"
     },
     "metadata": {},
     "execution_count": 26
    }
   ],
   "cell_type": "code",
   "source": [
    "sol = flux_balance_analysis_dict(model, GLPK.Optimizer)\n",
    "sol[\"BIOMASS_Ec_iJO1366_core_53p95M\"]"
   ],
   "metadata": {},
   "execution_count": 26
  },
  {
   "cell_type": "markdown",
   "source": [
    "...which seems like the combination of the 2 genes was not essential at all."
   ],
   "metadata": {}
  },
  {
   "cell_type": "markdown",
   "source": [
    "## How well do the in-silico knockouts compare to real measurements?\n",
    "\n",
    "Since there are existing measurements of what happens with real E. Coli after\n",
    "knockouts, we can look at our results as predictions, and compare them to the\n",
    "ground truth with the usual statistical means.\n",
    "\n",
    "First, let's read the experimentally verified \"lethal\" knockout genes from\n",
    "the supplied JSON data file"
   ],
   "metadata": {}
  },
  {
   "outputs": [],
   "cell_type": "code",
   "source": [
    "using JSON"
   ],
   "metadata": {},
   "execution_count": 27
  },
  {
   "cell_type": "markdown",
   "source": [
    "This is the list of lethal gene knockouts:"
   ],
   "metadata": {}
  },
  {
   "outputs": [
    {
     "output_type": "execute_result",
     "data": {
      "text/plain": "238-element Vector{Any}:\n \"b0004\"\n \"b0003\"\n \"b0002\"\n \"b2925\"\n \"b0414\"\n \"b0415\"\n \"b0417\"\n \"b1637\"\n \"b3623\"\n \"b2515\"\n ⋮\n \"b1281\"\n \"b2320\"\n \"b1288\"\n \"b2323\"\n \"b3648\"\n \"b3640\"\n \"b3642\"\n \"b2563\"\n \"b4006\""
     },
     "metadata": {},
     "execution_count": 28
    }
   ],
   "cell_type": "code",
   "source": [
    "ex_lethal = JSON.parsefile(\"data/m9_invivo_lethals.json\")"
   ],
   "metadata": {},
   "execution_count": 28
  },
  {
   "cell_type": "markdown",
   "source": [
    "Let's convert it to vectorized representation for the dataframe:"
   ],
   "metadata": {}
  },
  {
   "outputs": [
    {
     "output_type": "execute_result",
     "data": {
      "text/plain": "50-element BitVector:\n 0\n 0\n 0\n 0\n 0\n 0\n 0\n 0\n 0\n 1\n ⋮\n 0\n 0\n 0\n 0\n 0\n 1\n 1\n 1\n 0"
     },
     "metadata": {},
     "execution_count": 29
    }
   ],
   "cell_type": "code",
   "source": [
    "df.invivo_essential = in.(df.gene, Ref(ex_lethal))\n",
    "\n",
    "df.insilico_essential = df.essential #rename for clarity"
   ],
   "metadata": {},
   "execution_count": 29
  },
  {
   "cell_type": "markdown",
   "source": [
    "Now we can count true&false positives&negatives:"
   ],
   "metadata": {}
  },
  {
   "outputs": [],
   "cell_type": "code",
   "source": [
    "TP = count(df.insilico_essential .& df.invivo_essential);\n",
    "TN = count(.!df.insilico_essential .& .!df.invivo_essential);\n",
    "FP = count(.!df.insilico_essential .& df.invivo_essential);\n",
    "FN = count(df.insilico_essential .& .!df.invivo_essential);"
   ],
   "metadata": {},
   "execution_count": 30
  },
  {
   "cell_type": "markdown",
   "source": [
    "Let's arrange these in a standard confusion matrix:"
   ],
   "metadata": {}
  },
  {
   "outputs": [
    {
     "output_type": "execute_result",
     "data": {
      "text/plain": "2×2 Matrix{Int64}:\n 4   2\n 4  40"
     },
     "metadata": {},
     "execution_count": 31
    }
   ],
   "cell_type": "code",
   "source": [
    "confusion_mtx = [\n",
    "    TP FN\n",
    "    FP TN\n",
    "]"
   ],
   "metadata": {},
   "execution_count": 31
  },
  {
   "cell_type": "markdown",
   "source": [
    "This allows us to compute some useful metrics about the predictions:"
   ],
   "metadata": {}
  },
  {
   "outputs": [
    {
     "output_type": "execute_result",
     "data": {
      "text/plain": "(sensitivity = 0.6666666666666666, specificity = 0.9090909090909091, accuracy = 0.88, f1_score = 0.5714285714285714)"
     },
     "metadata": {},
     "execution_count": 32
    }
   ],
   "cell_type": "code",
   "source": [
    "(\n",
    "    sensitivity = TP / (TP + FN),\n",
    "    specificity = TN / (TN + FP),\n",
    "    accuracy = (TP + TN) / sum(confusion_mtx),\n",
    "    f1_score = (2 * TP) / (2 * TP + FN + FP),\n",
    ")"
   ],
   "metadata": {},
   "execution_count": 32
  },
  {
   "cell_type": "markdown",
   "source": [
    "---\n",
    "\n",
    "*This notebook was generated using [Literate.jl](https://github.com/fredrikekre/Literate.jl).*"
   ],
   "metadata": {}
  }
 ],
 "nbformat_minor": 3,
 "metadata": {
  "language_info": {
   "file_extension": ".jl",
   "mimetype": "application/julia",
   "name": "julia",
   "version": "1.9.0"
  },
  "kernelspec": {
   "name": "julia-1.9",
   "display_name": "Julia 1.9.0",
   "language": "julia"
  }
 },
 "nbformat": 4
}
