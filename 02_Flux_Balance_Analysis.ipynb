{
 "cells": [
  {
   "cell_type": "markdown",
   "metadata": {},
   "source": [
    "#  Introductions to constrainat-based modeling using cobrapy\n",
    "\n",
    "## Part 2: Flux Balance Analysis\n",
    "\n",
    "### Instructor:\n",
    "* Miguel Ponce de León from (Barcelona Supercomputing Center)\n",
    "* Contact: miguel.ponce@bsc.es\n",
    "\n",
    "* Miroslav \n",
    "* Pablo"
   ]
  },
  {
   "cell_type": "markdown",
   "metadata": {},
   "source": [
    "Install the packages if they are not installed yet"
   ]
  },
  {
   "cell_type": "code",
   "execution_count": 79,
   "metadata": {},
   "outputs": [
    {
     "name": "stderr",
     "output_type": "stream",
     "text": [
      "\u001b[32m\u001b[1m   Resolving\u001b[22m\u001b[39m package versions...\n",
      "\u001b[32m\u001b[1m  No Changes\u001b[22m\u001b[39m to `~/local/research/constraint-based-modeling/summerschool-cobrexa-material/Project.toml`\n",
      "\u001b[32m\u001b[1m  No Changes\u001b[22m\u001b[39m to `~/local/research/constraint-based-modeling/summerschool-cobrexa-material/Manifest.toml`\n"
     ]
    }
   ],
   "source": [
    "import Pkg\n",
    "Pkg.add([\"COBREXA\", \"GLPK\"])\n",
    "\n",
    "using COBREXA\n",
    "using GLPK"
   ]
  },
  {
   "cell_type": "markdown",
   "metadata": {},
   "source": [
    "# Part 2: Genome-scale modelling.\n",
    "\n",
    "In this part we are gonna use a genome-scale metabolic model of Escherichia coli named iJO1366\n",
    "The file has already been stored in the data folder and its path is data/iJO1366.xml\n",
    "\n",
    "Alternatively, you can also access it here:\n",
    "- [http://bigg.ucsd.edu/models/iJO1366](http://bigg.ucsd.edu/models/iJO1366)\n",
    "\n",
    "to download the model and to see other metadata (citation, description, etc)\n",
    "\n",
    "## Part 2.1: Studying the model.\n",
    "\n",
    "Load the model E. coli IJO1366 from the path:\n",
    "\n",
    "`data/E_coli_iJO1366.json`\n",
    "\n",
    "using:\n",
    "\n",
    "`model = load_model(StandardModel, path_to_model)`\n",
    "\n",
    "...we've opened it as StandardModel right away to allow easy manual\n",
    "modifications."
   ]
  },
  {
   "cell_type": "code",
   "execution_count": 114,
   "metadata": {},
   "outputs": [],
   "source": [
    "## TODO\n",
    "## Write your code below\n",
    "\n",
    "\n"
   ]
  },
  {
   "cell_type": "markdown",
   "metadata": {},
   "source": [
    "## Exercise 2.1: Inspecting the model's numbers\n",
    "\n",
    "How many metabolites genes and reactions are contained in the model?\n",
    "\n",
    "Tip 1: model.metabolite or metabolites(model)\n",
    "\n",
    "Tip 2: use length to count elemnts"
   ]
  },
  {
   "cell_type": "code",
   "execution_count": 66,
   "metadata": {},
   "outputs": [],
   "source": [
    "## TODO\n",
    "## Write your code below\n",
    "\n",
    "\n"
   ]
  },
  {
   "cell_type": "markdown",
   "metadata": {},
   "source": [
    "## Inspecting the genes\n",
    "\n",
    "\n",
    "You can do it directly with: \n",
    "\n",
    "`gene = model.genes[\"b0720\"]`\n",
    "\n",
    "Inspect the reaction by printing:\n",
    "1. gene.name\n",
    "2. gene.annotations\n",
    "3. find reactions encoded by the gene (advance)"
   ]
  },
  {
   "cell_type": "code",
   "execution_count": 67,
   "metadata": {},
   "outputs": [],
   "source": [
    "## TODO\n",
    "## Write your code below\n",
    "  \n"
   ]
  },
  {
   "cell_type": "markdown",
   "metadata": {},
   "source": [
    "### Inspecting the systems' boundaries\n",
    "\n",
    "\n",
    "Use the following line of code to obtain boundary reactions: \n",
    "\n",
    "`boundary = [r for r in reactions(model) if length(reaction_stoichiometry(model,r)) == 1]`\n",
    "\n",
    "this will filter all reaction having just a fingle metabolies\n",
    "\n",
    "You will find metabolties with prefix\n",
    "* `EX_`\n",
    "* `DM_`\n",
    "\n",
    "Can you find any the differentes? Print to reactions to find out\n",
    "\n",
    "How many boundary reactions does the model has?"
   ]
  },
  {
   "cell_type": "code",
   "execution_count": 68,
   "metadata": {},
   "outputs": [],
   "source": [
    "## TODO\n",
    "## Write your code below\n",
    "\n",
    "\n"
   ]
  },
  {
   "cell_type": "markdown",
   "metadata": {},
   "source": [
    "## see the objective function (the reaction set to be optimized)\n",
    "\n",
    "You can also find the objective function using the following filtering technique:\n",
    "\n",
    "`objective_reactions = [r for r in model.reactions.keys if model.reactions[r].objective_coefficient != 0]`\n",
    "\n",
    "This will return the list of reactions id having a none null objective coefficent.\n",
    "\n",
    "In practice this will return a list with a single element corresponding to the Biomass reaction\n",
    "* `Ec_biomass_iJO1366_WT_53p95M`\n",
    "\n",
    "You can also acces the index of the objective reactions using:\n",
    "\n",
    "`objective(model)`\n",
    "\n",
    "but this will return a vector with reactions indexes, so using the index you can then do:\n",
    "\n",
    "`reactions(model)[idx]`\n",
    "\n",
    "where idx is the index found in prvious step"
   ]
  },
  {
   "cell_type": "code",
   "execution_count": 78,
   "metadata": {},
   "outputs": [],
   "source": [
    "## TODO\n",
    "## Write your code below\n",
    "\n",
    "\n"
   ]
  },
  {
   "cell_type": "markdown",
   "metadata": {},
   "source": [
    "### Running a Flux Balance Analysis (FBA).\n",
    "\n",
    "Documentation: https://lcsb-biocore.github.io/COBREXA.jl/stable/examples/05a_fba/\n",
    "\n",
    "By default, the model boundary condition (growth medium) is M9 aerobic (glucose minimal)\n",
    "Lets check the boundary conditions\n",
    "\n",
    "1.  Check the medium by inspecting the lower_bound of the following reactions:\n",
    "  * `EX_glc__D_e`  (this is the ID of the glucose exchange reaction for glucose)\n",
    "  * `EX_o2_e`      (this is the ID of the O2 exchange reaction)\n",
    "  \n",
    "Tip: Use `model.reactions[exchange_id]` combined with the corresponding attribute\n",
    "\n",
    "More genrally we can check for exchange reactions having negative lower bounds (advance)\n",
    "Tip: combined thins from previous excercises\n",
    "\n",
    "What do we have in the mgrowth media?"
   ]
  },
  {
   "cell_type": "code",
   "execution_count": 91,
   "metadata": {},
   "outputs": [],
   "source": [
    "## TODO\n",
    "## Write your code below\n",
    "\n",
    "\n"
   ]
  },
  {
   "cell_type": "markdown",
   "metadata": {},
   "source": [
    "### Running a Flux Balance Analysis (FBA).\n",
    "\n",
    "FBA is solved using a Linear Programing solver and there a several different commercial and free packages.\n",
    "Some opensource include:\n",
    "* GLPK\n",
    "* SCIP\n",
    "\n",
    "Some commercial packages include:\n",
    "* Gurobi\n",
    "* CPLEX\n",
    "\n",
    "Lets run FBA usging the old good GLPK (GNU Linear Programming Kit)\n",
    "\n",
    "For simplicity, let's ask for a dictionary right away, this will return a dictionary of the form:\n",
    "\n",
    "`Reaction_id => flux_vale`\n",
    "\n"
   ]
  },
  {
   "cell_type": "code",
   "execution_count": 92,
   "metadata": {},
   "outputs": [
    {
     "data": {
      "text/plain": [
       "-17.578933530254268"
      ]
     },
     "execution_count": 92,
     "metadata": {},
     "output_type": "execute_result"
    }
   ],
   "source": [
    "solution_dict = flux_balance_analysis_dict(model, GLPK.Optimizer)"
   ]
  },
  {
   "cell_type": "markdown",
   "metadata": {},
   "source": [
    "### Exploring the optimal flux distribution I\n",
    "\n",
    "Using the soluction dictionary find the predict:\n",
    "* growth rate (biomass production)\n",
    "* consumed oxygen\n",
    "* consumed glucose"
   ]
  },
  {
   "cell_type": "markdown",
   "metadata": {},
   "source": [
    "we can have a look at our objective reaction"
   ]
  },
  {
   "cell_type": "code",
   "execution_count": 97,
   "metadata": {},
   "outputs": [],
   "source": [
    "## TODO\n",
    "## Write your code below\n",
    "\n",
    "\n"
   ]
  },
  {
   "cell_type": "markdown",
   "metadata": {},
   "source": [
    "### Exploring the optimal flux distribution II\n",
    "\n",
    "Now tha you have done thing the hard way lets use this nice helper function:\n",
    "\n",
    "`flux_summary(solution_dict)`\n",
    "\n",
    "\n",
    "What can you tell from the output?"
   ]
  },
  {
   "cell_type": "code",
   "execution_count": 94,
   "metadata": {},
   "outputs": [],
   "source": [
    "## TODO\n",
    "## Write your code below\n",
    "\n",
    "\n"
   ]
  },
  {
   "cell_type": "markdown",
   "metadata": {},
   "source": [
    "(this guesses the exchange/biomass status based on reaction IDs)"
   ]
  },
  {
   "cell_type": "markdown",
   "metadata": {},
   "source": [
    "## Create a dataframe from the optimal flux distribution and save the result\n",
    "\n",
    "We can write the result to a file for future use. \n",
    "\n",
    "But first, let's create a data frame\n",
    "\n",
    "And the write the solution into a CSV.\n",
    "\n",
    "Finally, load the solution using Escher:\n",
    "\n",
    "https://escher.github.io/#/\n",
    "\n",
    "First choose:\n",
    "* Map: Central MEtabolism (iJO1366)\n",
    "* Model: iJO1366\n",
    "\n",
    "Load your reactions data into the map"
   ]
  },
  {
   "cell_type": "code",
   "execution_count": 99,
   "metadata": {},
   "outputs": [
    {
     "name": "stderr",
     "output_type": "stream",
     "text": [
      "\u001b[32m\u001b[1m   Resolving\u001b[22m\u001b[39m package versions...\n",
      "\u001b[32m\u001b[1m  No Changes\u001b[22m\u001b[39m to `~/local/research/constraint-based-modeling/summerschool-cobrexa-material/Project.toml`\n",
      "\u001b[32m\u001b[1m  No Changes\u001b[22m\u001b[39m to `~/local/research/constraint-based-modeling/summerschool-cobrexa-material/Manifest.toml`\n"
     ]
    },
    {
     "data": {
      "text/plain": [
       "\"aerobic_solution.csv\""
      ]
     },
     "execution_count": 99,
     "metadata": {},
     "output_type": "execute_result"
    }
   ],
   "source": [
    "Pkg.add([\"DataFrames\", \"CSV\"])\n",
    "using DataFrames, CSV\n",
    "\n",
    "df = DataFrame(reaction = collect(keys(solution_dict)), flux = collect(values(solution_dict)))\n",
    "\n",
    "CSV.write(\"out/aerobic_solution.csv\", df)"
   ]
  },
  {
   "cell_type": "markdown",
   "metadata": {},
   "source": [
    "## Exercise 2.2: \n",
    "\n",
    "1. Change the oxygen exchange lower bound to zero to simulate anaerobic growth.\n",
    "2. Optimize the model\n",
    "3. What is the maximal growth rate in anaerobic conditions\n",
    "4. what are the main three secretion products?"
   ]
  },
  {
   "cell_type": "code",
   "execution_count": 98,
   "metadata": {},
   "outputs": [],
   "source": [
    "## TODO\n",
    "## Write your code below\n",
    "\n",
    "\n",
    "\n"
   ]
  },
  {
   "cell_type": "markdown",
   "metadata": {},
   "source": [
    "## Exercise 2.3: \n",
    "\n",
    "Lets change the carbon source, but also enable oxygen\n",
    "\n",
    "1. Set the oxygen exchange (`EX_o2_e`) lower bound to -20\n",
    "2. Set the glucose exchange flux (`EX_glc__D_e`) lower bound to 0)\n",
    "3. Set the glucose exchange flux (`EX_ac_e lower`) bound bound to -10)\n",
    "\n",
    "What is the maximal growth rate using acetate as soley carbon source\n",
    "what is the oxygen uptake rate?\n",
    "\n",
    "Finally, what does the model tells about E. coli growing in an aerobic condition using acetate as the soley carbon source?\n",
    "1. Set the oxygen exchange flux (`EX_o2_e`) lower bound to 0\n",
    "2. Set the glucose exchange flux (`EX_glc__D_e`) lower bound to 0)\n",
    "3. Set the glucose exchange flux (`EX_ac_e lower`) bound bound to -10)"
   ]
  },
  {
   "cell_type": "code",
   "execution_count": 112,
   "metadata": {},
   "outputs": [],
   "source": [
    "## TODO\n",
    "## Write your code below\n",
    "\n",
    "\n"
   ]
  },
  {
   "cell_type": "markdown",
   "metadata": {},
   "source": [
    "Tip to understand previous excersice: when there is no feasible solution the function returns nothing."
   ]
  },
  {
   "cell_type": "markdown",
   "metadata": {},
   "source": [
    "## Tasteing the magic of COBREXA\n",
    "\n",
    "At this point, the original model data has been overwritten and there's no\n",
    "telling which bounds are still from the original model or which have been\n",
    "modified. For many reasons it is better to do this stuff without breaking the\n",
    "model internals manually, and COBREXA has a system of \"analysis\n",
    "modifications\" for that purpose.\n",
    "\n",
    "(by the way, this scales much better if you need to try more stuff. \n",
    "\n",
    "Other modifications include e.g. `change_objective`, `silence` for shutting down the output from\n",
    "overly verbose solvers (such as OSQP), and `change_optimizer_attribute` for\n",
    "tuning the optimizer behavior."
   ]
  },
  {
   "cell_type": "code",
   "execution_count": 13,
   "metadata": {},
   "outputs": [
    {
     "data": {
      "text/plain": [
       "0.18602227486090275"
      ]
     },
     "execution_count": 13,
     "metadata": {},
     "output_type": "execute_result"
    }
   ],
   "source": [
    "# Reload the model\n",
    "model = load_model(StandardModel, \"data/E_coli_iJO1366.json\");\n",
    "solution_dict = flux_balance_analysis_dict(\n",
    "    model,\n",
    "    GLPK.Optimizer,\n",
    "    modifications = [\n",
    "        change_constraint(\"EX_o2_e\", lb = 0.0),\n",
    "        change_constraint(\"EX_glc__D_e\", lb = -5.0),\n",
    "    ],\n",
    ");\n",
    "solution_dict[\"BIOMASS_Ec_iJO1366_core_53p95M\"]"
   ]
  },
  {
   "cell_type": "markdown",
   "metadata": {},
   "source": [
    "There is a nice app at https://escher.github.io/ that allows us to visualize\n",
    "and browse the solutions to metabolic models. You can load the visualization\n",
    "of this model as Map: \"Core metabolism (e_coli_core)\" and Tool: \"Viewer\".\n",
    "\n",
    "Let's produce a JSON file with our solution that we can upload:"
   ]
  },
  {
   "cell_type": "code",
   "execution_count": 14,
   "metadata": {},
   "outputs": [
    {
     "name": "stdout",
     "output_type": "stream",
     "text": [
      "   Resolving package versions...\n",
      "  No Changes to `~/.julia/environments/v1.9/Project.toml`\n",
      "  No Changes to `~/.julia/environments/v1.9/Manifest.toml`\n"
     ]
    },
    {
     "data": {
      "text/plain": [
       "55523"
      ]
     },
     "execution_count": 14,
     "metadata": {},
     "output_type": "execute_result"
    }
   ],
   "source": [
    "Pkg.add(\"JSON\")\n",
    "using JSON\n",
    "\n",
    "write(\n",
    "    \"out/anaerobic_solution.json\",\n",
    "    JSON.json(\n",
    "        solution_dict, # the solution\n",
    "        2, # enforce nice 2-space indentation instead of squashing the JSON to optimize for size\n",
    "    )\n",
    ")"
   ]
  },
  {
   "cell_type": "markdown",
   "metadata": {},
   "source": [
    "You can now upload the file `mysolution.json` to the Escher viewer via\n",
    "`Data → Load reaction data`\n",
    "to see the fluxes visualized."
   ]
  },
  {
   "cell_type": "markdown",
   "metadata": {},
   "source": [
    "More configurable Escher plotting directly from Julia to files (PDF, PNG) is\n",
    "available via https://github.com/stelmo/Escher.jl"
   ]
  },
  {
   "cell_type": "markdown",
   "metadata": {},
   "source": [
    "---\n",
    "\n",
    "*This notebook was generated using [Literate.jl](https://github.com/fredrikekre/Literate.jl).*"
   ]
  }
 ],
 "metadata": {
  "kernelspec": {
   "display_name": "Julia 1.6.7",
   "language": "julia",
   "name": "julia-1.6"
  },
  "language_info": {
   "file_extension": ".jl",
   "mimetype": "application/julia",
   "name": "julia",
   "version": "1.6.7"
  }
 },
 "nbformat": 4,
 "nbformat_minor": 3
}
