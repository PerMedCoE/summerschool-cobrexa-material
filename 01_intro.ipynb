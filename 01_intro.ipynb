{
 "cells": [
  {
   "cell_type": "markdown",
   "metadata": {},
   "source": [
    "Installation. In Julia REPL this can be done easier using the packaging mode\n",
    "(typing `]add COBREXA`)"
   ]
  },
  {
   "cell_type": "code",
   "execution_count": 1,
   "metadata": {},
   "outputs": [
    {
     "name": "stderr",
     "output_type": "stream",
     "text": [
      "\u001b[32m\u001b[1m    Updating\u001b[22m\u001b[39m registry at `~/.julia/registries/General`\n",
      "\u001b[32m\u001b[1m    Updating\u001b[22m\u001b[39m git-repo `https://github.com/JuliaRegistries/General.git`\n",
      "\u001b[32m\u001b[1m   Resolving\u001b[22m\u001b[39m package versions...\n",
      "\u001b[32m\u001b[1m  No Changes\u001b[22m\u001b[39m to `~/local/research/constraint-based-modeling/summerschool-cobrexa-material/Project.toml`\n",
      "\u001b[32m\u001b[1m  No Changes\u001b[22m\u001b[39m to `~/local/research/constraint-based-modeling/summerschool-cobrexa-material/Manifest.toml`\n"
     ]
    }
   ],
   "source": [
    "import Pkg\n",
    "Pkg.add(\"COBREXA\")\n",
    "\n",
    "using COBREXA"
   ]
  },
  {
   "cell_type": "markdown",
   "metadata": {},
   "source": [
    "Let's first get a simple model to have a look at"
   ]
  },
  {
   "cell_type": "code",
   "execution_count": 2,
   "metadata": {},
   "outputs": [
    {
     "data": {
      "text/plain": [
       "\"e_coli_core.json\""
      ]
     },
     "execution_count": 2,
     "metadata": {},
     "output_type": "execute_result"
    }
   ],
   "source": [
    "import Downloads\n",
    "Downloads.download(\n",
    "    \"http://bigg.ucsd.edu/static/models/e_coli_core.json\",\n",
    "    \"e_coli_core.json\",\n",
    ")"
   ]
  },
  {
   "cell_type": "markdown",
   "metadata": {},
   "source": [
    "Load the model"
   ]
  },
  {
   "cell_type": "code",
   "execution_count": 3,
   "metadata": {},
   "outputs": [],
   "source": [
    "ecoli = load_model(\"e_coli_core.json\");"
   ]
  },
  {
   "cell_type": "markdown",
   "metadata": {},
   "source": [
    "have a look at what the model contains. First, metabolites"
   ]
  },
  {
   "cell_type": "code",
   "execution_count": 4,
   "metadata": {},
   "outputs": [
    {
     "data": {
      "text/plain": [
       "72-element Vector{String}:\n",
       " \"glc__D_e\"\n",
       " \"gln__L_c\"\n",
       " \"gln__L_e\"\n",
       " \"glu__L_c\"\n",
       " \"glu__L_e\"\n",
       " \"glx_c\"\n",
       " \"h2o_c\"\n",
       " \"h2o_e\"\n",
       " \"h_c\"\n",
       " \"h_e\"\n",
       " \"icit_c\"\n",
       " \"lac__D_c\"\n",
       " \"lac__D_e\"\n",
       " ⋮\n",
       " \"e4p_c\"\n",
       " \"etoh_c\"\n",
       " \"etoh_e\"\n",
       " \"f6p_c\"\n",
       " \"fdp_c\"\n",
       " \"for_c\"\n",
       " \"for_e\"\n",
       " \"fru_e\"\n",
       " \"fum_c\"\n",
       " \"fum_e\"\n",
       " \"g3p_c\"\n",
       " \"g6p_c\""
      ]
     },
     "execution_count": 4,
     "metadata": {},
     "output_type": "execute_result"
    }
   ],
   "source": [
    "metabolites(ecoli)"
   ]
  },
  {
   "cell_type": "markdown",
   "metadata": {},
   "source": [
    "reactions"
   ]
  },
  {
   "cell_type": "code",
   "execution_count": 5,
   "metadata": {},
   "outputs": [
    {
     "data": {
      "text/plain": [
       "95-element Vector{String}:\n",
       " \"PFK\"\n",
       " \"PFL\"\n",
       " \"PGI\"\n",
       " \"PGK\"\n",
       " \"PGL\"\n",
       " \"ACALD\"\n",
       " \"AKGt2r\"\n",
       " \"PGM\"\n",
       " \"PIt2r\"\n",
       " \"ALCD2x\"\n",
       " \"ACALDt\"\n",
       " \"ACKr\"\n",
       " \"PPC\"\n",
       " ⋮\n",
       " \"ICL\"\n",
       " \"LDH_D\"\n",
       " \"MALS\"\n",
       " \"MALt2_2\"\n",
       " \"MDH\"\n",
       " \"ME1\"\n",
       " \"ME2\"\n",
       " \"NADH16\"\n",
       " \"NADTRHD\"\n",
       " \"NH4t\"\n",
       " \"O2t\"\n",
       " \"PDH\""
      ]
     },
     "execution_count": 5,
     "metadata": {},
     "output_type": "execute_result"
    }
   ],
   "source": [
    "reactions(ecoli)"
   ]
  },
  {
   "cell_type": "markdown",
   "metadata": {},
   "source": [
    "we can have a look at what each reaction does"
   ]
  },
  {
   "cell_type": "code",
   "execution_count": 6,
   "metadata": {},
   "outputs": [
    {
     "data": {
      "text/plain": [
       "Dict{String, Float64} with 5 entries:\n",
       "  \"adp_c\" => 1.0\n",
       "  \"atp_c\" => -1.0\n",
       "  \"f6p_c\" => -1.0\n",
       "  \"fdp_c\" => 1.0\n",
       "  \"h_c\"   => 1.0"
      ]
     },
     "execution_count": 6,
     "metadata": {},
     "output_type": "execute_result"
    }
   ],
   "source": [
    "reaction_stoichiometry(ecoli, \"PFK\")"
   ]
  },
  {
   "cell_type": "markdown",
   "metadata": {},
   "source": [
    "or look at which metabolites belong to which compartments (Julia looping!)"
   ]
  },
  {
   "cell_type": "code",
   "execution_count": 7,
   "metadata": {},
   "outputs": [
    {
     "data": {
      "text/plain": [
       "72-element Vector{Pair{String, String}}:\n",
       " \"glc__D_e\" => \"e\"\n",
       " \"gln__L_c\" => \"c\"\n",
       " \"gln__L_e\" => \"e\"\n",
       " \"glu__L_c\" => \"c\"\n",
       " \"glu__L_e\" => \"e\"\n",
       "    \"glx_c\" => \"c\"\n",
       "    \"h2o_c\" => \"c\"\n",
       "    \"h2o_e\" => \"e\"\n",
       "      \"h_c\" => \"c\"\n",
       "      \"h_e\" => \"e\"\n",
       "   \"icit_c\" => \"c\"\n",
       " \"lac__D_c\" => \"c\"\n",
       " \"lac__D_e\" => \"e\"\n",
       "            ⋮\n",
       "    \"e4p_c\" => \"c\"\n",
       "   \"etoh_c\" => \"c\"\n",
       "   \"etoh_e\" => \"e\"\n",
       "    \"f6p_c\" => \"c\"\n",
       "    \"fdp_c\" => \"c\"\n",
       "    \"for_c\" => \"c\"\n",
       "    \"for_e\" => \"e\"\n",
       "    \"fru_e\" => \"e\"\n",
       "    \"fum_c\" => \"c\"\n",
       "    \"fum_e\" => \"e\"\n",
       "    \"g3p_c\" => \"c\"\n",
       "    \"g6p_c\" => \"c\""
      ]
     },
     "execution_count": 7,
     "metadata": {},
     "output_type": "execute_result"
    }
   ],
   "source": [
    "[m => metabolite_compartment(ecoli, m) for m in metabolites(ecoli)]"
   ]
  },
  {
   "cell_type": "markdown",
   "metadata": {},
   "source": [
    "or try to get human-readable names from the reactions"
   ]
  },
  {
   "cell_type": "code",
   "execution_count": 8,
   "metadata": {},
   "outputs": [
    {
     "data": {
      "text/plain": [
       "95-element Vector{Pair{String, String}}:\n",
       "                    \"ACALD\" => \"Acetaldehyde dehydrogenase (acetylating)\"\n",
       "                   \"ACALDt\" => \"Acetaldehyde reversible transport\"\n",
       "                     \"ACKr\" => \"Acetate kinase\"\n",
       "                   \"ACONTa\" => \"Aconitase (half-reaction A, Citrate hydro-lyase)\"\n",
       "                   \"ACONTb\" => \"Aconitase (half-reaction B, Isocitrate hydro-lyase)\"\n",
       "                    \"ACt2r\" => \"Acetate reversible transport via proton symport\"\n",
       "                     \"ADK1\" => \"Adenylate kinase\"\n",
       "                    \"AKGDH\" => \"2-Oxogluterate dehydrogenase\"\n",
       "                   \"AKGt2r\" => \"2 oxoglutarate reversible transport via symport\"\n",
       "                   \"ALCD2x\" => \"Alcohol dehydrogenase (ethanol)\"\n",
       "                     \"ATPM\" => \"ATP maintenance requirement\"\n",
       "                   \"ATPS4r\" => \"ATP synthase (four protons for one ATP)\"\n",
       " \"BIOMASS_Ecoli_core_w_GAM\" => \"Biomass Objective Function with GAM\"\n",
       "                            ⋮\n",
       "                    \"PYRt2\" => \"Pyruvate transport in via proton symport\"\n",
       "                      \"RPE\" => \"Ribulose 5-phosphate 3-epimerase\"\n",
       "                      \"RPI\" => \"Ribose-5-phosphate isomerase\"\n",
       "                 \"SUCCt2_2\" => \"Succinate transport via proton symport (2 H)\"\n",
       "                   \"SUCCt3\" => \"Succinate transport out via proton antiport\"\n",
       "                    \"SUCDi\" => \"Succinate dehydrogenase (irreversible)\"\n",
       "                   \"SUCOAS\" => \"Succinyl-CoA synthetase (ADP-forming)\"\n",
       "                     \"TALA\" => \"Transaldolase\"\n",
       "                     \"THD2\" => \"NAD(P) transhydrogenase\"\n",
       "                     \"TKT1\" => \"Transketolase\"\n",
       "                     \"TKT2\" => \"Transketolase\"\n",
       "                      \"TPI\" => \"Triose-phosphate isomerase\""
      ]
     },
     "execution_count": 8,
     "metadata": {},
     "output_type": "execute_result"
    }
   ],
   "source": [
    "sort([r => reaction_name(ecoli, r) for r in reactions(ecoli)])"
   ]
  },
  {
   "cell_type": "markdown",
   "metadata": {},
   "source": [
    "this is useful to e.g. quickly look up dehumanized gene IDs"
   ]
  },
  {
   "cell_type": "code",
   "execution_count": 9,
   "metadata": {},
   "outputs": [
    {
     "data": {
      "text/plain": [
       "Dict{String, String} with 137 entries:\n",
       "  \"glcB\" => \"b2976\"\n",
       "  \"grcA\" => \"b2579\"\n",
       "  \"sucC\" => \"b0728\"\n",
       "  \"sthA\" => \"b3962\"\n",
       "  \"mhpF\" => \"b0351\"\n",
       "  \"adk\"  => \"b0474\"\n",
       "  \"cbdA\" => \"b0978\"\n",
       "  \"gdhA\" => \"b1761\"\n",
       "  \"pfkB\" => \"b1723\"\n",
       "  \"frdD\" => \"b4151\"\n",
       "  \"sgcE\" => \"b4301\"\n",
       "  \"fumA\" => \"b1612\"\n",
       "  \"aceB\" => \"b4014\"\n",
       "  \"tktA\" => \"b2935\"\n",
       "  \"sdhC\" => \"b0721\"\n",
       "  \"malX\" => \"b1621\"\n",
       "  \"glcA\" => \"b2975\"\n",
       "  \"glnQ\" => \"b0809\"\n",
       "  \"nuoK\" => \"b2279\"\n",
       "  \"gltP\" => \"b4077\"\n",
       "  \"pflC\" => \"b3952\"\n",
       "  \"aqpZ\" => \"b0875\"\n",
       "  \"nuoG\" => \"b2283\"\n",
       "  \"sucD\" => \"b0729\"\n",
       "  \"nuoE\" => \"b2285\"\n",
       "  ⋮      => ⋮"
      ]
     },
     "execution_count": 9,
     "metadata": {},
     "output_type": "execute_result"
    }
   ],
   "source": [
    "gs = genes(ecoli)\n",
    "Dict(gene_name.(Ref(ecoli), gs) .=> gs)"
   ]
  },
  {
   "cell_type": "markdown",
   "metadata": {},
   "source": [
    "the model's internals are described by a bipartite graph between reactions\n",
    "and metabolites, commonly stoichiometry"
   ]
  },
  {
   "cell_type": "code",
   "execution_count": 10,
   "metadata": {},
   "outputs": [
    {
     "data": {
      "text/plain": [
       "72×95 SparseArrays.SparseMatrixCSC{Float64, Int64} with 360 stored entries:\n",
       "⠀⠀⠀⠀⠀⠀⠀⠀⠀⠀⠆⠀⠀⠀⠀⠀⠀⠀⠀⠀⠀⠈⢄⠀⠀⠀⠀⠀⠀⠀⠈⠶⠴⡆⠀⠀⠀⠀⠀⠀\n",
       "⡀⢐⣀⢀⡀⡒⢒⣐⠀⣂⣂⠀⣂⣂⢂⠀⢀⠀⠀⠀⠀⠀⢀⠄⠀⠀⠀⢂⠀⢂⣀⣐⡒⡀⠆⢙⣀⠀⡀⠀\n",
       "⠀⠀⠀⠀⠀⠀⠁⠀⠀⠀⠀⠀⠀⠰⠀⠀⠀⠀⠀⠀⠀⠀⠀⠠⠀⠀⠀⠀⠀⡀⠀⠀⠀⠀⠈⢑⣀⣀⠀⠀\n",
       "⠀⠀⠃⠀⠃⠀⠀⠀⠘⠀⡇⠀⠀⠀⠀⠀⢸⠀⠀⠀⠀⠀⠀⠀⠁⠀⠀⠀⠀⠀⡜⠀⡄⣤⢠⠘⠙⢣⡇⠘\n",
       "⠀⠐⠀⡀⠀⠀⠀⠀⠀⠀⠀⠀⠀⠄⡀⠀⠀⠀⠀⠀⠀⠀⠀⠀⠐⠀⠀⠀⠀⠀⠐⠁⠉⠀⠀⠀⠀⠀⠘⠄\n",
       "⠀⢐⠀⠂⠀⠄⠠⠠⠀⠠⠆⠀⠄⠀⠄⠀⠀⠀⠀⠀⠀⠀⠀⠀⠀⠁⠀⠀⠠⠀⠠⠀⠀⢀⠀⠀⠠⠀⠀⠁\n",
       "⢀⠐⠀⠨⢀⠁⠈⣈⠀⢁⣁⠀⠀⠀⠀⠈⠀⠀⠀⠀⠀⠀⠀⠀⠀⠄⠀⠁⢀⠀⢊⠉⠀⠀⠀⢀⠀⣀⠀⢀\n",
       "⠀⠀⠀⠀⠀⠀⠀⠀⠀⠀⡈⠀⡀⠆⠀⠆⠀⡀⠀⠀⠀⠀⠀⠀⠀⠈⠀⠀⠆⠀⠀⠀⠀⠀⠀⠀⠀⠀⠆⠀\n",
       "⠀⠀⠂⠀⡂⠀⠀⠁⠀⠀⠀⠈⠁⠀⠀⠀⠄⠄⢁⠀⠀⠀⠀⠀⠀⠀⠀⠀⠀⠀⠀⠀⠀⠈⠀⠀⠀⠀⠀⠀\n",
       "⠈⠀⠁⠀⠀⢀⡀⠀⠠⠁⠁⠀⠑⠀⠐⠲⠀⠀⠀⠀⠀⠀⠀⠀⠀⠀⠂⠀⠂⠀⠀⠀⠀⠀⠀⠊⠀⠀⠀⠈\n",
       "⠄⠠⢠⠀⠰⠀⠠⠀⠤⠦⠄⠈⠀⠀⠀⠠⠀⠁⠀⡀⠀⠀⠀⠀⠀⠀⠀⠀⠀⠀⠀⠤⠄⠄⠠⠀⠀⠀⠀⠀\n",
       "⠂⠐⠀⠀⠐⡠⢐⠘⢃⠒⠂⡀⠄⠀⠀⠐⠀⠀⠀⢀⠀⠀⠀⠀⠀⠀⠀⠀⠀⠀⠀⠒⠀⢀⢀⠀⠀⣀⠀⢀\n",
       "⠈⠀⠁⠀⡀⠀⠀⠀⠈⠁⠅⠀⠁⠀⢀⠈⠄⠔⠀⠀⠀⠀⠀⠀⠀⠀⠐⠀⠀⠀⠀⠀⠀⠀⠀⠈⠀⠀⠀⠈\n",
       "⠣⠁⠀⠀⠀⠀⠀⠀⠀⠀⠁⠀⠀⠀⠈⠀⠁⠁⠀⠈⡀⠀⠀⠀⠀⠀⠐⢣⠈⠀⠀⠀⠀⠀⠀⠀⠀⠀⠀⠀\n",
       "⠀⡀⠀⠀⠀⠀⠀⠀⠀⠀⡄⠀⠀⠀⠀⠂⠄⠤⠀⠀⠈⠂⠀⠀⠀⠀⠠⠀⠊⠒⣠⠀⠀⠀⠀⠀⠀⠀⠀⠀"
      ]
     },
     "execution_count": 10,
     "metadata": {},
     "output_type": "execute_result"
    }
   ],
   "source": [
    "stoichiometry(ecoli)"
   ]
  },
  {
   "cell_type": "markdown",
   "metadata": {},
   "source": [
    "(the matrix is likely zoomed out, but otherwise it's a normal matrix)"
   ]
  },
  {
   "cell_type": "markdown",
   "metadata": {},
   "source": [
    "Let's try to build a tiny custom model\n",
    "ref: https://lcsb-biocore.github.io/COBREXA.jl/stable/examples/04b_standardmodel_construction/"
   ]
  },
  {
   "cell_type": "markdown",
   "metadata": {},
   "source": [
    "The model type for \"manually constructed\" models we call a StandardModel\n",
    "because it is kinda standard way to handle stuff in cobra community.\n",
    "Technically we can convert the above model to StandardModel and play with it:"
   ]
  },
  {
   "cell_type": "code",
   "execution_count": 11,
   "metadata": {},
   "outputs": [
    {
     "data": {
      "text/plain": [
       "0.5"
      ]
     },
     "execution_count": 11,
     "metadata": {},
     "output_type": "execute_result"
    }
   ],
   "source": [
    "ecoli = convert(StandardModel, ecoli)\n",
    "ecoli.reactions[\"PFK\"]\n",
    "ecoli.reactions[\"PFK\"].lb = 0.5"
   ]
  },
  {
   "cell_type": "markdown",
   "metadata": {},
   "source": [
    "But we want to make a completely custom model"
   ]
  },
  {
   "cell_type": "code",
   "execution_count": 12,
   "metadata": {},
   "outputs": [
    {
     "data": {
      "text/plain": [
       "Metabolic model of type StandardModel\n",
       "\n",
       "\n",
       "Number of reactions: 0\n",
       "Number of metabolites: 0\n"
      ]
     },
     "execution_count": 12,
     "metadata": {},
     "output_type": "execute_result"
    }
   ],
   "source": [
    "model = StandardModel(\"MyModel\")"
   ]
  },
  {
   "cell_type": "markdown",
   "metadata": {},
   "source": [
    "let's make some metabolites"
   ]
  },
  {
   "cell_type": "code",
   "execution_count": 13,
   "metadata": {},
   "outputs": [
    {
     "data": {
      "text/plain": [
       "Metabolite.id: c\n",
       "Metabolite.name: ---\n",
       "Metabolite.formula: ---\n",
       "Metabolite.charge: ---\n",
       "Metabolite.compartment: ---\n",
       "Metabolite.notes: ---\n",
       "Metabolite.annotations: ---\n"
      ]
     },
     "execution_count": 13,
     "metadata": {},
     "output_type": "execute_result"
    }
   ],
   "source": [
    "a = Metabolite(\"a\", name = \"molecule A\", formula = \"H2O\", compartment = \"outside\")\n",
    "b = Metabolite(\"b\") #details omitted for demonstration\n",
    "c = Metabolite(\"c\")"
   ]
  },
  {
   "cell_type": "markdown",
   "metadata": {},
   "source": [
    "Push the prepared metabolites into the model (the ! stands for \"execute!\", it\n",
    "is a syntactic convention for warning that the function changes some of the\n",
    "parameters (the model) in place)"
   ]
  },
  {
   "cell_type": "code",
   "execution_count": 14,
   "metadata": {},
   "outputs": [],
   "source": [
    "add_metabolites!(model, [a, b, c])"
   ]
  },
  {
   "cell_type": "markdown",
   "metadata": {},
   "source": [
    "let's make some reactions"
   ]
  },
  {
   "cell_type": "code",
   "execution_count": 15,
   "metadata": {},
   "outputs": [],
   "source": [
    "b1 = Reaction(\"b1\", lb = 0.0, ub = 10.0);\n",
    "b1.metabolites = Dict(\"a\" => 1);\n",
    "\n",
    "b2 = Reaction(\"b2\", lb = 0.0, ub = 10.0);\n",
    "b2.metabolites = Dict(\"b\" => -1);\n",
    "\n",
    "b3 = Reaction(\"b3\", lb = 0.0, ub = 10.0);\n",
    "b3.metabolites = Dict(\"c\" => -1);"
   ]
  },
  {
   "cell_type": "markdown",
   "metadata": {},
   "source": [
    "add the reactions to the model"
   ]
  },
  {
   "cell_type": "code",
   "execution_count": 16,
   "metadata": {},
   "outputs": [],
   "source": [
    "add_reactions!(model, [b1, b2, b3])"
   ]
  },
  {
   "cell_type": "markdown",
   "metadata": {},
   "source": [
    "shortcut for the above, makes an array of 3 reactions at once"
   ]
  },
  {
   "cell_type": "code",
   "execution_count": 17,
   "metadata": {},
   "outputs": [
    {
     "data": {
      "text/plain": [
       "3-element Vector{Reaction}:\n",
       " Reaction(\"v1\", nothing, Dict{String, Float64}(), 0.0, 10.0, nothing, nothing, Dict{String, Vector{String}}(), Dict{String, Vector{String}}(), 0.0)\n",
       " Reaction(\"v2\", nothing, Dict{String, Float64}(), 0.0, 10.0, nothing, nothing, Dict{String, Vector{String}}(), Dict{String, Vector{String}}(), 0.0)\n",
       " Reaction(\"v3\", nothing, Dict{String, Float64}(), 0.0, 10.0, nothing, nothing, Dict{String, Vector{String}}(), Dict{String, Vector{String}}(), 0.0)"
      ]
     },
     "execution_count": 17,
     "metadata": {},
     "output_type": "execute_result"
    }
   ],
   "source": [
    "list_of_reactions = [Reaction(\"v$i\", lb = 0.0, ub = 10.0) for i = 1:3]"
   ]
  },
  {
   "cell_type": "markdown",
   "metadata": {},
   "source": [
    "...and we can fill them in"
   ]
  },
  {
   "cell_type": "code",
   "execution_count": 18,
   "metadata": {},
   "outputs": [
    {
     "data": {
      "text/plain": [
       "Reaction.id: v1\n",
       "Reaction.name: ---\n",
       "Reaction.metabolites: 1.0 a →  1.0 b\n",
       "Reaction.lb: 0.0\n",
       "Reaction.ub: 10.0\n",
       "Reaction.grr: ---\n",
       "Reaction.subsystem: ---\n",
       "Reaction.notes: ---\n",
       "Reaction.annotations: ---\n",
       "Reaction.objective_coefficient: 0.0\n"
      ]
     },
     "execution_count": 18,
     "metadata": {},
     "output_type": "execute_result"
    }
   ],
   "source": [
    "list_of_reactions[1].metabolites = Dict(\"a\" => -1, \"b\" => 1)\n",
    "list_of_reactions[2].metabolites = Dict(\"a\" => -1, \"c\" => 1)\n",
    "list_of_reactions[3].metabolites = Dict(\"a\" => 1, \"c\" => -1)\n",
    "\n",
    "# INspecting one of the reactions\n",
    "rxn = list_of_reactions[1]\n",
    "rxn"
   ]
  },
  {
   "cell_type": "markdown",
   "metadata": {},
   "source": [
    "add the reactions to the model"
   ]
  },
  {
   "cell_type": "code",
   "execution_count": 19,
   "metadata": {},
   "outputs": [],
   "source": [
    "add_reactions!(model, list_of_reactions)"
   ]
  },
  {
   "cell_type": "markdown",
   "metadata": {},
   "source": [
    "let's have a look at what it looks like as a matrix"
   ]
  },
  {
   "cell_type": "code",
   "execution_count": 20,
   "metadata": {},
   "outputs": [
    {
     "data": {
      "text/plain": [
       "3×6 SparseArrays.SparseMatrixCSC{Float64, Int64} with 9 stored entries:\n",
       " 1.0    ⋅     ⋅   -1.0  -1.0   1.0\n",
       "  ⋅   -1.0    ⋅    1.0    ⋅     ⋅ \n",
       "  ⋅     ⋅   -1.0    ⋅    1.0  -1.0"
      ]
     },
     "execution_count": 20,
     "metadata": {},
     "output_type": "execute_result"
    }
   ],
   "source": [
    "stoichiometry(model)"
   ]
  },
  {
   "cell_type": "markdown",
   "metadata": {},
   "source": [
    "Now let's try to numerically solve the model. First, we need a linear solver;\n",
    "GLPK will do a good job for this purpose. Other alternatives include Tulip\n",
    "(native interior-point solver), OSQP and Clarabel (for quadratic problems),\n",
    "SCIP (free and fast), Clp, and very good commercial solvers include Gurobi\n",
    "and CPLEX (you will need to install the licenses for these manually)."
   ]
  },
  {
   "cell_type": "code",
   "execution_count": 21,
   "metadata": {},
   "outputs": [
    {
     "name": "stderr",
     "output_type": "stream",
     "text": [
      "\u001b[32m\u001b[1m   Resolving\u001b[22m\u001b[39m package versions...\n",
      "\u001b[32m\u001b[1m  No Changes\u001b[22m\u001b[39m to `~/local/research/constraint-based-modeling/summerschool-cobrexa-material/Project.toml`\n",
      "\u001b[32m\u001b[1m  No Changes\u001b[22m\u001b[39m to `~/local/research/constraint-based-modeling/summerschool-cobrexa-material/Manifest.toml`\n"
     ]
    }
   ],
   "source": [
    "Pkg.add(\"GLPK\")\n",
    "using GLPK\n",
    "\n",
    "# Pkg.add(\"SCIP\")\n",
    "# using SCIP"
   ]
  },
  {
   "cell_type": "markdown",
   "metadata": {},
   "source": [
    "\"Solving\" the model is finding optimum with respect to some reaction, thus we\n",
    "first need to choose the objective that the solver should actually optimize.\n",
    "Here, let's maximize the flux through the reaction \"v1\"."
   ]
  },
  {
   "cell_type": "code",
   "execution_count": 22,
   "metadata": {},
   "outputs": [],
   "source": [
    "change_objective!(model, \"v1\")"
   ]
  },
  {
   "cell_type": "markdown",
   "metadata": {},
   "source": [
    "You can observe the result in the model reactions' objective coefficients\n",
    "(and fine-tune that manually if needed):"
   ]
  },
  {
   "cell_type": "code",
   "execution_count": 23,
   "metadata": {},
   "outputs": [
    {
     "data": {
      "text/plain": [
       "1.0"
      ]
     },
     "execution_count": 23,
     "metadata": {},
     "output_type": "execute_result"
    }
   ],
   "source": [
    "model.reactions[\"v1\"].objective_coefficient"
   ]
  },
  {
   "cell_type": "markdown",
   "metadata": {},
   "source": [
    "Flux balance analysis finds a steady state flux through the model which is\n",
    "within the reaction flux lower and upper bounds:"
   ]
  },
  {
   "cell_type": "code",
   "execution_count": 24,
   "metadata": {},
   "outputs": [
    {
     "data": {
      "text/plain": [
       "A JuMP Model\n",
       "Maximization problem with:\n",
       "Variables: 6\n",
       "Objective function type: JuMP.AffExpr\n",
       "`JuMP.AffExpr`-in-`MathOptInterface.EqualTo{Float64}`: 3 constraints\n",
       "`JuMP.AffExpr`-in-`MathOptInterface.LessThan{Float64}`: 12 constraints\n",
       "Model mode: AUTOMATIC\n",
       "CachingOptimizer state: ATTACHED_OPTIMIZER\n",
       "Solver name: GLPK\n",
       "Names registered in the model: lbs, mb, ubs, x"
      ]
     },
     "execution_count": 24,
     "metadata": {},
     "output_type": "execute_result"
    }
   ],
   "source": [
    "solution = flux_balance_analysis(model, GLPK.Optimizer)"
   ]
  },
  {
   "cell_type": "markdown",
   "metadata": {},
   "source": [
    "The above returned a solved optimization model description. From that we can\n",
    "extract the actual value of the objective function:"
   ]
  },
  {
   "cell_type": "code",
   "execution_count": 25,
   "metadata": {},
   "outputs": [
    {
     "data": {
      "text/plain": [
       "10.0"
      ]
     },
     "execution_count": 25,
     "metadata": {},
     "output_type": "execute_result"
    }
   ],
   "source": [
    "solved_objective_value(solution)"
   ]
  },
  {
   "cell_type": "markdown",
   "metadata": {},
   "source": [
    "...and the complete description of the flux through the reactions"
   ]
  },
  {
   "cell_type": "code",
   "execution_count": 26,
   "metadata": {},
   "outputs": [
    {
     "data": {
      "text/plain": [
       "6-element Vector{Float64}:\n",
       " 10.0\n",
       " 10.0\n",
       "  0.0\n",
       " 10.0\n",
       "  0.0\n",
       "  0.0"
      ]
     },
     "execution_count": 26,
     "metadata": {},
     "output_type": "execute_result"
    }
   ],
   "source": [
    "flux_vector(model, solution)"
   ]
  },
  {
   "cell_type": "markdown",
   "metadata": {},
   "source": [
    "...or a little better as a dictionary"
   ]
  },
  {
   "cell_type": "code",
   "execution_count": 27,
   "metadata": {},
   "outputs": [
    {
     "data": {
      "text/plain": [
       "Dict{String, Float64} with 6 entries:\n",
       "  \"v2\" => 0.0\n",
       "  \"b3\" => 0.0\n",
       "  \"v1\" => 10.0\n",
       "  \"b2\" => 10.0\n",
       "  \"v3\" => 0.0\n",
       "  \"b1\" => 10.0"
      ]
     },
     "execution_count": 27,
     "metadata": {},
     "output_type": "execute_result"
    }
   ],
   "source": [
    "sol_dict = flux_dict(model, solution)"
   ]
  },
  {
   "cell_type": "code",
   "execution_count": 28,
   "metadata": {},
   "outputs": [
    {
     "name": "stderr",
     "output_type": "stream",
     "text": [
      "\u001b[32m\u001b[1m   Resolving\u001b[22m\u001b[39m package versions...\n",
      "\u001b[32m\u001b[1m  No Changes\u001b[22m\u001b[39m to `~/local/research/constraint-based-modeling/summerschool-cobrexa-material/Project.toml`\n",
      "\u001b[32m\u001b[1m  No Changes\u001b[22m\u001b[39m to `~/local/research/constraint-based-modeling/summerschool-cobrexa-material/Manifest.toml`\n"
     ]
    }
   ],
   "source": [
    "Pkg.add([\"DataFrames\", \"CSV\"])\n",
    "using DataFrames, CSV"
   ]
  },
  {
   "cell_type": "code",
   "execution_count": 29,
   "metadata": {},
   "outputs": [
    {
     "data": {
      "text/html": [
       "<div><div style = \"float: left;\"><span>6×2 DataFrame</span></div><div style = \"clear: both;\"></div></div><div class = \"data-frame\" style = \"overflow-x: scroll;\"><table class = \"data-frame\" style = \"margin-bottom: 6px;\"><thead><tr class = \"header\"><th class = \"rowNumber\" style = \"font-weight: bold; text-align: right;\">Row</th><th style = \"text-align: left;\">reaction</th><th style = \"text-align: left;\">flux</th></tr><tr class = \"subheader headerLastRow\"><th class = \"rowNumber\" style = \"font-weight: bold; text-align: right;\"></th><th title = \"String\" style = \"text-align: left;\">String</th><th title = \"Float64\" style = \"text-align: left;\">Float64</th></tr></thead><tbody><tr><td class = \"rowNumber\" style = \"font-weight: bold; text-align: right;\">1</td><td style = \"text-align: left;\">v2</td><td style = \"text-align: right;\">0.0</td></tr><tr><td class = \"rowNumber\" style = \"font-weight: bold; text-align: right;\">2</td><td style = \"text-align: left;\">b3</td><td style = \"text-align: right;\">0.0</td></tr><tr><td class = \"rowNumber\" style = \"font-weight: bold; text-align: right;\">3</td><td style = \"text-align: left;\">v1</td><td style = \"text-align: right;\">10.0</td></tr><tr><td class = \"rowNumber\" style = \"font-weight: bold; text-align: right;\">4</td><td style = \"text-align: left;\">b2</td><td style = \"text-align: right;\">10.0</td></tr><tr><td class = \"rowNumber\" style = \"font-weight: bold; text-align: right;\">5</td><td style = \"text-align: left;\">v3</td><td style = \"text-align: right;\">0.0</td></tr><tr><td class = \"rowNumber\" style = \"font-weight: bold; text-align: right;\">6</td><td style = \"text-align: left;\">b1</td><td style = \"text-align: right;\">10.0</td></tr></tbody></table></div>"
      ],
      "text/latex": [
       "\\begin{tabular}{r|cc}\n",
       "\t& reaction & flux\\\\\n",
       "\t\\hline\n",
       "\t& String & Float64\\\\\n",
       "\t\\hline\n",
       "\t1 & v2 & 0.0 \\\\\n",
       "\t2 & b3 & 0.0 \\\\\n",
       "\t3 & v1 & 10.0 \\\\\n",
       "\t4 & b2 & 10.0 \\\\\n",
       "\t5 & v3 & 0.0 \\\\\n",
       "\t6 & b1 & 10.0 \\\\\n",
       "\\end{tabular}\n"
      ],
      "text/plain": [
       "\u001b[1m6×2 DataFrame\u001b[0m\n",
       "\u001b[1m Row \u001b[0m│\u001b[1m reaction \u001b[0m\u001b[1m flux    \u001b[0m\n",
       "     │\u001b[90m String   \u001b[0m\u001b[90m Float64 \u001b[0m\n",
       "─────┼───────────────────\n",
       "   1 │ v2            0.0\n",
       "   2 │ b3            0.0\n",
       "   3 │ v1           10.0\n",
       "   4 │ b2           10.0\n",
       "   5 │ v3            0.0\n",
       "   6 │ b1           10.0"
      ]
     },
     "execution_count": 29,
     "metadata": {},
     "output_type": "execute_result"
    }
   ],
   "source": [
    "df = DataFrame(reaction = collect(keys(sol_dict)), flux = collect(values(sol_dict)))\n",
    "df"
   ]
  },
  {
   "cell_type": "markdown",
   "metadata": {},
   "source": [
    "typically, one does all of this in one step with a shortcut function:"
   ]
  },
  {
   "cell_type": "code",
   "execution_count": 30,
   "metadata": {},
   "outputs": [
    {
     "data": {
      "text/plain": [
       "Dict{String, Float64} with 6 entries:\n",
       "  \"v2\" => 0.0\n",
       "  \"b3\" => 0.0\n",
       "  \"v1\" => 10.0\n",
       "  \"b2\" => 10.0\n",
       "  \"v3\" => 0.0\n",
       "  \"b1\" => 10.0"
      ]
     },
     "execution_count": 30,
     "metadata": {},
     "output_type": "execute_result"
    }
   ],
   "source": [
    "flux = flux_balance_analysis_dict(model, GLPK.Optimizer)"
   ]
  },
  {
   "cell_type": "markdown",
   "metadata": {},
   "source": [
    "As a check, we can verify that the amount of metabolites in the model indeed\n",
    "stays balanced; if the solver worked, this vector should be zero (or within\n",
    "the numerical tolerance of zero):"
   ]
  },
  {
   "cell_type": "code",
   "execution_count": 31,
   "metadata": {},
   "outputs": [
    {
     "data": {
      "text/plain": [
       "3-element Vector{Float64}:\n",
       " 0.0\n",
       " 0.0\n",
       " 0.0"
      ]
     },
     "execution_count": 31,
     "metadata": {},
     "output_type": "execute_result"
    }
   ],
   "source": [
    "stoichiometry(model) * flux_vector(model, solution)"
   ]
  },
  {
   "cell_type": "code",
   "execution_count": 32,
   "metadata": {},
   "outputs": [
    {
     "name": "stderr",
     "output_type": "stream",
     "text": [
      "\u001b[32m\u001b[1m   Resolving\u001b[22m\u001b[39m package versions...\n",
      "\u001b[32m\u001b[1m  No Changes\u001b[22m\u001b[39m to `~/local/research/constraint-based-modeling/summerschool-cobrexa-material/Project.toml`\n",
      "\u001b[32m\u001b[1m  No Changes\u001b[22m\u001b[39m to `~/local/research/constraint-based-modeling/summerschool-cobrexa-material/Manifest.toml`\n"
     ]
    }
   ],
   "source": [
    "Pkg.add(\"SCIP\")\n",
    "using SCIP"
   ]
  },
  {
   "cell_type": "code",
   "execution_count": 33,
   "metadata": {},
   "outputs": [
    {
     "name": "stdout",
     "output_type": "stream",
     "text": [
      "feasible solution found by trivial heuristic after 0.0 seconds, objective value 0.000000e+00\n",
      "presolving:\n",
      "(round 1, fast)       1 del vars, 13 del conss, 0 add conss, 10 chg bounds, 0 chg sides, 0 chg coeffs, 0 upgd conss, 0 impls, 0 clqs\n",
      "(round 2, fast)       3 del vars, 13 del conss, 0 add conss, 10 chg bounds, 0 chg sides, 0 chg coeffs, 0 upgd conss, 0 impls, 0 clqs\n",
      "(round 3, fast)       3 del vars, 13 del conss, 0 add conss, 10 chg bounds, 1 chg sides, 0 chg coeffs, 0 upgd conss, 0 impls, 0 clqs\n",
      "   (0.0s) running MILP presolver\n",
      "   (0.0s) MILP presolver (3 rounds): 1 aggregations, 2 fixings, 0 bound changes\n",
      "presolving (4 rounds: 4 fast, 1 medium, 1 exhaustive):\n",
      " 6 deleted vars, 15 deleted constraints, 0 added constraints, 10 tightened bounds, 0 added holes, 1 changed sides, 0 changed coefficients\n",
      " 0 implications, 0 cliques\n",
      "transformed 1/2 original solutions to the transformed problem space\n",
      "Presolving Time: 0.00\n",
      "\n",
      "SCIP Status        : problem is solved [optimal solution found]\n",
      "Solving Time (sec) : 0.00\n",
      "Solving Nodes      : 0\n",
      "Primal Bound       : +1.00000000000000e+01 (2 solutions)\n",
      "Dual Bound         : +1.00000000000000e+01\n",
      "Gap                : 0.00 %\n"
     ]
    },
    {
     "data": {
      "text/plain": [
       "Dict{String, Float64} with 6 entries:\n",
       "  \"v2\" => 10.0\n",
       "  \"b3\" => 0.0\n",
       "  \"v1\" => 10.0\n",
       "  \"b2\" => 10.0\n",
       "  \"v3\" => 10.0\n",
       "  \"b1\" => 10.0"
      ]
     },
     "execution_count": 33,
     "metadata": {},
     "output_type": "execute_result"
    }
   ],
   "source": [
    "flux = flux_balance_analysis_dict(model, SCIP.Optimizer)"
   ]
  },
  {
   "cell_type": "markdown",
   "metadata": {},
   "source": [
    "---\n",
    "\n",
    "*This notebook was generated using [Literate.jl](https://github.com/fredrikekre/Literate.jl).*"
   ]
  }
 ],
 "metadata": {
  "kernelspec": {
   "display_name": "Julia 1.6.7",
   "language": "julia",
   "name": "julia-1.6"
  },
  "language_info": {
   "file_extension": ".jl",
   "mimetype": "application/julia",
   "name": "julia",
   "version": "1.6.7"
  }
 },
 "nbformat": 4,
 "nbformat_minor": 3
}
